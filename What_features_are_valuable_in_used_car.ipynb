{
  "cells": [
    {
      "cell_type": "markdown",
      "metadata": {
        "id": "view-in-github",
        "colab_type": "text"
      },
      "source": [
        "<a href=\"https://colab.research.google.com/github/aaghouse/ML_UsedCarsPrice/blob/main/What_features_are_valuable_in_used_car.ipynb\" target=\"_parent\"><img src=\"https://colab.research.google.com/assets/colab-badge.svg\" alt=\"Open In Colab\"/></a>"
      ]
    },
    {
      "cell_type": "markdown",
      "metadata": {
        "id": "B8CZOLO-ho9F"
      },
      "source": [
        "# What drives the price of a car?\n",
        "\n",
        "![](images/kurt.jpeg)"
      ]
    },
    {
      "cell_type": "markdown",
      "metadata": {
        "id": "Glpwx7Myho9I"
      },
      "source": [
        "**OVERVIEW**\n",
        "\n",
        "In this application, you will explore a dataset from kaggle. The original dataset contained information on 3 million used cars. The provided dataset contains information on 426K cars to ensure speed of processing.  Your goal is to understand what factors make a car more or less expensive.  As a result of your analysis, you should provide clear recommendations to your client -- a used car dealership -- as to what consumers value in a used car."
      ]
    },
    {
      "cell_type": "markdown",
      "metadata": {
        "id": "K-0jUyFcho9J"
      },
      "source": [
        "### CRISP-DM Framework\n",
        "\n",
        "<center>\n",
        "    <img src = images/crisp.png width = 50%/>\n",
        "</center>\n",
        "\n",
        "\n",
        "To frame the task, throughout our practical applications we will refer back to a standard process in industry for data projects called CRISP-DM.  This process provides a framework for working through a data problem.  Your first step in this application will be to read through a brief overview of CRISP-DM [here](https://mo-pcco.s3.us-east-1.amazonaws.com/BH-PCMLAI/module_11/readings_starter.zip).  After reading the overview, answer the questions below."
      ]
    },
    {
      "cell_type": "markdown",
      "metadata": {
        "id": "7hrl8teyho9J"
      },
      "source": [
        "### Business Understanding\n",
        "\n",
        "From a business perspective, we are tasked with identifying key drivers for used car prices.  In the CRISP-DM overview, we are asked to convert this business framing to a data problem definition.  Using a few sentences, reframe the task as a data task with the appropriate technical vocabulary."
      ]
    },
    {
      "cell_type": "code",
      "execution_count": null,
      "metadata": {
        "id": "Nd50i7bkho9K"
      },
      "outputs": [],
      "source": [
        "# There are about 18 features or columns from the dataset to analyze. While there are some that can be eliminated like the\n",
        "# id there are several that can paint a picture as to what consumers value and will pay premium, expected or negotiate to pay.\n",
        "# What features and in what order impacts the price of the used car ?\n",
        "# What can a dealer take away as premium, necessity or discount category of features to improve sales.?"
      ]
    },
    {
      "cell_type": "code",
      "execution_count": 25,
      "metadata": {
        "colab": {
          "base_uri": "https://localhost:8080/",
          "height": 224
        },
        "id": "pOPSf99yho9M",
        "outputId": "7eec7150-9e60-4192-ae8c-ef6c9eb26d6e"
      },
      "outputs": [
        {
          "output_type": "stream",
          "name": "stdout",
          "text": [
            "Drive already mounted at /content/drive; to attempt to forcibly remount, call drive.mount(\"/content/drive\", force_remount=True).\n"
          ]
        },
        {
          "output_type": "execute_result",
          "data": {
            "text/plain": [
              "                id   region  price    year manufacturer  \\\n",
              "426875  7301591192  wyoming  23590  2019.0       nissan   \n",
              "426876  7301591187  wyoming  30590  2020.0        volvo   \n",
              "426877  7301591147  wyoming  34990  2020.0     cadillac   \n",
              "426878  7301591140  wyoming  28990  2018.0        lexus   \n",
              "426879  7301591129  wyoming  30590  2019.0          bmw   \n",
              "\n",
              "                           model condition    cylinders    fuel  odometer  \\\n",
              "426875         maxima s sedan 4d      good  6 cylinders     gas   32226.0   \n",
              "426876  s60 t5 momentum sedan 4d      good          NaN     gas   12029.0   \n",
              "426877          xt4 sport suv 4d      good          NaN  diesel    4174.0   \n",
              "426878           es 350 sedan 4d      good  6 cylinders     gas   30112.0   \n",
              "426879  4 series 430i gran coupe      good          NaN     gas   22716.0   \n",
              "\n",
              "       title_status transmission                VIN drive size       type  \\\n",
              "426875        clean        other  1N4AA6AV6KC367801   fwd  NaN      sedan   \n",
              "426876        clean        other  7JR102FKXLG042696   fwd  NaN      sedan   \n",
              "426877        clean        other  1GYFZFR46LF088296   NaN  NaN  hatchback   \n",
              "426878        clean        other  58ABK1GG4JU103853   fwd  NaN      sedan   \n",
              "426879        clean        other  WBA4J1C58KBM14708   rwd  NaN      coupe   \n",
              "\n",
              "       paint_color state  \n",
              "426875         NaN    wy  \n",
              "426876         red    wy  \n",
              "426877       white    wy  \n",
              "426878      silver    wy  \n",
              "426879         NaN    wy  "
            ],
            "text/html": [
              "\n",
              "  <div id=\"df-434df970-c174-4703-9c95-a01523a3f5d5\" class=\"colab-df-container\">\n",
              "    <div>\n",
              "<style scoped>\n",
              "    .dataframe tbody tr th:only-of-type {\n",
              "        vertical-align: middle;\n",
              "    }\n",
              "\n",
              "    .dataframe tbody tr th {\n",
              "        vertical-align: top;\n",
              "    }\n",
              "\n",
              "    .dataframe thead th {\n",
              "        text-align: right;\n",
              "    }\n",
              "</style>\n",
              "<table border=\"1\" class=\"dataframe\">\n",
              "  <thead>\n",
              "    <tr style=\"text-align: right;\">\n",
              "      <th></th>\n",
              "      <th>id</th>\n",
              "      <th>region</th>\n",
              "      <th>price</th>\n",
              "      <th>year</th>\n",
              "      <th>manufacturer</th>\n",
              "      <th>model</th>\n",
              "      <th>condition</th>\n",
              "      <th>cylinders</th>\n",
              "      <th>fuel</th>\n",
              "      <th>odometer</th>\n",
              "      <th>title_status</th>\n",
              "      <th>transmission</th>\n",
              "      <th>VIN</th>\n",
              "      <th>drive</th>\n",
              "      <th>size</th>\n",
              "      <th>type</th>\n",
              "      <th>paint_color</th>\n",
              "      <th>state</th>\n",
              "    </tr>\n",
              "  </thead>\n",
              "  <tbody>\n",
              "    <tr>\n",
              "      <th>426875</th>\n",
              "      <td>7301591192</td>\n",
              "      <td>wyoming</td>\n",
              "      <td>23590</td>\n",
              "      <td>2019.0</td>\n",
              "      <td>nissan</td>\n",
              "      <td>maxima s sedan 4d</td>\n",
              "      <td>good</td>\n",
              "      <td>6 cylinders</td>\n",
              "      <td>gas</td>\n",
              "      <td>32226.0</td>\n",
              "      <td>clean</td>\n",
              "      <td>other</td>\n",
              "      <td>1N4AA6AV6KC367801</td>\n",
              "      <td>fwd</td>\n",
              "      <td>NaN</td>\n",
              "      <td>sedan</td>\n",
              "      <td>NaN</td>\n",
              "      <td>wy</td>\n",
              "    </tr>\n",
              "    <tr>\n",
              "      <th>426876</th>\n",
              "      <td>7301591187</td>\n",
              "      <td>wyoming</td>\n",
              "      <td>30590</td>\n",
              "      <td>2020.0</td>\n",
              "      <td>volvo</td>\n",
              "      <td>s60 t5 momentum sedan 4d</td>\n",
              "      <td>good</td>\n",
              "      <td>NaN</td>\n",
              "      <td>gas</td>\n",
              "      <td>12029.0</td>\n",
              "      <td>clean</td>\n",
              "      <td>other</td>\n",
              "      <td>7JR102FKXLG042696</td>\n",
              "      <td>fwd</td>\n",
              "      <td>NaN</td>\n",
              "      <td>sedan</td>\n",
              "      <td>red</td>\n",
              "      <td>wy</td>\n",
              "    </tr>\n",
              "    <tr>\n",
              "      <th>426877</th>\n",
              "      <td>7301591147</td>\n",
              "      <td>wyoming</td>\n",
              "      <td>34990</td>\n",
              "      <td>2020.0</td>\n",
              "      <td>cadillac</td>\n",
              "      <td>xt4 sport suv 4d</td>\n",
              "      <td>good</td>\n",
              "      <td>NaN</td>\n",
              "      <td>diesel</td>\n",
              "      <td>4174.0</td>\n",
              "      <td>clean</td>\n",
              "      <td>other</td>\n",
              "      <td>1GYFZFR46LF088296</td>\n",
              "      <td>NaN</td>\n",
              "      <td>NaN</td>\n",
              "      <td>hatchback</td>\n",
              "      <td>white</td>\n",
              "      <td>wy</td>\n",
              "    </tr>\n",
              "    <tr>\n",
              "      <th>426878</th>\n",
              "      <td>7301591140</td>\n",
              "      <td>wyoming</td>\n",
              "      <td>28990</td>\n",
              "      <td>2018.0</td>\n",
              "      <td>lexus</td>\n",
              "      <td>es 350 sedan 4d</td>\n",
              "      <td>good</td>\n",
              "      <td>6 cylinders</td>\n",
              "      <td>gas</td>\n",
              "      <td>30112.0</td>\n",
              "      <td>clean</td>\n",
              "      <td>other</td>\n",
              "      <td>58ABK1GG4JU103853</td>\n",
              "      <td>fwd</td>\n",
              "      <td>NaN</td>\n",
              "      <td>sedan</td>\n",
              "      <td>silver</td>\n",
              "      <td>wy</td>\n",
              "    </tr>\n",
              "    <tr>\n",
              "      <th>426879</th>\n",
              "      <td>7301591129</td>\n",
              "      <td>wyoming</td>\n",
              "      <td>30590</td>\n",
              "      <td>2019.0</td>\n",
              "      <td>bmw</td>\n",
              "      <td>4 series 430i gran coupe</td>\n",
              "      <td>good</td>\n",
              "      <td>NaN</td>\n",
              "      <td>gas</td>\n",
              "      <td>22716.0</td>\n",
              "      <td>clean</td>\n",
              "      <td>other</td>\n",
              "      <td>WBA4J1C58KBM14708</td>\n",
              "      <td>rwd</td>\n",
              "      <td>NaN</td>\n",
              "      <td>coupe</td>\n",
              "      <td>NaN</td>\n",
              "      <td>wy</td>\n",
              "    </tr>\n",
              "  </tbody>\n",
              "</table>\n",
              "</div>\n",
              "    <div class=\"colab-df-buttons\">\n",
              "\n",
              "  <div class=\"colab-df-container\">\n",
              "    <button class=\"colab-df-convert\" onclick=\"convertToInteractive('df-434df970-c174-4703-9c95-a01523a3f5d5')\"\n",
              "            title=\"Convert this dataframe to an interactive table.\"\n",
              "            style=\"display:none;\">\n",
              "\n",
              "  <svg xmlns=\"http://www.w3.org/2000/svg\" height=\"24px\" viewBox=\"0 -960 960 960\">\n",
              "    <path d=\"M120-120v-720h720v720H120Zm60-500h600v-160H180v160Zm220 220h160v-160H400v160Zm0 220h160v-160H400v160ZM180-400h160v-160H180v160Zm440 0h160v-160H620v160ZM180-180h160v-160H180v160Zm440 0h160v-160H620v160Z\"/>\n",
              "  </svg>\n",
              "    </button>\n",
              "\n",
              "  <style>\n",
              "    .colab-df-container {\n",
              "      display:flex;\n",
              "      gap: 12px;\n",
              "    }\n",
              "\n",
              "    .colab-df-convert {\n",
              "      background-color: #E8F0FE;\n",
              "      border: none;\n",
              "      border-radius: 50%;\n",
              "      cursor: pointer;\n",
              "      display: none;\n",
              "      fill: #1967D2;\n",
              "      height: 32px;\n",
              "      padding: 0 0 0 0;\n",
              "      width: 32px;\n",
              "    }\n",
              "\n",
              "    .colab-df-convert:hover {\n",
              "      background-color: #E2EBFA;\n",
              "      box-shadow: 0px 1px 2px rgba(60, 64, 67, 0.3), 0px 1px 3px 1px rgba(60, 64, 67, 0.15);\n",
              "      fill: #174EA6;\n",
              "    }\n",
              "\n",
              "    .colab-df-buttons div {\n",
              "      margin-bottom: 4px;\n",
              "    }\n",
              "\n",
              "    [theme=dark] .colab-df-convert {\n",
              "      background-color: #3B4455;\n",
              "      fill: #D2E3FC;\n",
              "    }\n",
              "\n",
              "    [theme=dark] .colab-df-convert:hover {\n",
              "      background-color: #434B5C;\n",
              "      box-shadow: 0px 1px 3px 1px rgba(0, 0, 0, 0.15);\n",
              "      filter: drop-shadow(0px 1px 2px rgba(0, 0, 0, 0.3));\n",
              "      fill: #FFFFFF;\n",
              "    }\n",
              "  </style>\n",
              "\n",
              "    <script>\n",
              "      const buttonEl =\n",
              "        document.querySelector('#df-434df970-c174-4703-9c95-a01523a3f5d5 button.colab-df-convert');\n",
              "      buttonEl.style.display =\n",
              "        google.colab.kernel.accessAllowed ? 'block' : 'none';\n",
              "\n",
              "      async function convertToInteractive(key) {\n",
              "        const element = document.querySelector('#df-434df970-c174-4703-9c95-a01523a3f5d5');\n",
              "        const dataTable =\n",
              "          await google.colab.kernel.invokeFunction('convertToInteractive',\n",
              "                                                    [key], {});\n",
              "        if (!dataTable) return;\n",
              "\n",
              "        const docLinkHtml = 'Like what you see? Visit the ' +\n",
              "          '<a target=\"_blank\" href=https://colab.research.google.com/notebooks/data_table.ipynb>data table notebook</a>'\n",
              "          + ' to learn more about interactive tables.';\n",
              "        element.innerHTML = '';\n",
              "        dataTable['output_type'] = 'display_data';\n",
              "        await google.colab.output.renderOutput(dataTable, element);\n",
              "        const docLink = document.createElement('div');\n",
              "        docLink.innerHTML = docLinkHtml;\n",
              "        element.appendChild(docLink);\n",
              "      }\n",
              "    </script>\n",
              "  </div>\n",
              "\n",
              "\n",
              "<div id=\"df-0f1ba86f-66e5-4a06-83c5-3165764a554f\">\n",
              "  <button class=\"colab-df-quickchart\" onclick=\"quickchart('df-0f1ba86f-66e5-4a06-83c5-3165764a554f')\"\n",
              "            title=\"Suggest charts.\"\n",
              "            style=\"display:none;\">\n",
              "\n",
              "<svg xmlns=\"http://www.w3.org/2000/svg\" height=\"24px\"viewBox=\"0 0 24 24\"\n",
              "     width=\"24px\">\n",
              "    <g>\n",
              "        <path d=\"M19 3H5c-1.1 0-2 .9-2 2v14c0 1.1.9 2 2 2h14c1.1 0 2-.9 2-2V5c0-1.1-.9-2-2-2zM9 17H7v-7h2v7zm4 0h-2V7h2v10zm4 0h-2v-4h2v4z\"/>\n",
              "    </g>\n",
              "</svg>\n",
              "  </button>\n",
              "\n",
              "<style>\n",
              "  .colab-df-quickchart {\n",
              "    background-color: #E8F0FE;\n",
              "    border: none;\n",
              "    border-radius: 50%;\n",
              "    cursor: pointer;\n",
              "    display: none;\n",
              "    fill: #1967D2;\n",
              "    height: 32px;\n",
              "    padding: 0 0 0 0;\n",
              "    width: 32px;\n",
              "  }\n",
              "\n",
              "  .colab-df-quickchart:hover {\n",
              "    background-color: #E2EBFA;\n",
              "    box-shadow: 0px 1px 2px rgba(60, 64, 67, 0.3), 0px 1px 3px 1px rgba(60, 64, 67, 0.15);\n",
              "    fill: #174EA6;\n",
              "  }\n",
              "\n",
              "  [theme=dark] .colab-df-quickchart {\n",
              "    background-color: #3B4455;\n",
              "    fill: #D2E3FC;\n",
              "  }\n",
              "\n",
              "  [theme=dark] .colab-df-quickchart:hover {\n",
              "    background-color: #434B5C;\n",
              "    box-shadow: 0px 1px 3px 1px rgba(0, 0, 0, 0.15);\n",
              "    filter: drop-shadow(0px 1px 2px rgba(0, 0, 0, 0.3));\n",
              "    fill: #FFFFFF;\n",
              "  }\n",
              "</style>\n",
              "\n",
              "  <script>\n",
              "    async function quickchart(key) {\n",
              "      const charts = await google.colab.kernel.invokeFunction(\n",
              "          'suggestCharts', [key], {});\n",
              "    }\n",
              "    (() => {\n",
              "      let quickchartButtonEl =\n",
              "        document.querySelector('#df-0f1ba86f-66e5-4a06-83c5-3165764a554f button');\n",
              "      quickchartButtonEl.style.display =\n",
              "        google.colab.kernel.accessAllowed ? 'block' : 'none';\n",
              "    })();\n",
              "  </script>\n",
              "</div>\n",
              "    </div>\n",
              "  </div>\n"
            ]
          },
          "metadata": {},
          "execution_count": 25
        }
      ],
      "source": [
        "from google.colab import drive\n",
        "drive.mount('/content/drive')\n",
        "import pandas as pd\n",
        "vehicles = pd.read_csv('/content/drive/My Drive/Colab Notebooks/AIML/Git-public-work/vehicles.csv')\n",
        "vehicles.tail()\n",
        "#print(vehicles.shape)"
      ]
    },
    {
      "cell_type": "code",
      "source": [
        "print(\"Size of the Data Set\")\n",
        "print(\"--------------------\")\n",
        "print(vehicles.shape)\n",
        "print(\"Data Understanding no of Zero values in critical 'price' and 'odometer' Features\")\n",
        "print(\"----------------------------------------------------------------------------------\")\n",
        "print(vehicles.eq(0).sum())\n",
        "print(\"Data Understanding, no of null values in critical 'price' and 'odometer' Features\")\n",
        "print(\"----------------------------------------------------------------------------------\")\n",
        "print(vehicles.isnull().sum())"
      ],
      "metadata": {
        "colab": {
          "base_uri": "https://localhost:8080/"
        },
        "id": "qD1uWmYzCVpi",
        "outputId": "0b64e68c-1466-48eb-d844-ebbe0162a2c1"
      },
      "execution_count": 33,
      "outputs": [
        {
          "output_type": "stream",
          "name": "stdout",
          "text": [
            "Size of the Data Set\n",
            "--------------------\n",
            "(426880, 18)\n",
            "Data Understanding no of Zero values in critical 'price' and 'odometer' Features\n",
            "----------------------------------------------------------------------------------\n",
            "id                  0\n",
            "region              0\n",
            "price           32895\n",
            "year                0\n",
            "manufacturer        0\n",
            "model               0\n",
            "condition           0\n",
            "cylinders           0\n",
            "fuel                0\n",
            "odometer         1965\n",
            "title_status        0\n",
            "transmission        0\n",
            "VIN                 0\n",
            "drive               0\n",
            "size                0\n",
            "type                0\n",
            "paint_color         0\n",
            "state               0\n",
            "dtype: int64\n",
            "Data Understanding, no of null values in critical 'price' and 'odometer' Features\n",
            "----------------------------------------------------------------------------------\n",
            "id                   0\n",
            "region               0\n",
            "price                0\n",
            "year              1205\n",
            "manufacturer     17646\n",
            "model             5277\n",
            "condition       174104\n",
            "cylinders       177678\n",
            "fuel              3013\n",
            "odometer          4400\n",
            "title_status      8242\n",
            "transmission      2556\n",
            "VIN             161042\n",
            "drive           130567\n",
            "size            306361\n",
            "type             92858\n",
            "paint_color     130203\n",
            "state                0\n",
            "dtype: int64\n"
          ]
        }
      ]
    },
    {
      "cell_type": "code",
      "source": [
        "import pandas as pd\n",
        "import seaborn as sns\n",
        "import matplotlib.pyplot as plt\n",
        "\n",
        "# Example data (replace this with your actual data)\n",
        "data = {\n",
        "    'feature': ['id', 'region', 'price', 'year', 'manufacturer', 'model', 'condition', 'cylinders', 'fuel', 'odometer', 'title_status', 'transmission', 'VIN', 'drive', 'size', 'type', 'paint_color', 'state'],\n",
        "    'zero_values': [0, 0, 32895, 0, 0, 0, 0, 0, 0, 1965, 0, 0, 0, 0, 0, 0, 0, 0],\n",
        "    'null_values': [0, 0, 0, 1205, 17646, 5277, 174104, 177678, 3013, 4400, 8242, 2556, 161042, 130567, 306361, 92858, 130203, 0]\n",
        "}\n",
        "\n",
        "# Convert data to a DataFrame\n",
        "df = pd.DataFrame(data)\n",
        "\n",
        "# Calculate percentages\n",
        "total_rows = 426880\n",
        "df['zero_percent'] = (df['zero_values'] / total_rows) * 100\n",
        "df['null_percent'] = (df['null_values'] / total_rows) * 100\n",
        "\n",
        "# Create a stacked bar plot using Seaborn\n",
        "plt.figure(figsize=(15, 8))\n",
        "sns.barplot(data=df, x='feature', y='zero_percent', color='blue', label='Zero Values')\n",
        "sns.barplot(data=df, x='feature', y='null_percent', color='orange', bottom=df['zero_percent'], label='Null Values')\n",
        "plt.xticks(rotation=45)\n",
        "plt.ylabel('% of Total Rows')\n",
        "plt.title('Stacked Percentage of Zero and Null Values by Feature')\n",
        "plt.legend()\n",
        "plt.tight_layout()\n",
        "plt.show()"
      ],
      "metadata": {
        "colab": {
          "base_uri": "https://localhost:8080/",
          "height": 807
        },
        "id": "fg9sqw0ZL74g",
        "outputId": "6233e9d1-827a-4b8c-894c-514372053dcd"
      },
      "execution_count": 37,
      "outputs": [
        {
          "output_type": "display_data",
          "data": {
            "text/plain": [
              "<Figure size 1500x800 with 1 Axes>"
            ],
            "image/png": "[encoded data removed]"
          },
          "metadata": {}
        }
      ]
    },
    {
      "cell_type": "code",
      "execution_count": null,
      "metadata": {
        "colab": {
          "base_uri": "https://localhost:8080/"
        },
        "id": "jd5FoF4qho9M",
        "outputId": "03b8db7d-d220-4705-f48f-6bde836975b3"
      },
      "outputs": [
        {
          "data": {
            "text/plain": [
              "array([nan, 'full-size', 'mid-size', 'compact', 'sub-compact'],\n",
              "      dtype=object)"
            ]
          },
          "execution_count": 5,
          "metadata": {},
          "output_type": "execute_result"
        }
      ],
      "source": [
        "vehicles['size'].unique()"
      ]
    },
    {
      "cell_type": "code",
      "execution_count": null,
      "metadata": {
        "colab": {
          "base_uri": "https://localhost:8080/"
        },
        "id": "SKz8plP5ho9M",
        "outputId": "e403c7cc-13db-4aea-dd26-bb490b5f264b"
      },
      "outputs": [
        {
          "data": {
            "text/plain": [
              "array([nan, 'good', 'excellent', 'fair', 'like new', 'new', 'salvage'],\n",
              "      dtype=object)"
            ]
          },
          "execution_count": 6,
          "metadata": {},
          "output_type": "execute_result"
        }
      ],
      "source": [
        "vehicles['condition'].unique()"
      ]
    },
    {
      "cell_type": "code",
      "execution_count": null,
      "metadata": {
        "colab": {
          "base_uri": "https://localhost:8080/"
        },
        "id": "8FXA0GhQhAk9",
        "outputId": "5d38fe7b-dbef-47ba-ec69-4a804ac1b5db"
      },
      "outputs": [
        {
          "data": {
            "text/plain": [
              "array([nan, '8 cylinders', '6 cylinders', '4 cylinders', '5 cylinders',\n",
              "       'other', '3 cylinders', '10 cylinders', '12 cylinders'],\n",
              "      dtype=object)"
            ]
          },
          "execution_count": 7,
          "metadata": {},
          "output_type": "execute_result"
        }
      ],
      "source": [
        "vehicles['cylinders'].unique()"
      ]
    },
    {
      "cell_type": "code",
      "execution_count": null,
      "metadata": {
        "colab": {
          "base_uri": "https://localhost:8080/"
        },
        "id": "kGx9wPJbhKY6",
        "outputId": "64efab39-d799-40c1-d133-6b19028014a5"
      },
      "outputs": [
        {
          "data": {
            "text/plain": [
              "array([nan, 'clean', 'rebuilt', 'lien', 'salvage', 'missing',\n",
              "       'parts only'], dtype=object)"
            ]
          },
          "execution_count": 8,
          "metadata": {},
          "output_type": "execute_result"
        }
      ],
      "source": [
        "vehicles['title_status'].unique()"
      ]
    },
    {
      "cell_type": "code",
      "execution_count": null,
      "metadata": {
        "colab": {
          "base_uri": "https://localhost:8080/"
        },
        "id": "Fn1NhCYUlq89",
        "outputId": "afc1506d-2ce5-46c4-b5d2-66297444f718"
      },
      "outputs": [
        {
          "data": {
            "text/plain": [
              "array([nan, 'white', 'blue', 'red', 'black', 'silver', 'grey', 'brown',\n",
              "       'yellow', 'orange', 'green', 'custom', 'purple'], dtype=object)"
            ]
          },
          "execution_count": 9,
          "metadata": {},
          "output_type": "execute_result"
        }
      ],
      "source": [
        "vehicles['paint_color'].unique()"
      ]
    },
    {
      "cell_type": "code",
      "execution_count": null,
      "metadata": {
        "colab": {
          "base_uri": "https://localhost:8080/"
        },
        "id": "tH1Likbbl9Tn",
        "outputId": "c9f7b637-77c6-4045-a166-82327dd83ef7"
      },
      "outputs": [
        {
          "data": {
            "text/plain": [
              "array([nan, 'rwd', '4wd', 'fwd'], dtype=object)"
            ]
          },
          "execution_count": 10,
          "metadata": {},
          "output_type": "execute_result"
        }
      ],
      "source": [
        "vehicles['drive'].unique()"
      ]
    },
    {
      "cell_type": "code",
      "execution_count": null,
      "metadata": {
        "colab": {
          "base_uri": "https://localhost:8080/"
        },
        "id": "Ux295y2_mH3y",
        "outputId": "e84eb1ce-944c-4ec6-aecc-0a8cb7d4c314"
      },
      "outputs": [
        {
          "data": {
            "text/plain": [
              "array([nan, 'gmc', 'chevrolet', 'toyota', 'ford', 'jeep', 'nissan', 'ram',\n",
              "       'mazda', 'cadillac', 'honda', 'dodge', 'lexus', 'jaguar', 'buick',\n",
              "       'chrysler', 'volvo', 'audi', 'infiniti', 'lincoln', 'alfa-romeo',\n",
              "       'subaru', 'acura', 'hyundai', 'mercedes-benz', 'bmw', 'mitsubishi',\n",
              "       'volkswagen', 'porsche', 'kia', 'rover', 'ferrari', 'mini',\n",
              "       'pontiac', 'fiat', 'tesla', 'saturn', 'mercury', 'harley-davidson',\n",
              "       'datsun', 'aston-martin', 'land rover', 'morgan'], dtype=object)"
            ]
          },
          "execution_count": 11,
          "metadata": {},
          "output_type": "execute_result"
        }
      ],
      "source": [
        "vehicles['manufacturer'].unique()"
      ]
    },
    {
      "cell_type": "markdown",
      "metadata": {
        "id": "TVuL9MhUho9M"
      },
      "source": [
        "### Data Understanding\n",
        "\n",
        "After considering the business understanding, we want to get familiar with our data.  Write down some steps that you would take to get to know the dataset and identify any quality issues within.  Take time to get to know the dataset and explore what information it contains and how this could be used to inform your business understanding."
      ]
    },
    {
      "cell_type": "code",
      "execution_count": 3,
      "metadata": {
        "colab": {
          "base_uri": "https://localhost:8080/",
          "height": 224
        },
        "id": "uD4Pm_FAho9N",
        "outputId": "f41d181d-6996-4858-bf76-9c8a38869967"
      },
      "outputs": [
        {
          "output_type": "stream",
          "name": "stdout",
          "text": [
            "1965 32895\n"
          ]
        },
        {
          "output_type": "execute_result",
          "data": {
            "text/plain": [
              "                id   region  price    year manufacturer  \\\n",
              "426875  7301591192  wyoming  23590  2019.0       nissan   \n",
              "426876  7301591187  wyoming  30590  2020.0        volvo   \n",
              "426877  7301591147  wyoming  34990  2020.0     cadillac   \n",
              "426878  7301591140  wyoming  28990  2018.0        lexus   \n",
              "426879  7301591129  wyoming  30590  2019.0          bmw   \n",
              "\n",
              "                           model condition    cylinders    fuel  odometer  \\\n",
              "426875         maxima s sedan 4d      good  6 cylinders     gas   32226.0   \n",
              "426876  s60 t5 momentum sedan 4d      good          NaN     gas   12029.0   \n",
              "426877          xt4 sport suv 4d      good          NaN  diesel    4174.0   \n",
              "426878           es 350 sedan 4d      good  6 cylinders     gas   30112.0   \n",
              "426879  4 series 430i gran coupe      good          NaN     gas   22716.0   \n",
              "\n",
              "       title_status transmission                VIN drive size       type  \\\n",
              "426875        clean        other  1N4AA6AV6KC367801   fwd  NaN      sedan   \n",
              "426876        clean        other  7JR102FKXLG042696   fwd  NaN      sedan   \n",
              "426877        clean        other  1GYFZFR46LF088296   NaN  NaN  hatchback   \n",
              "426878        clean        other  58ABK1GG4JU103853   fwd  NaN      sedan   \n",
              "426879        clean        other  WBA4J1C58KBM14708   rwd  NaN      coupe   \n",
              "\n",
              "       paint_color state  \n",
              "426875         NaN    wy  \n",
              "426876         red    wy  \n",
              "426877       white    wy  \n",
              "426878      silver    wy  \n",
              "426879         NaN    wy  "
            ],
            "text/html": [
              "\n",
              "  <div id=\"df-f155dc81-a359-455e-8eed-cfbb00e97b64\" class=\"colab-df-container\">\n",
              "    <div>\n",
              "<style scoped>\n",
              "    .dataframe tbody tr th:only-of-type {\n",
              "        vertical-align: middle;\n",
              "    }\n",
              "\n",
              "    .dataframe tbody tr th {\n",
              "        vertical-align: top;\n",
              "    }\n",
              "\n",
              "    .dataframe thead th {\n",
              "        text-align: right;\n",
              "    }\n",
              "</style>\n",
              "<table border=\"1\" class=\"dataframe\">\n",
              "  <thead>\n",
              "    <tr style=\"text-align: right;\">\n",
              "      <th></th>\n",
              "      <th>id</th>\n",
              "      <th>region</th>\n",
              "      <th>price</th>\n",
              "      <th>year</th>\n",
              "      <th>manufacturer</th>\n",
              "      <th>model</th>\n",
              "      <th>condition</th>\n",
              "      <th>cylinders</th>\n",
              "      <th>fuel</th>\n",
              "      <th>odometer</th>\n",
              "      <th>title_status</th>\n",
              "      <th>transmission</th>\n",
              "      <th>VIN</th>\n",
              "      <th>drive</th>\n",
              "      <th>size</th>\n",
              "      <th>type</th>\n",
              "      <th>paint_color</th>\n",
              "      <th>state</th>\n",
              "    </tr>\n",
              "  </thead>\n",
              "  <tbody>\n",
              "    <tr>\n",
              "      <th>426875</th>\n",
              "      <td>7301591192</td>\n",
              "      <td>wyoming</td>\n",
              "      <td>23590</td>\n",
              "      <td>2019.0</td>\n",
              "      <td>nissan</td>\n",
              "      <td>maxima s sedan 4d</td>\n",
              "      <td>good</td>\n",
              "      <td>6 cylinders</td>\n",
              "      <td>gas</td>\n",
              "      <td>32226.0</td>\n",
              "      <td>clean</td>\n",
              "      <td>other</td>\n",
              "      <td>1N4AA6AV6KC367801</td>\n",
              "      <td>fwd</td>\n",
              "      <td>NaN</td>\n",
              "      <td>sedan</td>\n",
              "      <td>NaN</td>\n",
              "      <td>wy</td>\n",
              "    </tr>\n",
              "    <tr>\n",
              "      <th>426876</th>\n",
              "      <td>7301591187</td>\n",
              "      <td>wyoming</td>\n",
              "      <td>30590</td>\n",
              "      <td>2020.0</td>\n",
              "      <td>volvo</td>\n",
              "      <td>s60 t5 momentum sedan 4d</td>\n",
              "      <td>good</td>\n",
              "      <td>NaN</td>\n",
              "      <td>gas</td>\n",
              "      <td>12029.0</td>\n",
              "      <td>clean</td>\n",
              "      <td>other</td>\n",
              "      <td>7JR102FKXLG042696</td>\n",
              "      <td>fwd</td>\n",
              "      <td>NaN</td>\n",
              "      <td>sedan</td>\n",
              "      <td>red</td>\n",
              "      <td>wy</td>\n",
              "    </tr>\n",
              "    <tr>\n",
              "      <th>426877</th>\n",
              "      <td>7301591147</td>\n",
              "      <td>wyoming</td>\n",
              "      <td>34990</td>\n",
              "      <td>2020.0</td>\n",
              "      <td>cadillac</td>\n",
              "      <td>xt4 sport suv 4d</td>\n",
              "      <td>good</td>\n",
              "      <td>NaN</td>\n",
              "      <td>diesel</td>\n",
              "      <td>4174.0</td>\n",
              "      <td>clean</td>\n",
              "      <td>other</td>\n",
              "      <td>1GYFZFR46LF088296</td>\n",
              "      <td>NaN</td>\n",
              "      <td>NaN</td>\n",
              "      <td>hatchback</td>\n",
              "      <td>white</td>\n",
              "      <td>wy</td>\n",
              "    </tr>\n",
              "    <tr>\n",
              "      <th>426878</th>\n",
              "      <td>7301591140</td>\n",
              "      <td>wyoming</td>\n",
              "      <td>28990</td>\n",
              "      <td>2018.0</td>\n",
              "      <td>lexus</td>\n",
              "      <td>es 350 sedan 4d</td>\n",
              "      <td>good</td>\n",
              "      <td>6 cylinders</td>\n",
              "      <td>gas</td>\n",
              "      <td>30112.0</td>\n",
              "      <td>clean</td>\n",
              "      <td>other</td>\n",
              "      <td>58ABK1GG4JU103853</td>\n",
              "      <td>fwd</td>\n",
              "      <td>NaN</td>\n",
              "      <td>sedan</td>\n",
              "      <td>silver</td>\n",
              "      <td>wy</td>\n",
              "    </tr>\n",
              "    <tr>\n",
              "      <th>426879</th>\n",
              "      <td>7301591129</td>\n",
              "      <td>wyoming</td>\n",
              "      <td>30590</td>\n",
              "      <td>2019.0</td>\n",
              "      <td>bmw</td>\n",
              "      <td>4 series 430i gran coupe</td>\n",
              "      <td>good</td>\n",
              "      <td>NaN</td>\n",
              "      <td>gas</td>\n",
              "      <td>22716.0</td>\n",
              "      <td>clean</td>\n",
              "      <td>other</td>\n",
              "      <td>WBA4J1C58KBM14708</td>\n",
              "      <td>rwd</td>\n",
              "      <td>NaN</td>\n",
              "      <td>coupe</td>\n",
              "      <td>NaN</td>\n",
              "      <td>wy</td>\n",
              "    </tr>\n",
              "  </tbody>\n",
              "</table>\n",
              "</div>\n",
              "    <div class=\"colab-df-buttons\">\n",
              "\n",
              "  <div class=\"colab-df-container\">\n",
              "    <button class=\"colab-df-convert\" onclick=\"convertToInteractive('df-f155dc81-a359-455e-8eed-cfbb00e97b64')\"\n",
              "            title=\"Convert this dataframe to an interactive table.\"\n",
              "            style=\"display:none;\">\n",
              "\n",
              "  <svg xmlns=\"http://www.w3.org/2000/svg\" height=\"24px\" viewBox=\"0 -960 960 960\">\n",
              "    <path d=\"M120-120v-720h720v720H120Zm60-500h600v-160H180v160Zm220 220h160v-160H400v160Zm0 220h160v-160H400v160ZM180-400h160v-160H180v160Zm440 0h160v-160H620v160ZM180-180h160v-160H180v160Zm440 0h160v-160H620v160Z\"/>\n",
              "  </svg>\n",
              "    </button>\n",
              "\n",
              "  <style>\n",
              "    .colab-df-container {\n",
              "      display:flex;\n",
              "      gap: 12px;\n",
              "    }\n",
              "\n",
              "    .colab-df-convert {\n",
              "      background-color: #E8F0FE;\n",
              "      border: none;\n",
              "      border-radius: 50%;\n",
              "      cursor: pointer;\n",
              "      display: none;\n",
              "      fill: #1967D2;\n",
              "      height: 32px;\n",
              "      padding: 0 0 0 0;\n",
              "      width: 32px;\n",
              "    }\n",
              "\n",
              "    .colab-df-convert:hover {\n",
              "      background-color: #E2EBFA;\n",
              "      box-shadow: 0px 1px 2px rgba(60, 64, 67, 0.3), 0px 1px 3px 1px rgba(60, 64, 67, 0.15);\n",
              "      fill: #174EA6;\n",
              "    }\n",
              "\n",
              "    .colab-df-buttons div {\n",
              "      margin-bottom: 4px;\n",
              "    }\n",
              "\n",
              "    [theme=dark] .colab-df-convert {\n",
              "      background-color: #3B4455;\n",
              "      fill: #D2E3FC;\n",
              "    }\n",
              "\n",
              "    [theme=dark] .colab-df-convert:hover {\n",
              "      background-color: #434B5C;\n",
              "      box-shadow: 0px 1px 3px 1px rgba(0, 0, 0, 0.15);\n",
              "      filter: drop-shadow(0px 1px 2px rgba(0, 0, 0, 0.3));\n",
              "      fill: #FFFFFF;\n",
              "    }\n",
              "  </style>\n",
              "\n",
              "    <script>\n",
              "      const buttonEl =\n",
              "        document.querySelector('#df-f155dc81-a359-455e-8eed-cfbb00e97b64 button.colab-df-convert');\n",
              "      buttonEl.style.display =\n",
              "        google.colab.kernel.accessAllowed ? 'block' : 'none';\n",
              "\n",
              "      async function convertToInteractive(key) {\n",
              "        const element = document.querySelector('#df-f155dc81-a359-455e-8eed-cfbb00e97b64');\n",
              "        const dataTable =\n",
              "          await google.colab.kernel.invokeFunction('convertToInteractive',\n",
              "                                                    [key], {});\n",
              "        if (!dataTable) return;\n",
              "\n",
              "        const docLinkHtml = 'Like what you see? Visit the ' +\n",
              "          '<a target=\"_blank\" href=https://colab.research.google.com/notebooks/data_table.ipynb>data table notebook</a>'\n",
              "          + ' to learn more about interactive tables.';\n",
              "        element.innerHTML = '';\n",
              "        dataTable['output_type'] = 'display_data';\n",
              "        await google.colab.output.renderOutput(dataTable, element);\n",
              "        const docLink = document.createElement('div');\n",
              "        docLink.innerHTML = docLinkHtml;\n",
              "        element.appendChild(docLink);\n",
              "      }\n",
              "    </script>\n",
              "  </div>\n",
              "\n",
              "\n",
              "<div id=\"df-4847949c-fb05-423b-bce5-1cba004c7d60\">\n",
              "  <button class=\"colab-df-quickchart\" onclick=\"quickchart('df-4847949c-fb05-423b-bce5-1cba004c7d60')\"\n",
              "            title=\"Suggest charts.\"\n",
              "            style=\"display:none;\">\n",
              "\n",
              "<svg xmlns=\"http://www.w3.org/2000/svg\" height=\"24px\"viewBox=\"0 0 24 24\"\n",
              "     width=\"24px\">\n",
              "    <g>\n",
              "        <path d=\"M19 3H5c-1.1 0-2 .9-2 2v14c0 1.1.9 2 2 2h14c1.1 0 2-.9 2-2V5c0-1.1-.9-2-2-2zM9 17H7v-7h2v7zm4 0h-2V7h2v10zm4 0h-2v-4h2v4z\"/>\n",
              "    </g>\n",
              "</svg>\n",
              "  </button>\n",
              "\n",
              "<style>\n",
              "  .colab-df-quickchart {\n",
              "    background-color: #E8F0FE;\n",
              "    border: none;\n",
              "    border-radius: 50%;\n",
              "    cursor: pointer;\n",
              "    display: none;\n",
              "    fill: #1967D2;\n",
              "    height: 32px;\n",
              "    padding: 0 0 0 0;\n",
              "    width: 32px;\n",
              "  }\n",
              "\n",
              "  .colab-df-quickchart:hover {\n",
              "    background-color: #E2EBFA;\n",
              "    box-shadow: 0px 1px 2px rgba(60, 64, 67, 0.3), 0px 1px 3px 1px rgba(60, 64, 67, 0.15);\n",
              "    fill: #174EA6;\n",
              "  }\n",
              "\n",
              "  [theme=dark] .colab-df-quickchart {\n",
              "    background-color: #3B4455;\n",
              "    fill: #D2E3FC;\n",
              "  }\n",
              "\n",
              "  [theme=dark] .colab-df-quickchart:hover {\n",
              "    background-color: #434B5C;\n",
              "    box-shadow: 0px 1px 3px 1px rgba(0, 0, 0, 0.15);\n",
              "    filter: drop-shadow(0px 1px 2px rgba(0, 0, 0, 0.3));\n",
              "    fill: #FFFFFF;\n",
              "  }\n",
              "</style>\n",
              "\n",
              "  <script>\n",
              "    async function quickchart(key) {\n",
              "      const charts = await google.colab.kernel.invokeFunction(\n",
              "          'suggestCharts', [key], {});\n",
              "    }\n",
              "    (() => {\n",
              "      let quickchartButtonEl =\n",
              "        document.querySelector('#df-4847949c-fb05-423b-bce5-1cba004c7d60 button');\n",
              "      quickchartButtonEl.style.display =\n",
              "        google.colab.kernel.accessAllowed ? 'block' : 'none';\n",
              "    })();\n",
              "  </script>\n",
              "</div>\n",
              "    </div>\n",
              "  </div>\n"
            ]
          },
          "metadata": {},
          "execution_count": 3
        }
      ],
      "source": [
        "import matplotlib.pyplot as plt\n",
        "import numpy as np\n",
        "import pandas as pd\n",
        "from sklearn.preprocessing import LabelEncoder\n",
        "from sklearn.model_selection import train_test_split\n",
        "from sklearn.metrics import mean_squared_error\n",
        "from sklearn.inspection import permutation_importance\n",
        "from sklearn.linear_model import LinearRegression, Ridge, Lasso\n",
        "from sklearn.impute import KNNImputer\n",
        "vehicles = pd.read_csv('/content/drive/My Drive/Colab Notebooks/AIML/Git-public-work/vehicles.csv')\n",
        "print(vehicles['odometer'].eq(0).sum(), vehicles['price'].eq(0).sum())\n",
        "vehicles.tail()\n"
      ]
    },
    {
      "cell_type": "code",
      "execution_count": null,
      "metadata": {
        "id": "3H5-sesaho9O"
      },
      "outputs": [],
      "source": []
    },
    {
      "cell_type": "code",
      "execution_count": null,
      "metadata": {
        "id": "al-y0bLjho9O"
      },
      "outputs": [],
      "source": []
    },
    {
      "cell_type": "code",
      "execution_count": null,
      "metadata": {
        "colab": {
          "base_uri": "https://localhost:8080/"
        },
        "id": "VYWImfcRho9O",
        "outputId": "9ed9d3b4-46cb-40a6-de67-b246e3adf92c"
      },
      "outputs": [
        {
          "name": "stdout",
          "output_type": "stream",
          "text": [
            "/content\n"
          ]
        }
      ],
      "source": []
    },
    {
      "cell_type": "markdown",
      "metadata": {
        "id": "3KPbzWK4ho9O"
      },
      "source": [
        "### Data Preparation\n",
        "\n",
        "After our initial exploration and fine tuning of the business understanding, it is time to construct our final dataset prior to modeling.  Here, we want to make sure to handle any integrity issues and cleaning, the engineering of new features, any transformations that we believe should happen (scaling, logarithms, normalization, etc.), and general preparation for modeling with `sklearn`."
      ]
    },
    {
      "cell_type": "code",
      "execution_count": null,
      "metadata": {
        "colab": {
          "base_uri": "https://localhost:8080/"
        },
        "id": "r4u3p0wLlCpg",
        "outputId": "010b49a2-33a3-40db-cb42-6cd00765174e"
      },
      "outputs": [
        {
          "name": "stdout",
          "output_type": "stream",
          "text": [
            "0 0\n"
          ]
        }
      ],
      "source": [
        "vehicles.drop(['id', 'VIN'], axis=1, inplace=True)\n",
        "vehicles[['odometer', 'price']] = vehicles[['odometer', 'price']].replace(0, np.nan)\n",
        "columns_to_impute = ['odometer', 'price']\n",
        "knn_imputer = KNNImputer(n_neighbors=2)\n",
        "imputed_values = knn_imputer.fit_transform(vehicles[columns_to_impute])\n",
        "vehicles_imp = vehicles.copy()\n",
        "vehicles_imp[columns_to_impute] = imputed_values\n",
        "print(vehicles_imp['odometer'].eq(0).sum(), vehicles_imp['price'].eq(0).sum())\n",
        "#Imputed odometer and price zero or suspecious values with knn_imputer and filled it"
      ]
    },
    {
      "cell_type": "code",
      "execution_count": null,
      "metadata": {
        "id": "f_LsqFZnk1qD"
      },
      "outputs": [],
      "source": [
        "vehicles_imp['cylinders'] = vehicles_imp['cylinders'].fillna('np.nan')\n",
        "cyl_order = [np.nan, 'other', '3 cylinders', '4 cylinders', '5 cylinders', '6 cylinders', '8 cylinders', '10 cylinders', '12 cylinders']\n",
        "cyl_mapping = {value: index for index, value in enumerate(cyl_order)}\n",
        "vehicles_imp['cylinders_labenc'] = vehicles['cylinders'].map(cyl_mapping)\n",
        "vehicles_imp.drop(['cylinders'], axis=1, inplace=True)\n",
        "#print(cyl_mapping)\n",
        "#Mapping table: {nan: 0, 'other': 1, '3 cylinders': 2, '4 cylinders': 3, '5 cylinders': 4, '6 cylinders': 5, '8 cylinders': 6, '10 cylinders': 7, '12 cylinders': 8}\n",
        "#Used LabelEncoder approach to address ordinal variables, droppd orig cylinders column\n"
      ]
    },
    {
      "cell_type": "code",
      "execution_count": null,
      "metadata": {
        "colab": {
          "base_uri": "https://localhost:8080/"
        },
        "id": "y_d73kDoYgXy",
        "outputId": "71ea6412-23ad-445d-ce19-947178f82555"
      },
      "outputs": [
        {
          "name": "stdout",
          "output_type": "stream",
          "text": [
            "0\n"
          ]
        }
      ],
      "source": [
        "vehicles_imp['cylinders_labenc'] = vehicles_imp['cylinders_labenc'].replace(0, np.nan)\n",
        "cylcol_to_imp = ['cylinders_labenc']\n",
        "knn_imputer_cyl = KNNImputer(n_neighbors=2)\n",
        "imputed_val_cyl = knn_imputer_cyl.fit_transform(vehicles_imp[cylcol_to_imp])\n",
        "vehicles_imp2 = vehicles_imp.copy()\n",
        "vehicles_imp2[cylcol_to_imp] = imputed_val_cyl\n",
        "print(vehicles_imp2['cylinders_labenc'].eq(0).sum())\n",
        "#Large cylinders_labelenc column has zeros(conversion from Nan), filled with knnImputer"
      ]
    },
    {
      "cell_type": "code",
      "execution_count": null,
      "metadata": {
        "colab": {
          "base_uri": "https://localhost:8080/"
        },
        "id": "T5JunWIuWQVM",
        "outputId": "ecf680f8-5946-4386-9ebf-08e7b03ca70d"
      },
      "outputs": [
        {
          "name": "stdout",
          "output_type": "stream",
          "text": [
            "{nan: 0, 'sub-compact': 1, 'compact': 2, 'mid-size': 3, 'full-size': 4}\n"
          ]
        }
      ],
      "source": [
        "vehicles_imp2['size'] = vehicles_imp2['size'].fillna('np.nan')\n",
        "size_order = [np.nan, 'sub-compact', 'compact', 'mid-size', 'full-size']\n",
        "size_mapping = {value: index for index, value in enumerate(size_order)}\n",
        "vehicles_imp2['size_labenc'] = vehicles['size'].map(size_mapping)\n",
        "vehicles_imp2.drop(['size'], axis=1, inplace=True)\n",
        "print(size_mapping)\n",
        "#Mapping table: {nan: 0, 'sub-compact': 1, 'compact': 2, 'mid-size': 3, 'full-size': 4}\n",
        "#Used LabelEncoder approach to address ordinal variables, droppd orig size column"
      ]
    },
    {
      "cell_type": "code",
      "execution_count": null,
      "metadata": {
        "colab": {
          "base_uri": "https://localhost:8080/"
        },
        "id": "wbhBaGp-gbeh",
        "outputId": "73ef9eed-9127-428e-8453-e215d8fedeaf"
      },
      "outputs": [
        {
          "name": "stdout",
          "output_type": "stream",
          "text": [
            "0\n"
          ]
        }
      ],
      "source": [
        "vehicles_imp2['size_labenc'] = vehicles_imp2['size_labenc'].replace(0, np.nan)\n",
        "szcol_to_imp = ['size_labenc']\n",
        "knn_imputer_sz = KNNImputer(n_neighbors=2)\n",
        "imputed_val_sz = knn_imputer_sz.fit_transform(vehicles_imp2[szcol_to_imp])\n",
        "vehicles_imp3 = vehicles_imp2.copy()\n",
        "vehicles_imp3[szcol_to_imp] = imputed_val_sz\n",
        "print(vehicles_imp3['size_labenc'].eq(0).sum())\n",
        "#Large size_labelenc column has zeros(conversion from Nan), filled with knnImputer (largest unknown column)"
      ]
    },
    {
      "cell_type": "code",
      "execution_count": null,
      "metadata": {
        "id": "4KOJtnXd75fV"
      },
      "outputs": [],
      "source": [
        "vehicles_imp3['condition'] = vehicles_imp3['condition'].fillna('np.nan')\n",
        "condition_order = [np.nan, 'salvage', 'new', 'like new', 'fair', 'good', 'excellent']\n",
        "condition_mapping = {value: index for index, value in enumerate(condition_order)}\n",
        "vehicles_imp3['condition_labenc'] = vehicles_imp3['condition'].map(condition_mapping)\n",
        "vehicles_imp3.drop(['condition'], axis=1, inplace=True)\n",
        "#print(condition_mapping)\n",
        "#Mapping table: {nan: 0, 'salvage': 1, 'new': 2, 'like new': 3, 'fair': 4, 'good': 5, 'excellent': 6}\n",
        "# labelencoded ordinal conditions column and dropped condition"
      ]
    },
    {
      "cell_type": "code",
      "execution_count": null,
      "metadata": {
        "colab": {
          "base_uri": "https://localhost:8080/"
        },
        "id": "oT8dWYDlwjLU",
        "outputId": "0a2dcf39-794b-4f92-dd74-875964205c1b"
      },
      "outputs": [
        {
          "name": "stdout",
          "output_type": "stream",
          "text": [
            "0\n"
          ]
        }
      ],
      "source": [
        "vehicles_imp3['condition_labenc'] = vehicles_imp3['condition_labenc'].replace(0, np.nan)\n",
        "conditioncol_to_imp = ['condition_labenc']\n",
        "knn_imputer_condition = KNNImputer(n_neighbors=2)\n",
        "imputed_val_condition = knn_imputer_sz.fit_transform(vehicles_imp3[conditioncol_to_imp])\n",
        "vehicles_imp4 = vehicles_imp3.copy()\n",
        "vehicles_imp4[conditioncol_to_imp] = imputed_val_condition\n",
        "print(vehicles_imp4['condition_labenc'].eq(0).sum())\n",
        "## condition_labelenc column has zeros(conversion from Nan), filled with knnImputer"
      ]
    },
    {
      "cell_type": "code",
      "execution_count": null,
      "metadata": {
        "id": "SL-37gqK88QL"
      },
      "outputs": [],
      "source": [
        "from google.colab import files\n",
        "vehicles_imp4.to_csv('/content/drive/My Drive/Colab Notebooks/AIML/Git-public-work/vehicles_imp4.csv', encoding = 'utf-8-sig')"
      ]
    },
    {
      "cell_type": "markdown",
      "metadata": {
        "id": "aFNF0L2y4EZF"
      },
      "source": []
    },
    {
      "cell_type": "code",
      "execution_count": null,
      "metadata": {
        "colab": {
          "base_uri": "https://localhost:8080/"
        },
        "id": "KhygVGnG9YDz",
        "outputId": "c293d89b-3ab1-4c1d-93c2-93c2cc7c8093"
      },
      "outputs": [
        {
          "name": "stdout",
          "output_type": "stream",
          "text": [
            "{nan: 0, 'parts only': 1, 'missing': 2, 'salvage': 3, 'lien': 4, 'rebuilt': 5, 'clean': 6}\n"
          ]
        }
      ],
      "source": [
        "vehicles_imp4 = pd.read_csv('/content/drive/My Drive/Colab Notebooks/AIML/Git-public-work/vehicles_imp4.csv')\n",
        "vehicles_imp4['title_status'] = vehicles_imp4['title_status'].fillna('np.nan')\n",
        "title_status_order = [np.nan, 'parts only', 'missing', 'salvage', 'lien', 'rebuilt', 'clean']\n",
        "title_mapping = {value: index for index, value in enumerate(title_status_order)}\n",
        "vehicles_imp4['title_status_labenc'] = vehicles_imp4['title_status'].map(title_mapping)\n",
        "vehicles_imp4.drop(['title_status'], axis=1, inplace=True)\n",
        "print(title_mapping)\n",
        "#Mapping table: {nan: 0, 'parts only': 1, 'missing': 2, 'salvage': 3, 'lien': 4, 'rebuilt': 5, 'clean': 6}\n",
        "# labelencoded ordinal title_status column and dropped title_status"
      ]
    },
    {
      "cell_type": "code",
      "execution_count": null,
      "metadata": {
        "colab": {
          "base_uri": "https://localhost:8080/"
        },
        "id": "3hDJQKDT51xI",
        "outputId": "e2c7f4ab-a40a-4824-aa72-8ba13acbc0c5"
      },
      "outputs": [
        {
          "name": "stdout",
          "output_type": "stream",
          "text": [
            "0\n"
          ]
        }
      ],
      "source": [
        "vehicles_imp4['title_status_labenc'] = vehicles_imp4['title_status_labenc'].replace(0, np.nan)\n",
        "titlestatscol_to_imp = ['title_status_labenc']\n",
        "knn_imputer_titlestats = KNNImputer(n_neighbors=2)\n",
        "imputed_val_titlestats = knn_imputer_titlestats.fit_transform(vehicles_imp4[titlestatscol_to_imp])\n",
        "vehicles_imp5 = vehicles_imp4.copy()\n",
        "vehicles_imp5[titlestatscol_to_imp] = imputed_val_titlestats\n",
        "print(vehicles_imp5['title_status_labenc'].eq(0).sum())\n",
        "## title_status_labelenc column has zeros(conversion from Nan) later was filled with knnImputer"
      ]
    },
    {
      "cell_type": "code",
      "execution_count": null,
      "metadata": {
        "colab": {
          "base_uri": "https://localhost:8080/"
        },
        "id": "eYvwtg-09t4k",
        "outputId": "a9d10bf4-12f3-4412-b9db-f85e8a9ad1d2"
      },
      "outputs": [
        {
          "name": "stdout",
          "output_type": "stream",
          "text": [
            "{nan: 0, 'fwd': 1, '4wd': 2, 'rwd': 3}\n"
          ]
        }
      ],
      "source": [
        "vehicles_imp5['drive'] = vehicles_imp5['drive'].fillna('np.nan')\n",
        "drive_order = [np.nan, 'fwd', '4wd', 'rwd']\n",
        "drive_mapping = {value: index for index, value in enumerate(drive_order)}\n",
        "vehicles_imp5['drive_labenc'] = vehicles_imp5['drive'].map(drive_mapping)\n",
        "vehicles_imp5.drop(['drive'], axis=1, inplace=True)\n",
        "print(drive_mapping)\n",
        "#Mapping table: {nan: 0, 'fwd': 1, '4wd': 2, 'rwd': 3}"
      ]
    },
    {
      "cell_type": "code",
      "execution_count": null,
      "metadata": {
        "colab": {
          "background_save": true
        },
        "id": "ReuYdN3T884b",
        "outputId": "92ec8cde-ba43-4601-db1b-02b8da8ae94b"
      },
      "outputs": [
        {
          "name": "stdout",
          "output_type": "stream",
          "text": [
            "0\n"
          ]
        }
      ],
      "source": [
        "vehicles_imp5['drive_labenc'] = vehicles_imp5['drive_labenc'].replace(0, np.nan)\n",
        "drivecol_to_imp = ['drive_labenc']\n",
        "knn_imputer_drive = KNNImputer(n_neighbors=2)\n",
        "imputed_val_drive = knn_imputer_drive.fit_transform(vehicles_imp5[drivecol_to_imp])\n",
        "vehicles_imp6 = vehicles_imp5.copy()\n",
        "vehicles_imp6[drivecol_to_imp] = imputed_val_drive\n",
        "print(vehicles_imp6['drive_labenc'].eq(0).sum())"
      ]
    },
    {
      "cell_type": "code",
      "execution_count": 55,
      "metadata": {
        "id": "442SCTdGET44"
      },
      "outputs": [],
      "source": [
        "from google.colab import files\n",
        "vehicles_imp6.to_csv('/content/drive/My Drive/Colab Notebooks/AIML/Git-public-work/vehicles_imp6.csv', encoding = 'utf-8-sig')"
      ]
    },
    {
      "cell_type": "code",
      "execution_count": 57,
      "metadata": {
        "colab": {
          "base_uri": "https://localhost:8080/"
        },
        "id": "vpbRCLF_Pl10",
        "outputId": "a5370c3f-a45c-42c0-fefe-da433a26b308"
      },
      "outputs": [
        {
          "output_type": "stream",
          "name": "stdout",
          "text": [
            "0\n",
            "price                      0\n",
            "year                    1205\n",
            "manufacturer           17646\n",
            "fuel                    3013\n",
            "odometer                   0\n",
            "transmission            2556\n",
            "type                   92858\n",
            "cylinders_labenc           0\n",
            "size_labenc                0\n",
            "condition_labenc           0\n",
            "title_status_labenc        0\n",
            "drive_labenc               0\n",
            "region_state               0\n",
            "dtype: int64\n"
          ]
        }
      ],
      "source": [
        "#vehicles_imp6.drop(['Unnamed: 0', 'model', 'paint_color'], axis=1, inplace=True)\n",
        "# - Completed above.\n",
        "vehicles_imp6 = pd.read_csv('/content/drive/My Drive/Colab Notebooks/AIML/Git-public-work/vehicles_imp6.csv')\n",
        "vehicles_imp6.drop('Unnamed: 0', axis=1, inplace=True)\n",
        "print(vehicles_imp6['cylinders_labenc'].eq(0).sum())\n",
        "print(vehicles_imp6.isnull().sum())"
      ]
    },
    {
      "cell_type": "code",
      "source": [],
      "metadata": {
        "id": "uO4zaeNVK67v"
      },
      "execution_count": 8,
      "outputs": []
    },
    {
      "cell_type": "markdown",
      "source": [],
      "metadata": {
        "id": "0iYApgrINOvg"
      }
    },
    {
      "cell_type": "code",
      "execution_count": 58,
      "metadata": {
        "id": "7PT0xZn8QiH2",
        "colab": {
          "base_uri": "https://localhost:8080/"
        },
        "outputId": "a5589dee-c674-46e1-a767-9f0d62497005"
      },
      "outputs": [
        {
          "output_type": "stream",
          "name": "stdout",
          "text": [
            "Requirement already satisfied: category_encoders in /usr/local/lib/python3.10/dist-packages (2.6.2)\n",
            "Requirement already satisfied: numpy>=1.14.0 in /usr/local/lib/python3.10/dist-packages (from category_encoders) (1.23.5)\n",
            "Requirement already satisfied: scikit-learn>=0.20.0 in /usr/local/lib/python3.10/dist-packages (from category_encoders) (1.2.2)\n",
            "Requirement already satisfied: scipy>=1.0.0 in /usr/local/lib/python3.10/dist-packages (from category_encoders) (1.10.1)\n",
            "Requirement already satisfied: statsmodels>=0.9.0 in /usr/local/lib/python3.10/dist-packages (from category_encoders) (0.14.0)\n",
            "Requirement already satisfied: pandas>=1.0.5 in /usr/local/lib/python3.10/dist-packages (from category_encoders) (1.5.3)\n",
            "Requirement already satisfied: patsy>=0.5.1 in /usr/local/lib/python3.10/dist-packages (from category_encoders) (0.5.3)\n",
            "Requirement already satisfied: python-dateutil>=2.8.1 in /usr/local/lib/python3.10/dist-packages (from pandas>=1.0.5->category_encoders) (2.8.2)\n",
            "Requirement already satisfied: pytz>=2020.1 in /usr/local/lib/python3.10/dist-packages (from pandas>=1.0.5->category_encoders) (2023.3)\n",
            "Requirement already satisfied: six in /usr/local/lib/python3.10/dist-packages (from patsy>=0.5.1->category_encoders) (1.16.0)\n",
            "Requirement already satisfied: joblib>=1.1.1 in /usr/local/lib/python3.10/dist-packages (from scikit-learn>=0.20.0->category_encoders) (1.3.2)\n",
            "Requirement already satisfied: threadpoolctl>=2.0.0 in /usr/local/lib/python3.10/dist-packages (from scikit-learn>=0.20.0->category_encoders) (3.2.0)\n",
            "Requirement already satisfied: packaging>=21.3 in /usr/local/lib/python3.10/dist-packages (from statsmodels>=0.9.0->category_encoders) (23.1)\n",
            "(425675, 13)\n",
            "price                  0\n",
            "year                   0\n",
            "manufacturer           0\n",
            "fuel                   0\n",
            "odometer               0\n",
            "transmission           0\n",
            "type                   0\n",
            "cylinders_labenc       0\n",
            "size_labenc            0\n",
            "condition_labenc       0\n",
            "title_status_labenc    0\n",
            "drive_labenc           0\n",
            "region_state           0\n",
            "dtype: int64\n"
          ]
        }
      ],
      "source": [
        "#Encoding manufacturer, fuel, transmission, type, region state  columns using JamesSteinEncoder\n",
        "# JamesSteinEncoder's approach missing values are dealt with filling in mean of the encoding columns by default.\n",
        "!pip install category_encoders\n",
        "vehicles_imp6.rename(columns={'region State': 'region_state'}, inplace=True)\n",
        "from category_encoders import JamesSteinEncoder\n",
        "columns_to_encode = ['manufacturer', 'fuel', 'transmission', 'type', 'region_state']\n",
        "encoder = JamesSteinEncoder(cols=columns_to_encode)\n",
        "vehicles_imp6_jsenc = encoder.fit_transform(vehicles_imp6, vehicles_imp6['price'])\n",
        "vehicles_imp6_jsenc.dropna(subset=['year'], inplace=True)\n",
        "rows_with_nulls = vehicles_imp6_jsenc[vehicles_imp6_jsenc.isna().any(axis=1)]\n",
        "#vehicles_imp6_jsenc.isnull().sum()\n",
        "columns_to_round = ['year', 'odometer', 'cylinders_labenc', 'size_labenc', 'condition_labenc', 'title_status_labenc',\t'drive_labenc']\n",
        "vehicles_imp6_jsenc[columns_to_round] = vehicles_imp6_jsenc[columns_to_round].round().astype(int)\n",
        "print(vehicles_imp6_jsenc.shape)\n",
        "vehicles_imp6_jsenc.tail()\n",
        "print(vehicles_imp6_jsenc.isnull().sum())\n",
        "#New file vehicle_imp6_jsen.csv now includes JamesStineEncoded values without scalling the features\n",
        "from google.colab import files\n",
        "vehicles_imp6_jsenc.to_csv('/content/drive/My Drive/Colab Notebooks/AIML/Git-public-work/vehicles_imp6_jsen.csv', encoding = 'utf-8-sig')\n"
      ]
    },
    {
      "cell_type": "code",
      "source": [
        "vehicles_imp6_jsenc = pd.read_csv('/content/drive/My Drive/Colab Notebooks/AIML/Git-public-work/vehicles_imp6_jsen.csv')\n",
        "vehicles_imp6_jsenc.drop(['Unnamed: 0'], axis=1, inplace=True)\n",
        "vehicles_imp6_jsenc.reset_index(drop=True)\n",
        "print(vehicles_imp6_jsenc.columns, vehicles_imp6_jsenc.head())\n",
        "from google.colab import files\n",
        "vehicles_imp6_jsenc.to_csv('/content/drive/My Drive/Colab Notebooks/AIML/Git-public-work/vehicles_imp6_jsen.csv', encoding = 'utf-8-sig')\n"
      ],
      "metadata": {
        "colab": {
          "base_uri": "https://localhost:8080/"
        },
        "id": "woOv-eGnp8bj",
        "outputId": "a98b07e0-9afc-4fa5-bf66-aa41ab43efed"
      },
      "execution_count": 18,
      "outputs": [
        {
          "output_type": "stream",
          "name": "stdout",
          "text": [
            "Index(['price', 'year', 'manufacturer', 'fuel', 'odometer', 'transmission',\n",
            "       'type', 'cylinders_labenc', 'size_labenc', 'condition_labenc',\n",
            "       'title_status_labenc', 'drive_labenc', 'region_state'],\n",
            "      dtype='object')      price  year   manufacturer          fuel  odometer   transmission  \\\n",
            "0  33590.0  2014  165938.007991  96480.664491     57923   39213.718334   \n",
            "1  22590.0  2010  122184.001341  96480.664491     71229   39213.718334   \n",
            "2  39590.0  2020  122184.001341  96480.664491     19160   39213.718334   \n",
            "3  30990.0  2017  146203.006575  96480.664491     41124   39213.718334   \n",
            "4  15000.0  2013  100676.794831  96480.664491    128000  111809.426433   \n",
            "\n",
            "            type  cylinders_labenc  size_labenc  condition_labenc  \\\n",
            "0  124437.193853                 6            3                 5   \n",
            "1  124437.193853                 6            3                 5   \n",
            "2  124437.193853                 6            3                 5   \n",
            "3  124437.193853                 6            3                 5   \n",
            "4  111014.764356                 5            4                 6   \n",
            "\n",
            "   title_status_labenc  drive_labenc  region_state  \n",
            "0                    6             2  26934.185605  \n",
            "1                    6             2  26934.185605  \n",
            "2                    6             2  26934.185605  \n",
            "3                    6             2  26934.185605  \n",
            "4                    6             3  26934.185605  \n"
          ]
        }
      ]
    },
    {
      "cell_type": "code",
      "source": [
        "#Scaling the dataframe\n",
        "from sklearn.preprocessing import StandardScaler\n",
        "scaler = StandardScaler()\n",
        "vehicles_scaled = pd.DataFrame(scaler.fit_transform(vehicles_imp6_jsenc), columns=vehicles_imp6_jsenc.columns)\n",
        "vehicles_scaled.head()\n",
        "vehicles_scaled.to_csv('/content/drive/My Drive/Colab Notebooks/AIML/Git-public-work/vehicles_imp6_jsenc_scaled.csv', encoding = 'utf-8-sig')"
      ],
      "metadata": {
        "id": "phZJQbFafz8O"
      },
      "execution_count": 83,
      "outputs": []
    },
    {
      "cell_type": "code",
      "execution_count": null,
      "metadata": {
        "id": "wOEvwSKBA37i"
      },
      "outputs": [],
      "source": []
    },
    {
      "cell_type": "code",
      "execution_count": 75,
      "metadata": {
        "id": "S7qCZYo6ho9Q",
        "scrolled": true,
        "colab": {
          "base_uri": "https://localhost:8080/",
          "height": 1000
        },
        "outputId": "a06a0589-f878-49b1-9ff7-b7473dc06955"
      },
      "outputs": [
        {
          "output_type": "stream",
          "name": "stdout",
          "text": [
            "Ridge model with alpha = 0.0\n",
            "Coefficients: [[-4.63963608e+03  1.25296495e+00  6.15414089e-01  3.81264544e-02\n",
            "  -1.66424965e-01  1.11784734e+00  3.05441874e+03 -4.82389711e+04\n",
            "  -2.72775028e+04 -8.02955865e+03  3.53676167e+04  4.60483497e+00]]\n",
            "Intercept: [9262703.41786486]\n",
            "Mean Squared Error: 300447121989076.44\n",
            "-------------------\n",
            "                Feature   Coefficient\n",
            "10         drive_labenc  35367.616687\n",
            "6      cylinders_labenc   3054.418737\n",
            "11         region_state      4.604835\n",
            "1          manufacturer      1.252965\n",
            "5                  type      1.117847\n",
            "2                  fuel      0.615414\n",
            "3              odometer      0.038126\n",
            "4          transmission     -0.166425\n",
            "0                  year  -4639.636083\n",
            "9   title_status_labenc  -8029.558649\n",
            "8      condition_labenc -27277.502780\n",
            "7           size_labenc -48238.971099\n",
            "Ridge model with alpha = 0.1\n",
            "Coefficients: [[-4.63963626e+03  1.25296495e+00  6.15414031e-01  3.81264486e-02\n",
            "  -1.66425005e-01  1.11784739e+00  3.05441664e+03 -4.82388990e+04\n",
            "  -2.72774871e+04 -8.02954360e+03  3.53675826e+04  4.60483497e+00]]\n",
            "Intercept: [9262703.46282522]\n",
            "Mean Squared Error: 300447121985702.44\n",
            "-------------------\n",
            "                Feature   Coefficient\n",
            "10         drive_labenc  35367.582575\n",
            "6      cylinders_labenc   3054.416637\n",
            "11         region_state      4.604835\n",
            "1          manufacturer      1.252965\n",
            "5                  type      1.117847\n",
            "2                  fuel      0.615414\n",
            "3              odometer      0.038126\n",
            "4          transmission     -0.166425\n",
            "0                  year  -4639.636260\n",
            "9   title_status_labenc  -8029.543600\n",
            "8      condition_labenc -27277.487064\n",
            "7           size_labenc -48238.899000\n",
            "Ridge model with alpha = 1.0\n",
            "Coefficients: [[-4.63963785e+03  1.25296493e+00  6.15413514e-01  3.81263968e-02\n",
            "  -1.66425373e-01  1.11784780e+00  3.05439774e+03 -4.82382501e+04\n",
            "  -2.72773456e+04 -8.02940816e+03  3.53672756e+04  4.60483492e+00]]\n",
            "Intercept: [9262703.86747769]\n",
            "Mean Squared Error: 300447121955337.4\n",
            "-------------------\n",
            "                Feature   Coefficient\n",
            "10         drive_labenc  35367.275573\n",
            "6      cylinders_labenc   3054.397736\n",
            "11         region_state      4.604835\n",
            "1          manufacturer      1.252965\n",
            "5                  type      1.117848\n",
            "2                  fuel      0.615414\n",
            "3              odometer      0.038126\n",
            "4          transmission     -0.166425\n",
            "0                  year  -4639.637851\n",
            "9   title_status_labenc  -8029.408165\n",
            "8      condition_labenc -27277.345618\n",
            "7           size_labenc -48238.250112\n",
            "Ridge model with alpha = 10.0\n",
            "Coefficients: [[-4.63965376e+03  1.25296473e+00  6.15408347e-01  3.81258780e-02\n",
            "  -1.66429047e-01  1.11785190e+00  3.05420878e+03 -4.82317622e+04\n",
            "  -2.72759312e+04 -8.02805408e+03  3.53642059e+04  4.60483440e+00]]\n",
            "Intercept: [9262707.91491607]\n",
            "Mean Squared Error: 300447121651730.7\n",
            "-------------------\n",
            "                Feature   Coefficient\n",
            "10         drive_labenc  35364.205852\n",
            "6      cylinders_labenc   3054.208780\n",
            "11         region_state      4.604834\n",
            "1          manufacturer      1.252965\n",
            "5                  type      1.117852\n",
            "2                  fuel      0.615408\n",
            "3              odometer      0.038126\n",
            "4          transmission     -0.166429\n",
            "0                  year  -4639.653762\n",
            "9   title_status_labenc  -8028.054080\n",
            "8      condition_labenc -27275.931238\n",
            "7           size_labenc -48231.762191\n",
            "Ridge model with alpha = 100\n",
            "Coefficients: [[-4.63981272e+03  1.25296276e+00  6.15356748e-01  3.81206972e-02\n",
            "  -1.66465747e-01  1.11789290e+00  3.05232476e+03 -4.81669781e+04\n",
            "  -2.72617948e+04 -8.01454015e+03  3.53335387e+04  4.60482923e+00]]\n",
            "Intercept: [9262748.48037113]\n",
            "Mean Squared Error: 300447118620186.75\n",
            "-------------------\n",
            "                Feature   Coefficient\n",
            "10         drive_labenc  35333.538706\n",
            "6      cylinders_labenc   3052.324761\n",
            "11         region_state      4.604829\n",
            "1          manufacturer      1.252963\n",
            "5                  type      1.117893\n",
            "2                  fuel      0.615357\n",
            "3              odometer      0.038121\n",
            "4          transmission     -0.166466\n",
            "0                  year  -4639.812722\n",
            "9   title_status_labenc  -8014.540147\n",
            "8      condition_labenc -27261.794752\n",
            "7           size_labenc -48166.978124\n",
            "Ridge model with alpha = 10000\n",
            "Coefficients: [[-4.65577363e+03  1.25284584e+00  6.10391171e-01  3.76174553e-02\n",
            "  -1.70104265e-01  1.12205550e+00  2.89469372e+03 -4.19602779e+04\n",
            "  -2.57852786e+04 -6.77603275e+03  3.22637274e+04  4.60432957e+00]]\n",
            "Intercept: [9267945.18623026]\n",
            "Mean Squared Error: 300446828827463.2\n",
            "-------------------\n",
            "                Feature   Coefficient\n",
            "10         drive_labenc  32263.727372\n",
            "6      cylinders_labenc   2894.693724\n",
            "11         region_state      4.604330\n",
            "1          manufacturer      1.252846\n",
            "5                  type      1.122055\n",
            "2                  fuel      0.610391\n",
            "3              odometer      0.037617\n",
            "4          transmission     -0.170104\n",
            "0                  year  -4655.773632\n",
            "9   title_status_labenc  -6776.032747\n",
            "8      condition_labenc -25785.278556\n",
            "7           size_labenc -41960.277946\n",
            "Ridge model with alpha = 100000\n",
            "Coefficients: [[-4.72991060e+03  1.25443141e+00  5.91705056e-01  3.56567728e-02\n",
            "  -1.87642749e-01  1.14389353e+00  2.55619191e+03 -1.92110702e+04\n",
            "  -1.71985286e+04 -2.94627148e+03  1.81883292e+04  4.60232819e+00]]\n",
            "Intercept: [9310392.85777515]\n",
            "Mean Squared Error: 300445790028638.0\n",
            "-------------------\n",
            "                Feature   Coefficient\n",
            "10         drive_labenc  18188.329245\n",
            "6      cylinders_labenc   2556.191907\n",
            "11         region_state      4.602328\n",
            "1          manufacturer      1.254431\n",
            "5                  type      1.143894\n",
            "2                  fuel      0.591705\n",
            "3              odometer      0.035657\n",
            "4          transmission     -0.187643\n",
            "9   title_status_labenc  -2946.271483\n",
            "0                  year  -4729.910599\n",
            "8      condition_labenc -17198.528576\n",
            "7           size_labenc -19211.070211\n",
            "Ridge model with alpha = 1000000\n",
            "Coefficients: [[-4.69948808e+03  1.26330706e+00  5.77231753e-01  3.47495827e-02\n",
            "  -2.07363046e-01  1.17916487e+00  1.11181731e+03 -2.90375904e+03\n",
            "  -3.95650622e+03 -4.82969909e+02  3.55138436e+03  4.60030799e+00]]\n",
            "Intercept: [9151052.13111555]\n",
            "Mean Squared Error: 300445027908555.8\n",
            "-------------------\n",
            "                Feature  Coefficient\n",
            "10         drive_labenc  3551.384356\n",
            "6      cylinders_labenc  1111.817307\n",
            "11         region_state     4.600308\n",
            "1          manufacturer     1.263307\n",
            "5                  type     1.179165\n",
            "2                  fuel     0.577232\n",
            "3              odometer     0.034750\n",
            "4          transmission    -0.207363\n",
            "9   title_status_labenc  -482.969909\n",
            "7           size_labenc -2903.759038\n",
            "8      condition_labenc -3956.506223\n",
            "0                  year -4699.488077\n"
          ]
        },
        {
          "output_type": "execute_result",
          "data": {
            "text/plain": [
              "   alpha           mse\n",
              "0    0.0  3.004471e+14\n",
              "1    0.1  3.004471e+14\n",
              "2    1.0  3.004471e+14\n",
              "3   10.0  3.004471e+14\n",
              "4  100.0  3.004471e+14"
            ],
            "text/html": [
              "\n",
              "  <div id=\"df-01cdd7c4-6440-4254-b2c3-04788c767c50\" class=\"colab-df-container\">\n",
              "    <div>\n",
              "<style scoped>\n",
              "    .dataframe tbody tr th:only-of-type {\n",
              "        vertical-align: middle;\n",
              "    }\n",
              "\n",
              "    .dataframe tbody tr th {\n",
              "        vertical-align: top;\n",
              "    }\n",
              "\n",
              "    .dataframe thead th {\n",
              "        text-align: right;\n",
              "    }\n",
              "</style>\n",
              "<table border=\"1\" class=\"dataframe\">\n",
              "  <thead>\n",
              "    <tr style=\"text-align: right;\">\n",
              "      <th></th>\n",
              "      <th>alpha</th>\n",
              "      <th>mse</th>\n",
              "    </tr>\n",
              "  </thead>\n",
              "  <tbody>\n",
              "    <tr>\n",
              "      <th>0</th>\n",
              "      <td>0.0</td>\n",
              "      <td>3.004471e+14</td>\n",
              "    </tr>\n",
              "    <tr>\n",
              "      <th>1</th>\n",
              "      <td>0.1</td>\n",
              "      <td>3.004471e+14</td>\n",
              "    </tr>\n",
              "    <tr>\n",
              "      <th>2</th>\n",
              "      <td>1.0</td>\n",
              "      <td>3.004471e+14</td>\n",
              "    </tr>\n",
              "    <tr>\n",
              "      <th>3</th>\n",
              "      <td>10.0</td>\n",
              "      <td>3.004471e+14</td>\n",
              "    </tr>\n",
              "    <tr>\n",
              "      <th>4</th>\n",
              "      <td>100.0</td>\n",
              "      <td>3.004471e+14</td>\n",
              "    </tr>\n",
              "  </tbody>\n",
              "</table>\n",
              "</div>\n",
              "    <div class=\"colab-df-buttons\">\n",
              "\n",
              "  <div class=\"colab-df-container\">\n",
              "    <button class=\"colab-df-convert\" onclick=\"convertToInteractive('df-01cdd7c4-6440-4254-b2c3-04788c767c50')\"\n",
              "            title=\"Convert this dataframe to an interactive table.\"\n",
              "            style=\"display:none;\">\n",
              "\n",
              "  <svg xmlns=\"http://www.w3.org/2000/svg\" height=\"24px\" viewBox=\"0 -960 960 960\">\n",
              "    <path d=\"M120-120v-720h720v720H120Zm60-500h600v-160H180v160Zm220 220h160v-160H400v160Zm0 220h160v-160H400v160ZM180-400h160v-160H180v160Zm440 0h160v-160H620v160ZM180-180h160v-160H180v160Zm440 0h160v-160H620v160Z\"/>\n",
              "  </svg>\n",
              "    </button>\n",
              "\n",
              "  <style>\n",
              "    .colab-df-container {\n",
              "      display:flex;\n",
              "      gap: 12px;\n",
              "    }\n",
              "\n",
              "    .colab-df-convert {\n",
              "      background-color: #E8F0FE;\n",
              "      border: none;\n",
              "      border-radius: 50%;\n",
              "      cursor: pointer;\n",
              "      display: none;\n",
              "      fill: #1967D2;\n",
              "      height: 32px;\n",
              "      padding: 0 0 0 0;\n",
              "      width: 32px;\n",
              "    }\n",
              "\n",
              "    .colab-df-convert:hover {\n",
              "      background-color: #E2EBFA;\n",
              "      box-shadow: 0px 1px 2px rgba(60, 64, 67, 0.3), 0px 1px 3px 1px rgba(60, 64, 67, 0.15);\n",
              "      fill: #174EA6;\n",
              "    }\n",
              "\n",
              "    .colab-df-buttons div {\n",
              "      margin-bottom: 4px;\n",
              "    }\n",
              "\n",
              "    [theme=dark] .colab-df-convert {\n",
              "      background-color: #3B4455;\n",
              "      fill: #D2E3FC;\n",
              "    }\n",
              "\n",
              "    [theme=dark] .colab-df-convert:hover {\n",
              "      background-color: #434B5C;\n",
              "      box-shadow: 0px 1px 3px 1px rgba(0, 0, 0, 0.15);\n",
              "      filter: drop-shadow(0px 1px 2px rgba(0, 0, 0, 0.3));\n",
              "      fill: #FFFFFF;\n",
              "    }\n",
              "  </style>\n",
              "\n",
              "    <script>\n",
              "      const buttonEl =\n",
              "        document.querySelector('#df-01cdd7c4-6440-4254-b2c3-04788c767c50 button.colab-df-convert');\n",
              "      buttonEl.style.display =\n",
              "        google.colab.kernel.accessAllowed ? 'block' : 'none';\n",
              "\n",
              "      async function convertToInteractive(key) {\n",
              "        const element = document.querySelector('#df-01cdd7c4-6440-4254-b2c3-04788c767c50');\n",
              "        const dataTable =\n",
              "          await google.colab.kernel.invokeFunction('convertToInteractive',\n",
              "                                                    [key], {});\n",
              "        if (!dataTable) return;\n",
              "\n",
              "        const docLinkHtml = 'Like what you see? Visit the ' +\n",
              "          '<a target=\"_blank\" href=https://colab.research.google.com/notebooks/data_table.ipynb>data table notebook</a>'\n",
              "          + ' to learn more about interactive tables.';\n",
              "        element.innerHTML = '';\n",
              "        dataTable['output_type'] = 'display_data';\n",
              "        await google.colab.output.renderOutput(dataTable, element);\n",
              "        const docLink = document.createElement('div');\n",
              "        docLink.innerHTML = docLinkHtml;\n",
              "        element.appendChild(docLink);\n",
              "      }\n",
              "    </script>\n",
              "  </div>\n",
              "\n",
              "\n",
              "<div id=\"df-cd05f5f7-96ab-4fae-978e-14d18b955bb9\">\n",
              "  <button class=\"colab-df-quickchart\" onclick=\"quickchart('df-cd05f5f7-96ab-4fae-978e-14d18b955bb9')\"\n",
              "            title=\"Suggest charts.\"\n",
              "            style=\"display:none;\">\n",
              "\n",
              "<svg xmlns=\"http://www.w3.org/2000/svg\" height=\"24px\"viewBox=\"0 0 24 24\"\n",
              "     width=\"24px\">\n",
              "    <g>\n",
              "        <path d=\"M19 3H5c-1.1 0-2 .9-2 2v14c0 1.1.9 2 2 2h14c1.1 0 2-.9 2-2V5c0-1.1-.9-2-2-2zM9 17H7v-7h2v7zm4 0h-2V7h2v10zm4 0h-2v-4h2v4z\"/>\n",
              "    </g>\n",
              "</svg>\n",
              "  </button>\n",
              "\n",
              "<style>\n",
              "  .colab-df-quickchart {\n",
              "    background-color: #E8F0FE;\n",
              "    border: none;\n",
              "    border-radius: 50%;\n",
              "    cursor: pointer;\n",
              "    display: none;\n",
              "    fill: #1967D2;\n",
              "    height: 32px;\n",
              "    padding: 0 0 0 0;\n",
              "    width: 32px;\n",
              "  }\n",
              "\n",
              "  .colab-df-quickchart:hover {\n",
              "    background-color: #E2EBFA;\n",
              "    box-shadow: 0px 1px 2px rgba(60, 64, 67, 0.3), 0px 1px 3px 1px rgba(60, 64, 67, 0.15);\n",
              "    fill: #174EA6;\n",
              "  }\n",
              "\n",
              "  [theme=dark] .colab-df-quickchart {\n",
              "    background-color: #3B4455;\n",
              "    fill: #D2E3FC;\n",
              "  }\n",
              "\n",
              "  [theme=dark] .colab-df-quickchart:hover {\n",
              "    background-color: #434B5C;\n",
              "    box-shadow: 0px 1px 3px 1px rgba(0, 0, 0, 0.15);\n",
              "    filter: drop-shadow(0px 1px 2px rgba(0, 0, 0, 0.3));\n",
              "    fill: #FFFFFF;\n",
              "  }\n",
              "</style>\n",
              "\n",
              "  <script>\n",
              "    async function quickchart(key) {\n",
              "      const charts = await google.colab.kernel.invokeFunction(\n",
              "          'suggestCharts', [key], {});\n",
              "    }\n",
              "    (() => {\n",
              "      let quickchartButtonEl =\n",
              "        document.querySelector('#df-cd05f5f7-96ab-4fae-978e-14d18b955bb9 button');\n",
              "      quickchartButtonEl.style.display =\n",
              "        google.colab.kernel.accessAllowed ? 'block' : 'none';\n",
              "    })();\n",
              "  </script>\n",
              "</div>\n",
              "    </div>\n",
              "  </div>\n"
            ]
          },
          "metadata": {},
          "execution_count": 75
        }
      ],
      "source": [
        "from sklearn.model_selection import train_test_split\n",
        "from sklearn.metrics import mean_squared_error\n",
        "X = vehicles_imp6_jsenc.drop('price', axis=1)\n",
        "y = vehicles_imp6_jsenc[['price']]\n",
        "\n",
        "X_train, X_test, y_train, y_test = train_test_split(X, y, test_size=0.2, random_state=42)\n",
        "\n",
        "# Different amounts of regularization (alpha values)\n",
        "alpha_values = [0.0, 0.1, 1.0, 10.0, 100, 10000, 100000, 1000000]\n",
        "rows = []\n",
        "for alpha in alpha_values:\n",
        "    # Initialize Ridge model\n",
        "    ridge_model = Ridge(alpha=alpha)\n",
        "\n",
        "    # Fit the model\n",
        "    ridge_model.fit(X_train, y_train)\n",
        "\n",
        "    # Predict on test set\n",
        "    y_pred = ridge_model.predict(X_test)\n",
        "\n",
        "    # Calculate Mean Squared Error\n",
        "    mse = mean_squared_error(y_test, y_pred)\n",
        "\n",
        "    print(f\"Ridge model with alpha = {alpha}\")\n",
        "    print(f\"Coefficients: {ridge_model.coef_}\")\n",
        "    print(f\"Intercept: {ridge_model.intercept_}\")\n",
        "    print(f\"Mean Squared Error: {mse}\")\n",
        "    print(\"-------------------\")\n",
        "    rows.append([alpha, mse])\n",
        "    Xtrain_features = X_train.columns\n",
        "    coefficients_list = (ridge_model.coef_).tolist()\n",
        "    coefficients_df = pd.DataFrame({'Feature': Xtrain_features, 'Coefficient': coefficients_list[0]})\n",
        "    sorted_df = coefficients_df.sort_values(by='Coefficient', ascending=False)\n",
        "    print(sorted_df)\n",
        "\n",
        "vehicles_feature_alpha_mse_ridge = pd.DataFrame(rows, columns=['alpha', 'mse'])\n",
        "vehicles_feature_alpha_mse_ridge.head()"
      ]
    },
    {
      "cell_type": "code",
      "source": [
        "model = Ridge(alpha=1e-2).fit(X_train, y_train)\n",
        "model.score(X_test, y_test)"
      ],
      "metadata": {
        "id": "qsoAsGLbsi-n",
        "colab": {
          "base_uri": "https://localhost:8080/"
        },
        "outputId": "0f450426-5b2a-4142-835d-13dc753c4548"
      },
      "execution_count": 78,
      "outputs": [
        {
          "output_type": "execute_result",
          "data": {
            "text/plain": [
              "0.0005474436724064446"
            ]
          },
          "metadata": {},
          "execution_count": 78
        }
      ]
    },
    {
      "cell_type": "code",
      "execution_count": 27,
      "metadata": {
        "id": "7frv0q8qho9R",
        "outputId": "c40af608-33ce-4f30-b0dd-00c43001ea96",
        "scrolled": true,
        "colab": {
          "base_uri": "https://localhost:8080/"
        }
      },
      "outputs": [
        {
          "output_type": "stream",
          "name": "stdout",
          "text": [
            "Model: Ridge(alpha=10)\n",
            "region_state\t0.00000 +/- 0.00000\n",
            "odometer\t0.00000 +/- 0.00000\n"
          ]
        }
      ],
      "source": [
        "from sklearn.inspection import permutation_importance\n",
        "print('Model:', model)\n",
        "X = vehicles_imp6_jsenc.drop('price', axis=1)\n",
        "y = vehicles_imp6_jsenc[['price']]\n",
        "\n",
        "X_train, X_test, y_train, y_test = train_test_split(X, y, test_size=0.2, random_state=42)\n",
        "\n",
        "r = permutation_importance(model, X_test, y_test,\n",
        "                            n_repeats=30,\n",
        "                            random_state=0)\n",
        "for i in r.importances_mean.argsort()[::-1]:\n",
        "     if r.importances_mean[i] - 2 * r.importances_std[i] > 0:\n",
        "         print(f\"{X_test.columns[i]:<8}\\t\"\n",
        "               f\"{r.importances_mean[i]:.5f}\"\n",
        "               f\" +/- {r.importances_std[i]:.5f}\")\n"
      ]
    },
    {
      "cell_type": "code",
      "execution_count": 93,
      "metadata": {
        "id": "YZKZqGUXho9R"
      },
      "outputs": [],
      "source": []
    },
    {
      "cell_type": "markdown",
      "source": [
        "After cleaning the data, prepped data and scaling the data. Alpha value of 10 seems to be ideal when doing Ridge modeling. MSE value for test data set seem to go down reach the minimum at alpha =10 and then starts increasing."
      ],
      "metadata": {
        "id": "QeqdkYl9ekA4"
      }
    },
    {
      "cell_type": "code",
      "execution_count": 93,
      "metadata": {
        "id": "WiQEjAAiho9S"
      },
      "outputs": [],
      "source": []
    },
    {
      "cell_type": "code",
      "source": [],
      "metadata": {
        "id": "KAwcug_VU1gl"
      },
      "execution_count": 93,
      "outputs": []
    },
    {
      "cell_type": "code",
      "source": [],
      "metadata": {
        "id": "WZA-44cdf9rX"
      },
      "execution_count": 72,
      "outputs": []
    },
    {
      "cell_type": "markdown",
      "metadata": {
        "id": "l9Bvq-Zkho9S"
      },
      "source": [
        "### Modeling\n",
        "\n",
        "With your (almost?) final dataset in hand, it is now time to build some models.  Here, you should build a number of different regression models with the price as the target.  In building your models, you should explore different parameters and be sure to cross-validate your findings."
      ]
    },
    {
      "cell_type": "code",
      "execution_count": 39,
      "metadata": {
        "id": "_ULJIelGho9S",
        "colab": {
          "base_uri": "https://localhost:8080/",
          "height": 1000
        },
        "outputId": "457902bf-09d0-4644-e6df-44ecd37f71d3"
      },
      "outputs": [
        {
          "output_type": "stream",
          "name": "stdout",
          "text": [
            "Index(['price', 'year', 'manufacturer', 'fuel', 'odometer', 'transmission',\n",
            "       'type', 'cylinders_labenc', 'size_labenc', 'condition_labenc',\n",
            "       'title_status_labenc', 'drive_labenc', 'region_state'],\n",
            "      dtype='object')\n",
            "Ridge model with alpha = 0.0\n",
            "Coefficients: [[-0.00316989  0.00508219  0.00156001  0.00058908 -0.00039245  0.00388081\n",
            "   0.00021367 -0.00162353 -0.00138264 -0.00022508  0.00156162  0.01786695]]\n",
            "Intercept: [-0.00085339]\n",
            "Mean Squared Error: 1.5697514054711355\n",
            "-------------------\n",
            "                Feature  Coefficient\n",
            "11         region_state     0.017867\n",
            "1          manufacturer     0.005082\n",
            "5                  type     0.003881\n",
            "10         drive_labenc     0.001562\n",
            "2                  fuel     0.001560\n",
            "3              odometer     0.000589\n",
            "6      cylinders_labenc     0.000214\n",
            "9   title_status_labenc    -0.000225\n",
            "4          transmission    -0.000392\n",
            "8      condition_labenc    -0.001383\n",
            "7           size_labenc    -0.001624\n",
            "0                  year    -0.003170\n",
            "Ridge model with alpha = 0.1\n",
            "Coefficients: [[-0.00316989  0.00508219  0.00156001  0.00058908 -0.00039245  0.00388081\n",
            "   0.00021367 -0.00162353 -0.00138264 -0.00022508  0.00156162  0.01786694]]\n",
            "Intercept: [-0.00085339]\n",
            "Mean Squared Error: 1.56975140558121\n",
            "-------------------\n",
            "                Feature  Coefficient\n",
            "11         region_state     0.017867\n",
            "1          manufacturer     0.005082\n",
            "5                  type     0.003881\n",
            "10         drive_labenc     0.001562\n",
            "2                  fuel     0.001560\n",
            "3              odometer     0.000589\n",
            "6      cylinders_labenc     0.000214\n",
            "9   title_status_labenc    -0.000225\n",
            "4          transmission    -0.000392\n",
            "8      condition_labenc    -0.001383\n",
            "7           size_labenc    -0.001624\n",
            "0                  year    -0.003170\n",
            "Ridge model with alpha = 1.0\n",
            "Coefficients: [[-0.00316988  0.00508218  0.00156001  0.00058908 -0.00039244  0.0038808\n",
            "   0.00021367 -0.00162353 -0.00138263 -0.00022508  0.00156162  0.0178669 ]]\n",
            "Intercept: [-0.00085339]\n",
            "Mean Squared Error: 1.569751406571888\n",
            "-------------------\n",
            "                Feature  Coefficient\n",
            "11         region_state     0.017867\n",
            "1          manufacturer     0.005082\n",
            "5                  type     0.003881\n",
            "10         drive_labenc     0.001562\n",
            "2                  fuel     0.001560\n",
            "3              odometer     0.000589\n",
            "6      cylinders_labenc     0.000214\n",
            "9   title_status_labenc    -0.000225\n",
            "4          transmission    -0.000392\n",
            "8      condition_labenc    -0.001383\n",
            "7           size_labenc    -0.001624\n",
            "0                  year    -0.003170\n",
            "Ridge model with alpha = 10.0\n",
            "Coefficients: [[-0.00316978  0.00508205  0.00155998  0.00058909 -0.00039237  0.00388072\n",
            "   0.00021372 -0.00162346 -0.00138259 -0.00022508  0.0015616   0.01786643]]\n",
            "Intercept: [-0.00085339]\n",
            "Mean Squared Error: 1.5697514164787374\n",
            "-------------------\n",
            "                Feature  Coefficient\n",
            "11         region_state     0.017866\n",
            "1          manufacturer     0.005082\n",
            "5                  type     0.003881\n",
            "10         drive_labenc     0.001562\n",
            "2                  fuel     0.001560\n",
            "3              odometer     0.000589\n",
            "6      cylinders_labenc     0.000214\n",
            "9   title_status_labenc    -0.000225\n",
            "4          transmission    -0.000392\n",
            "8      condition_labenc    -0.001383\n",
            "7           size_labenc    -0.001623\n",
            "0                  year    -0.003170\n",
            "Ridge model with alpha = 100\n",
            "Coefficients: [[-0.0031688   0.00508081  0.00155966  0.00058915 -0.00039167  0.00387987\n",
            "   0.0002142  -0.00162284 -0.00138223 -0.00022506  0.00156141  0.01786172]]\n",
            "Intercept: [-0.00085338]\n",
            "Mean Squared Error: 1.5697515155548083\n",
            "-------------------\n",
            "                Feature  Coefficient\n",
            "11         region_state     0.017862\n",
            "1          manufacturer     0.005081\n",
            "5                  type     0.003880\n",
            "10         drive_labenc     0.001561\n",
            "2                  fuel     0.001560\n",
            "3              odometer     0.000589\n",
            "6      cylinders_labenc     0.000214\n",
            "9   title_status_labenc    -0.000225\n",
            "4          transmission    -0.000392\n",
            "8      condition_labenc    -0.001382\n",
            "7           size_labenc    -0.001623\n",
            "0                  year    -0.003169\n",
            "Ridge model with alpha = 10000\n",
            "Coefficients: [[-0.00306526  0.00494785  0.00152578  0.00059456 -0.00031905  0.00378977\n",
            "   0.00026335 -0.00155588 -0.00134293 -0.00022312  0.00154087  0.01735878]]\n",
            "Intercept: [-0.00085256]\n",
            "Mean Squared Error: 1.5697624833783728\n",
            "-------------------\n",
            "                Feature  Coefficient\n",
            "11         region_state     0.017359\n",
            "1          manufacturer     0.004948\n",
            "5                  type     0.003790\n",
            "10         drive_labenc     0.001541\n",
            "2                  fuel     0.001526\n",
            "3              odometer     0.000595\n",
            "6      cylinders_labenc     0.000263\n",
            "9   title_status_labenc    -0.000223\n",
            "4          transmission    -0.000319\n",
            "8      condition_labenc    -0.001343\n",
            "7           size_labenc    -0.001556\n",
            "0                  year    -0.003065\n",
            "Ridge model with alpha = 100000\n",
            "Coefficients: [[-2.40575514e-03  4.01155554e-03  1.28688425e-03  5.99844649e-04\n",
            "   6.60424752e-05  3.15649434e-03  5.07167233e-04 -1.09957530e-03\n",
            "  -1.06649300e-03 -2.01043487e-04  1.38214049e-03  1.38227673e-02]]\n",
            "Intercept: [-0.00084687]\n",
            "Mean Squared Error: 1.569860577809134\n",
            "-------------------\n",
            "                Feature  Coefficient\n",
            "11         region_state     0.013823\n",
            "1          manufacturer     0.004012\n",
            "5                  type     0.003156\n",
            "10         drive_labenc     0.001382\n",
            "2                  fuel     0.001287\n",
            "3              odometer     0.000600\n",
            "6      cylinders_labenc     0.000507\n",
            "4          transmission     0.000066\n",
            "9   title_status_labenc    -0.000201\n",
            "8      condition_labenc    -0.001066\n",
            "7           size_labenc    -0.001100\n",
            "0                  year    -0.002406\n",
            "Ridge model with alpha = 1000000\n",
            "Coefficients: [[-8.80286939e-04  1.44407128e-03  5.34661398e-04  3.30482228e-04\n",
            "   2.82659907e-04  1.25492932e-03  4.53407281e-04 -1.75864946e-04\n",
            "  -3.49498724e-04 -9.04576140e-05  6.73856010e-04  4.55703479e-03]]\n",
            "Intercept: [-0.00083174]\n",
            "Mean Squared Error: 1.5702976920863105\n",
            "-------------------\n",
            "                Feature  Coefficient\n",
            "11         region_state     0.004557\n",
            "1          manufacturer     0.001444\n",
            "5                  type     0.001255\n",
            "10         drive_labenc     0.000674\n",
            "2                  fuel     0.000535\n",
            "6      cylinders_labenc     0.000453\n",
            "3              odometer     0.000330\n",
            "4          transmission     0.000283\n",
            "9   title_status_labenc    -0.000090\n",
            "7           size_labenc    -0.000176\n",
            "8      condition_labenc    -0.000349\n",
            "0                  year    -0.000880\n"
          ]
        },
        {
          "output_type": "execute_result",
          "data": {
            "text/plain": [
              "   alpha       mse\n",
              "0    0.0  1.569751\n",
              "1    0.1  1.569751\n",
              "2    1.0  1.569751\n",
              "3   10.0  1.569751\n",
              "4  100.0  1.569752"
            ],
            "text/html": [
              "\n",
              "  <div id=\"df-8604975c-25a6-410b-85c1-65243caadb2c\" class=\"colab-df-container\">\n",
              "    <div>\n",
              "<style scoped>\n",
              "    .dataframe tbody tr th:only-of-type {\n",
              "        vertical-align: middle;\n",
              "    }\n",
              "\n",
              "    .dataframe tbody tr th {\n",
              "        vertical-align: top;\n",
              "    }\n",
              "\n",
              "    .dataframe thead th {\n",
              "        text-align: right;\n",
              "    }\n",
              "</style>\n",
              "<table border=\"1\" class=\"dataframe\">\n",
              "  <thead>\n",
              "    <tr style=\"text-align: right;\">\n",
              "      <th></th>\n",
              "      <th>alpha</th>\n",
              "      <th>mse</th>\n",
              "    </tr>\n",
              "  </thead>\n",
              "  <tbody>\n",
              "    <tr>\n",
              "      <th>0</th>\n",
              "      <td>0.0</td>\n",
              "      <td>1.569751</td>\n",
              "    </tr>\n",
              "    <tr>\n",
              "      <th>1</th>\n",
              "      <td>0.1</td>\n",
              "      <td>1.569751</td>\n",
              "    </tr>\n",
              "    <tr>\n",
              "      <th>2</th>\n",
              "      <td>1.0</td>\n",
              "      <td>1.569751</td>\n",
              "    </tr>\n",
              "    <tr>\n",
              "      <th>3</th>\n",
              "      <td>10.0</td>\n",
              "      <td>1.569751</td>\n",
              "    </tr>\n",
              "    <tr>\n",
              "      <th>4</th>\n",
              "      <td>100.0</td>\n",
              "      <td>1.569752</td>\n",
              "    </tr>\n",
              "  </tbody>\n",
              "</table>\n",
              "</div>\n",
              "    <div class=\"colab-df-buttons\">\n",
              "\n",
              "  <div class=\"colab-df-container\">\n",
              "    <button class=\"colab-df-convert\" onclick=\"convertToInteractive('df-8604975c-25a6-410b-85c1-65243caadb2c')\"\n",
              "            title=\"Convert this dataframe to an interactive table.\"\n",
              "            style=\"display:none;\">\n",
              "\n",
              "  <svg xmlns=\"http://www.w3.org/2000/svg\" height=\"24px\" viewBox=\"0 -960 960 960\">\n",
              "    <path d=\"M120-120v-720h720v720H120Zm60-500h600v-160H180v160Zm220 220h160v-160H400v160Zm0 220h160v-160H400v160ZM180-400h160v-160H180v160Zm440 0h160v-160H620v160ZM180-180h160v-160H180v160Zm440 0h160v-160H620v160Z\"/>\n",
              "  </svg>\n",
              "    </button>\n",
              "\n",
              "  <style>\n",
              "    .colab-df-container {\n",
              "      display:flex;\n",
              "      gap: 12px;\n",
              "    }\n",
              "\n",
              "    .colab-df-convert {\n",
              "      background-color: #E8F0FE;\n",
              "      border: none;\n",
              "      border-radius: 50%;\n",
              "      cursor: pointer;\n",
              "      display: none;\n",
              "      fill: #1967D2;\n",
              "      height: 32px;\n",
              "      padding: 0 0 0 0;\n",
              "      width: 32px;\n",
              "    }\n",
              "\n",
              "    .colab-df-convert:hover {\n",
              "      background-color: #E2EBFA;\n",
              "      box-shadow: 0px 1px 2px rgba(60, 64, 67, 0.3), 0px 1px 3px 1px rgba(60, 64, 67, 0.15);\n",
              "      fill: #174EA6;\n",
              "    }\n",
              "\n",
              "    .colab-df-buttons div {\n",
              "      margin-bottom: 4px;\n",
              "    }\n",
              "\n",
              "    [theme=dark] .colab-df-convert {\n",
              "      background-color: #3B4455;\n",
              "      fill: #D2E3FC;\n",
              "    }\n",
              "\n",
              "    [theme=dark] .colab-df-convert:hover {\n",
              "      background-color: #434B5C;\n",
              "      box-shadow: 0px 1px 3px 1px rgba(0, 0, 0, 0.15);\n",
              "      filter: drop-shadow(0px 1px 2px rgba(0, 0, 0, 0.3));\n",
              "      fill: #FFFFFF;\n",
              "    }\n",
              "  </style>\n",
              "\n",
              "    <script>\n",
              "      const buttonEl =\n",
              "        document.querySelector('#df-8604975c-25a6-410b-85c1-65243caadb2c button.colab-df-convert');\n",
              "      buttonEl.style.display =\n",
              "        google.colab.kernel.accessAllowed ? 'block' : 'none';\n",
              "\n",
              "      async function convertToInteractive(key) {\n",
              "        const element = document.querySelector('#df-8604975c-25a6-410b-85c1-65243caadb2c');\n",
              "        const dataTable =\n",
              "          await google.colab.kernel.invokeFunction('convertToInteractive',\n",
              "                                                    [key], {});\n",
              "        if (!dataTable) return;\n",
              "\n",
              "        const docLinkHtml = 'Like what you see? Visit the ' +\n",
              "          '<a target=\"_blank\" href=https://colab.research.google.com/notebooks/data_table.ipynb>data table notebook</a>'\n",
              "          + ' to learn more about interactive tables.';\n",
              "        element.innerHTML = '';\n",
              "        dataTable['output_type'] = 'display_data';\n",
              "        await google.colab.output.renderOutput(dataTable, element);\n",
              "        const docLink = document.createElement('div');\n",
              "        docLink.innerHTML = docLinkHtml;\n",
              "        element.appendChild(docLink);\n",
              "      }\n",
              "    </script>\n",
              "  </div>\n",
              "\n",
              "\n",
              "<div id=\"df-ff8a2b41-f532-4d9d-b310-0526b538e7e4\">\n",
              "  <button class=\"colab-df-quickchart\" onclick=\"quickchart('df-ff8a2b41-f532-4d9d-b310-0526b538e7e4')\"\n",
              "            title=\"Suggest charts.\"\n",
              "            style=\"display:none;\">\n",
              "\n",
              "<svg xmlns=\"http://www.w3.org/2000/svg\" height=\"24px\"viewBox=\"0 0 24 24\"\n",
              "     width=\"24px\">\n",
              "    <g>\n",
              "        <path d=\"M19 3H5c-1.1 0-2 .9-2 2v14c0 1.1.9 2 2 2h14c1.1 0 2-.9 2-2V5c0-1.1-.9-2-2-2zM9 17H7v-7h2v7zm4 0h-2V7h2v10zm4 0h-2v-4h2v4z\"/>\n",
              "    </g>\n",
              "</svg>\n",
              "  </button>\n",
              "\n",
              "<style>\n",
              "  .colab-df-quickchart {\n",
              "    background-color: #E8F0FE;\n",
              "    border: none;\n",
              "    border-radius: 50%;\n",
              "    cursor: pointer;\n",
              "    display: none;\n",
              "    fill: #1967D2;\n",
              "    height: 32px;\n",
              "    padding: 0 0 0 0;\n",
              "    width: 32px;\n",
              "  }\n",
              "\n",
              "  .colab-df-quickchart:hover {\n",
              "    background-color: #E2EBFA;\n",
              "    box-shadow: 0px 1px 2px rgba(60, 64, 67, 0.3), 0px 1px 3px 1px rgba(60, 64, 67, 0.15);\n",
              "    fill: #174EA6;\n",
              "  }\n",
              "\n",
              "  [theme=dark] .colab-df-quickchart {\n",
              "    background-color: #3B4455;\n",
              "    fill: #D2E3FC;\n",
              "  }\n",
              "\n",
              "  [theme=dark] .colab-df-quickchart:hover {\n",
              "    background-color: #434B5C;\n",
              "    box-shadow: 0px 1px 3px 1px rgba(0, 0, 0, 0.15);\n",
              "    filter: drop-shadow(0px 1px 2px rgba(0, 0, 0, 0.3));\n",
              "    fill: #FFFFFF;\n",
              "  }\n",
              "</style>\n",
              "\n",
              "  <script>\n",
              "    async function quickchart(key) {\n",
              "      const charts = await google.colab.kernel.invokeFunction(\n",
              "          'suggestCharts', [key], {});\n",
              "    }\n",
              "    (() => {\n",
              "      let quickchartButtonEl =\n",
              "        document.querySelector('#df-ff8a2b41-f532-4d9d-b310-0526b538e7e4 button');\n",
              "      quickchartButtonEl.style.display =\n",
              "        google.colab.kernel.accessAllowed ? 'block' : 'none';\n",
              "    })();\n",
              "  </script>\n",
              "</div>\n",
              "    </div>\n",
              "  </div>\n"
            ]
          },
          "metadata": {},
          "execution_count": 39
        }
      ],
      "source": [
        "from sklearn.linear_model import LinearRegression, Ridge, Lasso\n",
        "vehicles_scaled = pd.read_csv('/content/drive/My Drive/Colab Notebooks/AIML/Git-public-work/vehicles_imp6_jsenc_scaled.csv')\n",
        "vehicles_scaled.drop(['Unnamed: 0'], axis=1, inplace=True)\n",
        "print(vehicles_scaled.columns)\n",
        "from sklearn.model_selection import train_test_split\n",
        "from sklearn.metrics import mean_squared_error\n",
        "M = vehicles_scaled.drop('price', axis=1)\n",
        "n = vehicles_scaled[['price']]\n",
        "\n",
        "M_train, M_test, n_train, n_test = train_test_split(M, n, test_size=0.2, random_state=42)\n",
        "\n",
        "# Different amounts of regularization (alpha values)\n",
        "alpha_values = [0.0, 0.1, 1.0, 10.0, 100, 10000, 100000, 1000000]\n",
        "srows = []\n",
        "for alpha in alpha_values:\n",
        "    # Initialize Ridge model\n",
        "    ridge_model = Ridge(alpha=alpha)\n",
        "\n",
        "    # Fit the model\n",
        "    ridge_model.fit(M_train, n_train)\n",
        "\n",
        "    # Predict on test set\n",
        "    n_pred = ridge_model.predict(M_test)\n",
        "\n",
        "    # Calculate Mean Squared Error\n",
        "    mse = mean_squared_error(n_test, n_pred)\n",
        "\n",
        "    print(f\"Ridge model with alpha = {alpha}\")\n",
        "    print(f\"Coefficients: {ridge_model.coef_}\")\n",
        "    print(f\"Intercept: {ridge_model.intercept_}\")\n",
        "    print(f\"Mean Squared Error: {mse}\")\n",
        "    print(\"-------------------\")\n",
        "    srows.append([alpha, mse])\n",
        "    Mtrain_features = M_train.columns\n",
        "    coefficients_list = (ridge_model.coef_).tolist()\n",
        "    coefficients_df = pd.DataFrame({'Feature': Mtrain_features, 'Coefficient': coefficients_list[0]})\n",
        "    sorted_df = coefficients_df.sort_values(by='Coefficient', ascending=False)\n",
        "    print(sorted_df)\n",
        "\n",
        "vehicles_feature_scaled_alpha_mse_ridge = pd.DataFrame(srows, columns=['alpha', 'mse'])\n",
        "vehicles_feature_scaled_alpha_mse_ridge.head()\n"
      ]
    },
    {
      "cell_type": "code",
      "execution_count": 29,
      "metadata": {
        "id": "gyI5YjjSho9S",
        "colab": {
          "base_uri": "https://localhost:8080/"
        },
        "outputId": "825ccbe3-9a63-4de8-e281-1f58e961c513"
      },
      "outputs": [
        {
          "output_type": "execute_result",
          "data": {
            "text/plain": [
              "0.0005474366628003269"
            ]
          },
          "metadata": {},
          "execution_count": 29
        }
      ],
      "source": [
        "model = Ridge(alpha=10).fit(M_train, n_train)\n",
        "model.score(M_test, n_test)"
      ]
    },
    {
      "cell_type": "code",
      "execution_count": 30,
      "metadata": {
        "id": "aT9JTSK4ho9S",
        "colab": {
          "base_uri": "https://localhost:8080/"
        },
        "outputId": "cbc9a022-5145-4a01-b18d-a6728487f4e4"
      },
      "outputs": [
        {
          "output_type": "stream",
          "name": "stdout",
          "text": [
            "Model: Ridge(alpha=10)\n",
            "region_state\t0.00068 +/- 0.00007\n",
            "odometer\t0.00003 +/- 0.00000\n"
          ]
        }
      ],
      "source": [
        "print('Model:', model)\n",
        "M = vehicles_scaled.drop('price', axis=1)\n",
        "n = vehicles_scaled[['price']]\n",
        "\n",
        "M_train, M_test, n_train, n_test = train_test_split(M, n, test_size=0.2, random_state=42)\n",
        "\n",
        "r = permutation_importance(model, M_test, n_test,\n",
        "                            n_repeats=30,\n",
        "                            random_state=0)\n",
        "for i in r.importances_mean.argsort()[::-1]:\n",
        "     if r.importances_mean[i] - 2 * r.importances_std[i] > 0:\n",
        "         print(f\"{M_test.columns[i]:<8}\\t\"\n",
        "               f\"{r.importances_mean[i]:.5f}\"\n",
        "               f\" +/- {r.importances_std[i]:.5f}\")"
      ]
    },
    {
      "cell_type": "code",
      "execution_count": 31,
      "metadata": {
        "id": "xDVkIYLJho9T",
        "colab": {
          "base_uri": "https://localhost:8080/",
          "height": 720
        },
        "outputId": "813b6cb9-733f-4b51-9daa-d415fc45de0e"
      },
      "outputs": [
        {
          "output_type": "stream",
          "name": "stdout",
          "text": [
            "Index(['price', 'year', 'manufacturer', 'fuel', 'odometer', 'transmission',\n",
            "       'type', 'cylinders_labenc', 'size_labenc', 'condition_labenc',\n",
            "       'title_status_labenc', 'drive_labenc', 'region_state'],\n",
            "      dtype='object')\n",
            "<class 'numpy.ndarray'>\n",
            "[-0.  0.  0.  0.  0.  0.  0.  0. -0.  0.  0.  0.  0. -0. -0. -0. -0. -0.\n",
            " -0. -0.  0. -0. -0. -0.  0.  0.  0.  0.  0.  0. -0.  0.  0.  0.  0.  0.\n",
            " -0.  0. -0.  0.  0. -0.  0.  0.  0.  0.  0.  0.  0.  0. -0.  0.  0.  0.\n",
            " -0.  0.  0. -0. -0.  0.  0.  0.  0.  0. -0. -0.  0.  0.  0. -0. -0. -0.\n",
            "  0. -0.  0. -0. -0.  0.  0.  0. -0. -0.  0.  0. -0.  0.  0. -0.  0.  0.\n",
            " -0.  0.  0.  0.  0.  0.  0.  0. -0.  0.  0.  0. -0. -0. -0. -0. -0. -0.\n",
            "  0.  0. -0. -0. -0. -0.  0. -0. -0. -0. -0.  0. -0.  0. -0. -0. -0. -0.\n",
            " -0. -0.  0. -0. -0. -0. -0. -0. -0.  0.  0. -0. -0. -0. -0.  0.  0.  0.\n",
            " -0. -0. -0.  0. -0.  0. -0. -0. -0. -0.  0. -0. -0. -0.  0.  0.  0.  0.\n",
            "  0. -0. -0. -0. -0. -0.  0.  0.  0.  0.  0.  0. -0.  0.  0.  0.  0.  0.\n",
            " -0.  0. -0.  0.  0. -0.  0.  0.  0.  0.  0.  0.  0.  0. -0.  0.  0.  0.\n",
            "  0.  0.  0. -0. -0.  0.  0.  0.  0.  0. -0. -0.  0.  0.  0.  0.  0. -0.\n",
            "  0.  0.  0.  0.  0. -0. -0. -0.  0.  0.  0.  0.  0.  0.  0.  0.  0.  0.\n",
            "  0. -0.  0.  0.  0.  0. -0.  0.  0.  0.  0. -0.  0.  0.  0.  0.  0. -0.\n",
            " -0.  0.  0.  0. -0. -0.  0.  0.  0. -0.  0.  0. -0. -0.  0.  0.  0.  0.\n",
            " -0.  0.  0.  0.  0. -0.  0.  0.  0. -0. -0. -0. -0.  0.  0.  0.  0.  0.\n",
            "  0. -0.  0.  0.  0.  0.  0.  0.  0.  0.  0.  0.  0. -0. -0.  0.  0.  0.\n",
            "  0. -0. -0. -0.  0. -0. -0.  0.  0. -0.  0.  0.  0.  0. -0.  0.  0.  0.\n",
            " -0. -0.  0. -0. -0.  0.  0.  0.  0.  0.  0.  0.  0.  0. -0.  0.  0.  0.\n",
            "  0. -0. -0. -0.  0.  0.  0. -0. -0. -0.  0. -0.  0. -0. -0. -0. -0. -0.\n",
            " -0. -0.  0. -0. -0.  0.  0.  0.  0.  0.  0.  0.  0. -0.  0.  0.  0.  0.\n",
            "  0. -0.  0.  0.  0.  0. -0. -0.  0. -0.  0. -0.  0. -0. -0.  0.  0.  0.\n",
            "  0.  0.  0.  0. -0.  0.  0.  0.  0. -0.  0.  0.  0.  0.  0. -0. -0.  0.\n",
            "  0.  0.  0.  0.  0.  0. -0.  0.  0.  0.  0. -0. -0. -0. -0.  0.  0.  0.\n",
            "  0.  0.  0.  0.  0.  0.  0.  0.  0.  0.  0.  0.  0. -0.  0.  0.  0.  0.\n",
            "  0.  0.  0.  0.]\n"
          ]
        },
        {
          "output_type": "execute_result",
          "data": {
            "text/plain": [
              "Pipeline(steps=[('polyfeatures',\n",
              "                 PolynomialFeatures(degree=3, include_bias=False)),\n",
              "                ('scaler', StandardScaler()),\n",
              "                ('lasso', Lasso(random_state=42))])"
            ],
            "text/html": [
              "<style>#sk-container-id-4 {color: black;background-color: white;}#sk-container-id-4 pre{padding: 0;}#sk-container-id-4 div.sk-toggleable {background-color: white;}#sk-container-id-4 label.sk-toggleable__label {cursor: pointer;display: block;width: 100%;margin-bottom: 0;padding: 0.3em;box-sizing: border-box;text-align: center;}#sk-container-id-4 label.sk-toggleable__label-arrow:before {content: \"▸\";float: left;margin-right: 0.25em;color: #696969;}#sk-container-id-4 label.sk-toggleable__label-arrow:hover:before {color: black;}#sk-container-id-4 div.sk-estimator:hover label.sk-toggleable__label-arrow:before {color: black;}#sk-container-id-4 div.sk-toggleable__content {max-height: 0;max-width: 0;overflow: hidden;text-align: left;background-color: #f0f8ff;}#sk-container-id-4 div.sk-toggleable__content pre {margin: 0.2em;color: black;border-radius: 0.25em;background-color: #f0f8ff;}#sk-container-id-4 input.sk-toggleable__control:checked~div.sk-toggleable__content {max-height: 200px;max-width: 100%;overflow: auto;}#sk-container-id-4 input.sk-toggleable__control:checked~label.sk-toggleable__label-arrow:before {content: \"▾\";}#sk-container-id-4 div.sk-estimator input.sk-toggleable__control:checked~label.sk-toggleable__label {background-color: #d4ebff;}#sk-container-id-4 div.sk-label input.sk-toggleable__control:checked~label.sk-toggleable__label {background-color: #d4ebff;}#sk-container-id-4 input.sk-hidden--visually {border: 0;clip: rect(1px 1px 1px 1px);clip: rect(1px, 1px, 1px, 1px);height: 1px;margin: -1px;overflow: hidden;padding: 0;position: absolute;width: 1px;}#sk-container-id-4 div.sk-estimator {font-family: monospace;background-color: #f0f8ff;border: 1px dotted black;border-radius: 0.25em;box-sizing: border-box;margin-bottom: 0.5em;}#sk-container-id-4 div.sk-estimator:hover {background-color: #d4ebff;}#sk-container-id-4 div.sk-parallel-item::after {content: \"\";width: 100%;border-bottom: 1px solid gray;flex-grow: 1;}#sk-container-id-4 div.sk-label:hover label.sk-toggleable__label {background-color: #d4ebff;}#sk-container-id-4 div.sk-serial::before {content: \"\";position: absolute;border-left: 1px solid gray;box-sizing: border-box;top: 0;bottom: 0;left: 50%;z-index: 0;}#sk-container-id-4 div.sk-serial {display: flex;flex-direction: column;align-items: center;background-color: white;padding-right: 0.2em;padding-left: 0.2em;position: relative;}#sk-container-id-4 div.sk-item {position: relative;z-index: 1;}#sk-container-id-4 div.sk-parallel {display: flex;align-items: stretch;justify-content: center;background-color: white;position: relative;}#sk-container-id-4 div.sk-item::before, #sk-container-id-4 div.sk-parallel-item::before {content: \"\";position: absolute;border-left: 1px solid gray;box-sizing: border-box;top: 0;bottom: 0;left: 50%;z-index: -1;}#sk-container-id-4 div.sk-parallel-item {display: flex;flex-direction: column;z-index: 1;position: relative;background-color: white;}#sk-container-id-4 div.sk-parallel-item:first-child::after {align-self: flex-end;width: 50%;}#sk-container-id-4 div.sk-parallel-item:last-child::after {align-self: flex-start;width: 50%;}#sk-container-id-4 div.sk-parallel-item:only-child::after {width: 0;}#sk-container-id-4 div.sk-dashed-wrapped {border: 1px dashed gray;margin: 0 0.4em 0.5em 0.4em;box-sizing: border-box;padding-bottom: 0.4em;background-color: white;}#sk-container-id-4 div.sk-label label {font-family: monospace;font-weight: bold;display: inline-block;line-height: 1.2em;}#sk-container-id-4 div.sk-label-container {text-align: center;}#sk-container-id-4 div.sk-container {/* jupyter's `normalize.less` sets `[hidden] { display: none; }` but bootstrap.min.css set `[hidden] { display: none !important; }` so we also need the `!important` here to be able to override the default hidden behavior on the sphinx rendered scikit-learn.org. See: https://github.com/scikit-learn/scikit-learn/issues/21755 */display: inline-block !important;position: relative;}#sk-container-id-4 div.sk-text-repr-fallback {display: none;}</style><div id=\"sk-container-id-4\" class=\"sk-top-container\"><div class=\"sk-text-repr-fallback\"><pre>Pipeline(steps=[(&#x27;polyfeatures&#x27;,\n",
              "                 PolynomialFeatures(degree=3, include_bias=False)),\n",
              "                (&#x27;scaler&#x27;, StandardScaler()),\n",
              "                (&#x27;lasso&#x27;, Lasso(random_state=42))])</pre><b>In a Jupyter environment, please rerun this cell to show the HTML representation or trust the notebook. <br />On GitHub, the HTML representation is unable to render, please try loading this page with nbviewer.org.</b></div><div class=\"sk-container\" hidden><div class=\"sk-item sk-dashed-wrapped\"><div class=\"sk-label-container\"><div class=\"sk-label sk-toggleable\"><input class=\"sk-toggleable__control sk-hidden--visually\" id=\"sk-estimator-id-13\" type=\"checkbox\" ><label for=\"sk-estimator-id-13\" class=\"sk-toggleable__label sk-toggleable__label-arrow\">Pipeline</label><div class=\"sk-toggleable__content\"><pre>Pipeline(steps=[(&#x27;polyfeatures&#x27;,\n",
              "                 PolynomialFeatures(degree=3, include_bias=False)),\n",
              "                (&#x27;scaler&#x27;, StandardScaler()),\n",
              "                (&#x27;lasso&#x27;, Lasso(random_state=42))])</pre></div></div></div><div class=\"sk-serial\"><div class=\"sk-item\"><div class=\"sk-estimator sk-toggleable\"><input class=\"sk-toggleable__control sk-hidden--visually\" id=\"sk-estimator-id-14\" type=\"checkbox\" ><label for=\"sk-estimator-id-14\" class=\"sk-toggleable__label sk-toggleable__label-arrow\">PolynomialFeatures</label><div class=\"sk-toggleable__content\"><pre>PolynomialFeatures(degree=3, include_bias=False)</pre></div></div></div><div class=\"sk-item\"><div class=\"sk-estimator sk-toggleable\"><input class=\"sk-toggleable__control sk-hidden--visually\" id=\"sk-estimator-id-15\" type=\"checkbox\" ><label for=\"sk-estimator-id-15\" class=\"sk-toggleable__label sk-toggleable__label-arrow\">StandardScaler</label><div class=\"sk-toggleable__content\"><pre>StandardScaler()</pre></div></div></div><div class=\"sk-item\"><div class=\"sk-estimator sk-toggleable\"><input class=\"sk-toggleable__control sk-hidden--visually\" id=\"sk-estimator-id-16\" type=\"checkbox\" ><label for=\"sk-estimator-id-16\" class=\"sk-toggleable__label sk-toggleable__label-arrow\">Lasso</label><div class=\"sk-toggleable__content\"><pre>Lasso(random_state=42)</pre></div></div></div></div></div></div></div>"
            ]
          },
          "metadata": {},
          "execution_count": 31
        }
      ],
      "source": [
        "from sklearn.linear_model import LinearRegression, Lasso\n",
        "from sklearn.preprocessing import StandardScaler, PolynomialFeatures\n",
        "from sklearn.pipeline import Pipeline\n",
        "from sklearn.feature_selection import SequentialFeatureSelector, SelectFromModel\n",
        "from sklearn.metrics import mean_squared_error\n",
        "from sklearn.model_selection import train_test_split, GridSearchCV\n",
        "from sklearn import set_config\n",
        "set_config(display=\"diagram\")\n",
        "\n",
        "print(vehicles_scaled.columns)\n",
        "#generate train/test data for auto\n",
        "auto_X = vehicles_scaled.drop(['price'], axis = 1)\n",
        "auto_y = vehicles_scaled['price']\n",
        "auto_X_train, auto_X_test, auto_y_train, auto_y_test = train_test_split(auto_X, auto_y,\n",
        "                                                                       test_size = 0.3,\n",
        "                                                                       random_state = 42)\n",
        "np.set_printoptions(precision=2)\n",
        "auto_pipe = ''\n",
        "lasso_coefs = ''\n",
        "auto_pipe = Pipeline([('polyfeatures', PolynomialFeatures(degree = 3, include_bias = False)),\n",
        "                      ('scaler', StandardScaler()),\n",
        "                     ('lasso', Lasso(random_state = 42))])\n",
        "auto_pipe.fit(auto_X_train, auto_y_train)\n",
        "lasso_coefs = auto_pipe.named_steps['lasso'].coef_\n",
        "\n",
        "\n",
        "print(type(lasso_coefs))\n",
        "print(lasso_coefs)\n",
        "auto_pipe"
      ]
    },
    {
      "cell_type": "markdown",
      "source": [
        "Scalled model was given as an input and that seems to have produced co-efficients of all nearly zero values."
      ],
      "metadata": {
        "id": "woCroSScOQwZ"
      }
    },
    {
      "cell_type": "code",
      "source": [
        "# Drafting unscalled dataset and now putting it throguh the pipeline, including standardscalar and generating results.\n",
        "import pandas as pd\n",
        "import numpy as np\n",
        "from sklearn.linear_model import LinearRegression, Lasso\n",
        "from sklearn.preprocessing import StandardScaler, PolynomialFeatures\n",
        "from sklearn.pipeline import Pipeline\n",
        "from sklearn.feature_selection import SequentialFeatureSelector, SelectFromModel\n",
        "from sklearn.metrics import mean_squared_error\n",
        "from sklearn.model_selection import train_test_split, GridSearchCV\n",
        "from sklearn import set_config\n",
        "set_config(display=\"diagram\")\n",
        "\n",
        "vehicles_imp6_jsen = pd.read_csv('/content/drive/My Drive/Colab Notebooks/AIML/Git-public-work/vehicles_imp6_jsen.csv')\n",
        "vehicles_imp6_jsen.drop(['Unnamed: 0'], axis=1, inplace=True)\n",
        "vehicles_imp6_jsen.reset_index(drop=True)\n",
        "vehicles_imp6_jsen.head()\n",
        "#generate train/test data for auto\n",
        "auto_X = vehicles_imp6_jsen.drop(['price'], axis = 1)\n",
        "auto_y = vehicles_imp6_jsen['price']\n",
        "auto_X_train, auto_X_test, auto_y_train, auto_y_test = train_test_split(auto_X, auto_y,\n",
        "                                                                       test_size = 0.3,\n",
        "                                                                       random_state = 42)\n",
        "np.set_printoptions(precision=2)\n",
        "auto_pipe = ''\n",
        "lasso_coefs = ''\n",
        "auto_pipe = Pipeline([('polyfeatures', PolynomialFeatures(degree = 3, include_bias = False)),\n",
        "                      ('scaler', StandardScaler()),\n",
        "                     ('lasso', Lasso(random_state = 42))])\n",
        "auto_pipe.fit(auto_X_train, auto_y_train)\n",
        "lasso_coefs = auto_pipe.named_steps['lasso'].coef_\n",
        "\n",
        "\n",
        "print(type(lasso_coefs))\n",
        "print(lasso_coefs)\n",
        "auto_pipe"
      ],
      "metadata": {
        "colab": {
          "base_uri": "https://localhost:8080/",
          "height": 1000
        },
        "id": "dMA0QMWZj4YD",
        "outputId": "3bb1253e-70af-4113-9ca8-f529d5c1e390"
      },
      "execution_count": 27,
      "outputs": [
        {
          "output_type": "stream",
          "name": "stdout",
          "text": [
            "<class 'numpy.ndarray'>\n",
            "[-3.76e+05 -2.57e+05 -1.77e+04  6.83e+05 -9.44e+04 -1.69e+05 -2.33e+05\n",
            "  1.31e+05 -1.50e+04  1.25e+05 -2.45e+05 -5.94e+05  1.41e+05 -7.93e+04\n",
            " -6.10e+04 -1.09e+06  7.23e+04  1.79e+04  1.07e+05  5.29e+04  2.62e+04\n",
            " -7.42e+04  6.80e+04 -3.93e+05 -5.17e+05  4.10e+05 -4.14e+05  1.62e+05\n",
            " -3.51e+05  4.76e+05  3.46e+05 -2.08e+05  3.44e+04 -3.57e+05 -1.76e+06\n",
            " -8.37e+03  5.63e+05 -4.22e+05  4.66e+05 -2.28e+05 -1.04e+05 -8.60e+04\n",
            " -2.15e+05 -3.90e+05  1.71e+05 -8.34e+05  2.31e+05  4.24e+05 -3.62e+05\n",
            "  4.93e+05  1.17e+05  1.71e+05  1.79e+05 -3.56e+06  5.86e+05  1.90e+05\n",
            "  2.61e+05 -3.39e+04 -2.74e+05 -1.12e+05  3.89e+05  1.25e+06  1.05e+05\n",
            " -2.44e+05  8.63e+04  3.87e+04  1.75e+04  8.80e+04  5.23e+05  4.44e+05\n",
            " -4.45e+05  2.66e+05 -1.49e+04  9.81e+03  1.94e+05  2.05e+05 -1.85e+05\n",
            "  4.90e+04  8.96e+04  7.14e+05  2.90e+05 -1.67e+05 -2.52e+05  1.46e+05\n",
            "  1.72e+05  7.90e+04 -1.77e+05 -2.47e+05 -1.99e+06 -5.35e+05  1.98e+05\n",
            "  5.15e+05  4.25e+05  1.39e+05 -8.62e+05 -6.85e+05 -1.27e+05  2.44e+04\n",
            "  1.08e+05 -1.41e+05  7.73e+05  1.63e+06 -4.89e+05  4.09e+05 -4.96e+05\n",
            "  1.38e+05 -3.97e+05  4.91e+05  4.00e+05 -1.78e+05  2.38e+04 -3.04e+05\n",
            " -1.53e+06  6.69e+04  9.62e+05 -5.37e+05  3.52e+05 -3.07e+05 -1.98e+04\n",
            " -2.90e+04 -1.99e+05 -3.65e+05 -1.16e+05 -6.61e+05 -7.69e+04  3.16e+03\n",
            " -1.21e+05  7.31e+05 -2.53e+05  3.23e+05  2.24e+05 -2.62e+06  5.98e+05\n",
            "  1.76e+05  1.89e+05  3.79e+04 -1.69e+05 -9.34e+04  3.55e+05  7.88e+05\n",
            "  1.59e+05 -2.72e+05  8.24e+04  7.77e+04  2.65e+04  9.79e+04  5.79e+05\n",
            "  2.32e+05 -5.31e+05  2.79e+05  1.83e+04  8.66e+04  3.84e+05  1.04e+05\n",
            " -2.29e+05  6.12e+04  1.05e+05  6.99e+05  3.02e+05 -1.96e+05 -2.41e+05\n",
            "  2.03e+05  1.64e+05  7.64e+04 -2.07e+05 -1.94e+05 -1.83e+06 -7.94e+05\n",
            "  2.45e+05 -8.46e+05  1.76e+05  3.60e+04  9.05e+05 -3.04e+05  2.32e+04\n",
            "  3.71e+05  2.78e+04  6.93e+04  1.27e+06 -2.39e+05 -9.47e+05  1.08e+06\n",
            " -3.42e+05 -7.87e+04  8.61e+04 -2.97e+05 -3.47e+04  3.60e+05  8.37e+04\n",
            " -2.05e+05  5.21e+05  3.60e+05 -6.19e+05  3.25e+05  4.85e+05  9.92e+04\n",
            "  5.38e+05 -8.13e+04 -2.18e+05  9.72e+04 -3.90e+05 -5.58e+05 -3.27e+05\n",
            "  7.02e+04 -9.67e+04  8.29e+05  2.89e+05 -1.00e+05 -6.53e+05 -1.55e+05\n",
            "  7.71e+02  2.27e+05  9.06e+05 -3.90e+05  2.93e+05  1.93e+05  6.04e+04\n",
            "  1.02e+05  4.59e+04 -4.14e+04  1.14e+05  9.13e+04 -2.09e+05 -8.35e+05\n",
            " -3.21e+05  4.78e+05  2.39e+05  6.07e+05 -2.66e+05 -1.53e+05  1.67e+05\n",
            "  2.77e+04  6.03e+05  1.24e+05  2.76e+05  6.44e+05 -2.33e+05  7.23e+04\n",
            "  2.52e+05  4.48e+04 -1.82e+05 -1.22e+05 -1.01e+05 -4.67e+05  1.06e+06\n",
            " -1.38e+06  1.84e+05 -4.63e+04  1.49e+06 -1.26e+06  3.16e+05 -1.59e+06\n",
            " -9.77e+05  8.09e+05 -5.09e+05 -2.17e+04 -2.04e+05  3.14e+05 -2.85e+05\n",
            "  8.46e+04  1.83e+06 -7.90e+05  6.97e+04  7.83e+05  1.21e+05 -2.64e+05\n",
            "  2.65e+05 -1.40e+06 -1.85e+05  5.09e+05  1.51e+05 -6.00e+04  7.84e+04\n",
            " -1.62e+05 -3.96e+05  2.35e+05 -1.07e+05 -6.01e+05 -6.98e+05 -3.68e+04\n",
            "  4.01e+05 -2.30e+05 -5.13e+05  4.65e+05 -1.67e+04  1.95e+05  9.15e+05\n",
            "  2.64e+06 -4.94e+05  7.71e+05 -1.05e+06 -2.92e+05  6.29e+05 -1.61e+05\n",
            "  1.42e+05  6.16e+05  2.02e+04 -7.74e+05  6.38e+05  4.33e+05 -2.52e+05\n",
            " -5.20e+05  3.27e+05 -8.83e+04 -2.55e+04  3.06e+06  5.04e+05  2.16e+05\n",
            " -7.65e+05 -2.16e+04 -4.02e+05 -3.12e+05 -1.78e+06 -6.53e+05  7.89e+05\n",
            "  7.97e+05 -7.18e+04 -7.26e+05  3.87e+06 -9.82e+05 -1.56e+05 -3.88e+05\n",
            "  1.19e+05  5.01e+04 -9.76e+04  1.63e+04 -2.40e+03  4.16e+05  3.66e+05\n",
            " -6.42e+05 -1.94e+06  1.27e+06 -7.18e+05  4.70e+06 -8.21e+05 -2.40e+05\n",
            "  1.49e+05  1.58e+05 -1.61e+05 -1.28e+05 -1.84e+05 -4.24e+05 -2.34e+05\n",
            " -4.13e+03  1.57e+05  2.57e+05  9.70e+04 -1.88e+05  3.58e+05  7.94e+02\n",
            " -7.92e+04 -4.11e+04  8.87e+04 -1.06e+05 -9.58e+05  8.30e+04  3.83e+05\n",
            "  5.27e+04  3.45e+04 -2.80e+06  2.52e+04  1.13e+05 -8.71e+03 -3.66e+05\n",
            "  2.05e+05  4.38e+04  3.57e+05 -3.57e+05 -1.31e+05 -3.39e+05  4.33e+05\n",
            "  3.13e+05 -1.90e+05 -3.27e+05  2.17e+05 -3.95e+05  3.50e+04  2.61e+05\n",
            " -8.21e+04 -2.79e+05  9.98e+04  7.58e+04  3.76e+05  7.19e+04 -9.07e+04\n",
            " -1.30e+04  1.08e+05 -8.41e+05 -2.17e+05  2.96e+05  2.56e+05  6.25e+05\n",
            " -3.12e+05  5.64e+03  4.80e+05 -2.61e+05  3.25e+05 -1.27e+06 -8.46e+04\n",
            "  5.35e+04 -1.50e+05  1.68e+05 -2.76e+05 -1.01e+06  1.20e+05 -1.29e+05\n",
            "  6.32e+04  4.95e+05  9.67e+05 -3.83e+05 -1.00e+04  1.15e+05  4.16e+05\n",
            " -2.58e+05  8.34e+04  6.27e+05 -2.54e+05 -4.73e+04 -8.36e+05  9.93e+04\n",
            " -2.15e+05  3.46e+03 -2.23e+05 -1.03e+05  2.08e+05 -2.02e+05  2.77e+05\n",
            "  9.44e+05 -1.25e+05  2.40e+05  6.01e+05 -2.13e+05 -6.39e+05  1.29e+06\n",
            " -4.07e+04 -5.68e+04 -3.45e+04 -1.53e+06  3.27e+04  1.57e+05  9.48e+05\n",
            "  5.48e+04  3.31e+05 -6.90e+05 -1.71e+05 -6.96e+04  2.33e+05 -1.72e+05\n",
            " -1.47e+06 -7.21e+05  9.40e+04  1.06e+06  1.83e+06  7.50e+05]\n"
          ]
        },
        {
          "output_type": "stream",
          "name": "stderr",
          "text": [
            "/usr/local/lib/python3.10/dist-packages/sklearn/linear_model/_coordinate_descent.py:631: ConvergenceWarning: Objective did not converge. You might want to increase the number of iterations, check the scale of the features or consider increasing regularisation. Duality gap: 1.979e+19, tolerance: 3.994e+15\n",
            "  model = cd_fast.enet_coordinate_descent(\n"
          ]
        },
        {
          "output_type": "execute_result",
          "data": {
            "text/plain": [
              "Pipeline(steps=[('polyfeatures',\n",
              "                 PolynomialFeatures(degree=3, include_bias=False)),\n",
              "                ('scaler', StandardScaler()),\n",
              "                ('lasso', Lasso(random_state=42))])"
            ],
            "text/html": [
              "<style>#sk-container-id-1 {color: black;background-color: white;}#sk-container-id-1 pre{padding: 0;}#sk-container-id-1 div.sk-toggleable {background-color: white;}#sk-container-id-1 label.sk-toggleable__label {cursor: pointer;display: block;width: 100%;margin-bottom: 0;padding: 0.3em;box-sizing: border-box;text-align: center;}#sk-container-id-1 label.sk-toggleable__label-arrow:before {content: \"▸\";float: left;margin-right: 0.25em;color: #696969;}#sk-container-id-1 label.sk-toggleable__label-arrow:hover:before {color: black;}#sk-container-id-1 div.sk-estimator:hover label.sk-toggleable__label-arrow:before {color: black;}#sk-container-id-1 div.sk-toggleable__content {max-height: 0;max-width: 0;overflow: hidden;text-align: left;background-color: #f0f8ff;}#sk-container-id-1 div.sk-toggleable__content pre {margin: 0.2em;color: black;border-radius: 0.25em;background-color: #f0f8ff;}#sk-container-id-1 input.sk-toggleable__control:checked~div.sk-toggleable__content {max-height: 200px;max-width: 100%;overflow: auto;}#sk-container-id-1 input.sk-toggleable__control:checked~label.sk-toggleable__label-arrow:before {content: \"▾\";}#sk-container-id-1 div.sk-estimator input.sk-toggleable__control:checked~label.sk-toggleable__label {background-color: #d4ebff;}#sk-container-id-1 div.sk-label input.sk-toggleable__control:checked~label.sk-toggleable__label {background-color: #d4ebff;}#sk-container-id-1 input.sk-hidden--visually {border: 0;clip: rect(1px 1px 1px 1px);clip: rect(1px, 1px, 1px, 1px);height: 1px;margin: -1px;overflow: hidden;padding: 0;position: absolute;width: 1px;}#sk-container-id-1 div.sk-estimator {font-family: monospace;background-color: #f0f8ff;border: 1px dotted black;border-radius: 0.25em;box-sizing: border-box;margin-bottom: 0.5em;}#sk-container-id-1 div.sk-estimator:hover {background-color: #d4ebff;}#sk-container-id-1 div.sk-parallel-item::after {content: \"\";width: 100%;border-bottom: 1px solid gray;flex-grow: 1;}#sk-container-id-1 div.sk-label:hover label.sk-toggleable__label {background-color: #d4ebff;}#sk-container-id-1 div.sk-serial::before {content: \"\";position: absolute;border-left: 1px solid gray;box-sizing: border-box;top: 0;bottom: 0;left: 50%;z-index: 0;}#sk-container-id-1 div.sk-serial {display: flex;flex-direction: column;align-items: center;background-color: white;padding-right: 0.2em;padding-left: 0.2em;position: relative;}#sk-container-id-1 div.sk-item {position: relative;z-index: 1;}#sk-container-id-1 div.sk-parallel {display: flex;align-items: stretch;justify-content: center;background-color: white;position: relative;}#sk-container-id-1 div.sk-item::before, #sk-container-id-1 div.sk-parallel-item::before {content: \"\";position: absolute;border-left: 1px solid gray;box-sizing: border-box;top: 0;bottom: 0;left: 50%;z-index: -1;}#sk-container-id-1 div.sk-parallel-item {display: flex;flex-direction: column;z-index: 1;position: relative;background-color: white;}#sk-container-id-1 div.sk-parallel-item:first-child::after {align-self: flex-end;width: 50%;}#sk-container-id-1 div.sk-parallel-item:last-child::after {align-self: flex-start;width: 50%;}#sk-container-id-1 div.sk-parallel-item:only-child::after {width: 0;}#sk-container-id-1 div.sk-dashed-wrapped {border: 1px dashed gray;margin: 0 0.4em 0.5em 0.4em;box-sizing: border-box;padding-bottom: 0.4em;background-color: white;}#sk-container-id-1 div.sk-label label {font-family: monospace;font-weight: bold;display: inline-block;line-height: 1.2em;}#sk-container-id-1 div.sk-label-container {text-align: center;}#sk-container-id-1 div.sk-container {/* jupyter's `normalize.less` sets `[hidden] { display: none; }` but bootstrap.min.css set `[hidden] { display: none !important; }` so we also need the `!important` here to be able to override the default hidden behavior on the sphinx rendered scikit-learn.org. See: https://github.com/scikit-learn/scikit-learn/issues/21755 */display: inline-block !important;position: relative;}#sk-container-id-1 div.sk-text-repr-fallback {display: none;}</style><div id=\"sk-container-id-1\" class=\"sk-top-container\"><div class=\"sk-text-repr-fallback\"><pre>Pipeline(steps=[(&#x27;polyfeatures&#x27;,\n",
              "                 PolynomialFeatures(degree=3, include_bias=False)),\n",
              "                (&#x27;scaler&#x27;, StandardScaler()),\n",
              "                (&#x27;lasso&#x27;, Lasso(random_state=42))])</pre><b>In a Jupyter environment, please rerun this cell to show the HTML representation or trust the notebook. <br />On GitHub, the HTML representation is unable to render, please try loading this page with nbviewer.org.</b></div><div class=\"sk-container\" hidden><div class=\"sk-item sk-dashed-wrapped\"><div class=\"sk-label-container\"><div class=\"sk-label sk-toggleable\"><input class=\"sk-toggleable__control sk-hidden--visually\" id=\"sk-estimator-id-1\" type=\"checkbox\" ><label for=\"sk-estimator-id-1\" class=\"sk-toggleable__label sk-toggleable__label-arrow\">Pipeline</label><div class=\"sk-toggleable__content\"><pre>Pipeline(steps=[(&#x27;polyfeatures&#x27;,\n",
              "                 PolynomialFeatures(degree=3, include_bias=False)),\n",
              "                (&#x27;scaler&#x27;, StandardScaler()),\n",
              "                (&#x27;lasso&#x27;, Lasso(random_state=42))])</pre></div></div></div><div class=\"sk-serial\"><div class=\"sk-item\"><div class=\"sk-estimator sk-toggleable\"><input class=\"sk-toggleable__control sk-hidden--visually\" id=\"sk-estimator-id-2\" type=\"checkbox\" ><label for=\"sk-estimator-id-2\" class=\"sk-toggleable__label sk-toggleable__label-arrow\">PolynomialFeatures</label><div class=\"sk-toggleable__content\"><pre>PolynomialFeatures(degree=3, include_bias=False)</pre></div></div></div><div class=\"sk-item\"><div class=\"sk-estimator sk-toggleable\"><input class=\"sk-toggleable__control sk-hidden--visually\" id=\"sk-estimator-id-3\" type=\"checkbox\" ><label for=\"sk-estimator-id-3\" class=\"sk-toggleable__label sk-toggleable__label-arrow\">StandardScaler</label><div class=\"sk-toggleable__content\"><pre>StandardScaler()</pre></div></div></div><div class=\"sk-item\"><div class=\"sk-estimator sk-toggleable\"><input class=\"sk-toggleable__control sk-hidden--visually\" id=\"sk-estimator-id-4\" type=\"checkbox\" ><label for=\"sk-estimator-id-4\" class=\"sk-toggleable__label sk-toggleable__label-arrow\">Lasso</label><div class=\"sk-toggleable__content\"><pre>Lasso(random_state=42)</pre></div></div></div></div></div></div></div>"
            ]
          },
          "metadata": {},
          "execution_count": 27
        }
      ]
    },
    {
      "cell_type": "markdown",
      "source": [
        "Unscalled model was given as an input and that yields co-efficients for almost all the values or features. Next is to produce MSE's and see where it leads."
      ],
      "metadata": {
        "id": "-HpNmzH3Ooyi"
      }
    },
    {
      "cell_type": "code",
      "source": [
        "from sklearn.metrics import mean_squared_error\n",
        "from sklearn.model_selection import train_test_split\n",
        "import pandas as pd\n",
        "from sklearn.pipeline import Pipeline\n",
        "from sklearn.linear_model import LinearRegression, Lasso\n",
        "from sklearn.preprocessing import StandardScaler, PolynomialFeatures\n",
        "\n",
        "lasso_train_mse = ''\n",
        "lasso_test_mse = ''\n",
        "\n",
        "from google.colab import drive\n",
        "drive.mount('/content/drive')\n",
        "vehicles_imp6_jsen = pd.read_csv('/content/drive/My Drive/Colab Notebooks/AIML/Git-public-work/vehicles_imp6_jsen.csv')\n",
        "vehicles_imp6_jsen.drop(['Unnamed: 0'], axis=1, inplace=True)\n",
        "vehicles_imp6_jsen.reset_index(drop=True)\n",
        "auto_X = vehicles_imp6_jsen.drop(['price'], axis = 1)\n",
        "auto_y = vehicles_imp6_jsen['price']\n",
        "\n",
        "auto_pipe = ''\n",
        "lasso_coefs = ''\n",
        "auto_pipe = Pipeline([('polyfeatures', PolynomialFeatures(degree = 3, include_bias = False)),\n",
        "                      ('scaler', StandardScaler()),\n",
        "                     ('lasso', Lasso(random_state = 42))])\n",
        "auto_pipe.fit(auto_X_train, auto_y_train)\n",
        "lasso_coefs = auto_pipe.named_steps['lasso'].coef_\n",
        "\n",
        "auto_X_train, auto_X_test, auto_y_train, auto_y_test = train_test_split(auto_X, auto_y,\n",
        "                                                                       test_size = 0.3,\n",
        "                                                                       random_state = 42)\n",
        "\n",
        "lasso_train_mse = mean_squared_error(auto_y_train, auto_pipe.predict(auto_X_train))\n",
        "lasso_test_mse = mean_squared_error(auto_y_test, auto_pipe.predict(auto_X_test))\n",
        "\n",
        "# Answer check\n",
        "print(lasso_train_mse)\n",
        "print(lasso_test_mse)"
      ],
      "metadata": {
        "colab": {
          "base_uri": "https://localhost:8080/"
        },
        "id": "LZ2WC5Nuznkp",
        "outputId": "b01fe45c-81c4-43fb-e114-3bab503c53e8"
      },
      "execution_count": 28,
      "outputs": [
        {
          "output_type": "stream",
          "name": "stdout",
          "text": [
            "Drive already mounted at /content/drive; to attempt to forcibly remount, call drive.mount(\"/content/drive\", force_remount=True).\n"
          ]
        },
        {
          "output_type": "stream",
          "name": "stderr",
          "text": [
            "/usr/local/lib/python3.10/dist-packages/sklearn/linear_model/_coordinate_descent.py:631: ConvergenceWarning: Objective did not converge. You might want to increase the number of iterations, check the scale of the features or consider increasing regularisation. Duality gap: 1.979e+19, tolerance: 3.994e+15\n",
            "  model = cd_fast.enet_coordinate_descent(\n"
          ]
        },
        {
          "output_type": "stream",
          "name": "stdout",
          "text": [
            "132919840681931.0\n",
            "325589202962978.94\n"
          ]
        }
      ]
    },
    {
      "cell_type": "markdown",
      "source": [
        "MSE for train and test sets are too high."
      ],
      "metadata": {
        "id": "z3HYUb2mSaKZ"
      }
    },
    {
      "cell_type": "code",
      "source": [],
      "metadata": {
        "id": "dkcMoREjPVU6"
      },
      "execution_count": null,
      "outputs": []
    },
    {
      "cell_type": "code",
      "source": [
        "import seaborn as sns\n",
        "import matplotlib.pyplot as plt\n",
        "\n",
        "# Researching on co-linearity\n",
        "X =''\n",
        "y=''\n",
        "def sk_vif(exogs, data):\n",
        "  vif_dict = {}\n",
        "\n",
        "  for exog in exogs:\n",
        "    not_exog = [i for i in exogs if i !=exog]\n",
        "    # split the dataset, one independent variable against all others\n",
        "    X, y = data[not_exog], data[exog]\n",
        "\n",
        "    # fit the model and obtain R^2\n",
        "    r_squared = LinearRegression().fit(X,y).score(X,y)\n",
        "\n",
        "    # compute the VIF\n",
        "    vif = 1/(1-r_squared)\n",
        "    vif_dict[exog] = vif\n",
        "\n",
        "  return pd.DataFrame({\"VIF\": vif_dict})\n",
        "\n",
        "#X= cali_encoded.drop(columns = 'median_house_value')\n",
        "#y = cali_encoded.median_house_value\n",
        "from google.colab import drive\n",
        "drive.mount('/content/drive')\n",
        "vehicles_imp6_jsen = pd.read_csv('/content/drive/My Drive/Colab Notebooks/AIML/Git-public-work/vehicles_imp6_jsen.csv')\n",
        "vehicles_imp6_jsen.drop(['Unnamed: 0'], axis=1, inplace=True)\n",
        "vehicles_imp6_jsen.reset_index(drop=True)\n",
        "X = vehicles_imp6_jsen.drop(['price'], axis = 1)\n",
        "y = vehicles_imp6_jsen['price']\n",
        "\n",
        "print(\"Original dataset\")\n",
        "sk_vif(X.columns, X).sort_values(by='VIF', ascending = False)\n"
      ],
      "metadata": {
        "colab": {
          "base_uri": "https://localhost:8080/",
          "height": 480
        },
        "id": "GI4qYs7b3iis",
        "outputId": "02df12fc-8d5e-4071-913b-85fceb7f54d7"
      },
      "execution_count": 8,
      "outputs": [
        {
          "output_type": "stream",
          "name": "stdout",
          "text": [
            "Drive already mounted at /content/drive; to attempt to forcibly remount, call drive.mount(\"/content/drive\", force_remount=True).\n",
            "Original dataset\n"
          ]
        },
        {
          "output_type": "execute_result",
          "data": {
            "text/plain": [
              "                          VIF\n",
              "cylinders_labenc     1.321140\n",
              "transmission         1.218108\n",
              "drive_labenc         1.200827\n",
              "year                 1.186385\n",
              "type                 1.124402\n",
              "size_labenc          1.076581\n",
              "manufacturer         1.055559\n",
              "odometer             1.035346\n",
              "fuel                 1.031895\n",
              "title_status_labenc  1.015718\n",
              "condition_labenc     1.007969\n",
              "region_state         1.000847"
            ],
            "text/html": [
              "\n",
              "  <div id=\"df-790a3492-0033-4a41-b759-b43c14d789c0\" class=\"colab-df-container\">\n",
              "    <div>\n",
              "<style scoped>\n",
              "    .dataframe tbody tr th:only-of-type {\n",
              "        vertical-align: middle;\n",
              "    }\n",
              "\n",
              "    .dataframe tbody tr th {\n",
              "        vertical-align: top;\n",
              "    }\n",
              "\n",
              "    .dataframe thead th {\n",
              "        text-align: right;\n",
              "    }\n",
              "</style>\n",
              "<table border=\"1\" class=\"dataframe\">\n",
              "  <thead>\n",
              "    <tr style=\"text-align: right;\">\n",
              "      <th></th>\n",
              "      <th>VIF</th>\n",
              "    </tr>\n",
              "  </thead>\n",
              "  <tbody>\n",
              "    <tr>\n",
              "      <th>cylinders_labenc</th>\n",
              "      <td>1.321140</td>\n",
              "    </tr>\n",
              "    <tr>\n",
              "      <th>transmission</th>\n",
              "      <td>1.218108</td>\n",
              "    </tr>\n",
              "    <tr>\n",
              "      <th>drive_labenc</th>\n",
              "      <td>1.200827</td>\n",
              "    </tr>\n",
              "    <tr>\n",
              "      <th>year</th>\n",
              "      <td>1.186385</td>\n",
              "    </tr>\n",
              "    <tr>\n",
              "      <th>type</th>\n",
              "      <td>1.124402</td>\n",
              "    </tr>\n",
              "    <tr>\n",
              "      <th>size_labenc</th>\n",
              "      <td>1.076581</td>\n",
              "    </tr>\n",
              "    <tr>\n",
              "      <th>manufacturer</th>\n",
              "      <td>1.055559</td>\n",
              "    </tr>\n",
              "    <tr>\n",
              "      <th>odometer</th>\n",
              "      <td>1.035346</td>\n",
              "    </tr>\n",
              "    <tr>\n",
              "      <th>fuel</th>\n",
              "      <td>1.031895</td>\n",
              "    </tr>\n",
              "    <tr>\n",
              "      <th>title_status_labenc</th>\n",
              "      <td>1.015718</td>\n",
              "    </tr>\n",
              "    <tr>\n",
              "      <th>condition_labenc</th>\n",
              "      <td>1.007969</td>\n",
              "    </tr>\n",
              "    <tr>\n",
              "      <th>region_state</th>\n",
              "      <td>1.000847</td>\n",
              "    </tr>\n",
              "  </tbody>\n",
              "</table>\n",
              "</div>\n",
              "    <div class=\"colab-df-buttons\">\n",
              "\n",
              "  <div class=\"colab-df-container\">\n",
              "    <button class=\"colab-df-convert\" onclick=\"convertToInteractive('df-790a3492-0033-4a41-b759-b43c14d789c0')\"\n",
              "            title=\"Convert this dataframe to an interactive table.\"\n",
              "            style=\"display:none;\">\n",
              "\n",
              "  <svg xmlns=\"http://www.w3.org/2000/svg\" height=\"24px\" viewBox=\"0 -960 960 960\">\n",
              "    <path d=\"M120-120v-720h720v720H120Zm60-500h600v-160H180v160Zm220 220h160v-160H400v160Zm0 220h160v-160H400v160ZM180-400h160v-160H180v160Zm440 0h160v-160H620v160ZM180-180h160v-160H180v160Zm440 0h160v-160H620v160Z\"/>\n",
              "  </svg>\n",
              "    </button>\n",
              "\n",
              "  <style>\n",
              "    .colab-df-container {\n",
              "      display:flex;\n",
              "      gap: 12px;\n",
              "    }\n",
              "\n",
              "    .colab-df-convert {\n",
              "      background-color: #E8F0FE;\n",
              "      border: none;\n",
              "      border-radius: 50%;\n",
              "      cursor: pointer;\n",
              "      display: none;\n",
              "      fill: #1967D2;\n",
              "      height: 32px;\n",
              "      padding: 0 0 0 0;\n",
              "      width: 32px;\n",
              "    }\n",
              "\n",
              "    .colab-df-convert:hover {\n",
              "      background-color: #E2EBFA;\n",
              "      box-shadow: 0px 1px 2px rgba(60, 64, 67, 0.3), 0px 1px 3px 1px rgba(60, 64, 67, 0.15);\n",
              "      fill: #174EA6;\n",
              "    }\n",
              "\n",
              "    .colab-df-buttons div {\n",
              "      margin-bottom: 4px;\n",
              "    }\n",
              "\n",
              "    [theme=dark] .colab-df-convert {\n",
              "      background-color: #3B4455;\n",
              "      fill: #D2E3FC;\n",
              "    }\n",
              "\n",
              "    [theme=dark] .colab-df-convert:hover {\n",
              "      background-color: #434B5C;\n",
              "      box-shadow: 0px 1px 3px 1px rgba(0, 0, 0, 0.15);\n",
              "      filter: drop-shadow(0px 1px 2px rgba(0, 0, 0, 0.3));\n",
              "      fill: #FFFFFF;\n",
              "    }\n",
              "  </style>\n",
              "\n",
              "    <script>\n",
              "      const buttonEl =\n",
              "        document.querySelector('#df-790a3492-0033-4a41-b759-b43c14d789c0 button.colab-df-convert');\n",
              "      buttonEl.style.display =\n",
              "        google.colab.kernel.accessAllowed ? 'block' : 'none';\n",
              "\n",
              "      async function convertToInteractive(key) {\n",
              "        const element = document.querySelector('#df-790a3492-0033-4a41-b759-b43c14d789c0');\n",
              "        const dataTable =\n",
              "          await google.colab.kernel.invokeFunction('convertToInteractive',\n",
              "                                                    [key], {});\n",
              "        if (!dataTable) return;\n",
              "\n",
              "        const docLinkHtml = 'Like what you see? Visit the ' +\n",
              "          '<a target=\"_blank\" href=https://colab.research.google.com/notebooks/data_table.ipynb>data table notebook</a>'\n",
              "          + ' to learn more about interactive tables.';\n",
              "        element.innerHTML = '';\n",
              "        dataTable['output_type'] = 'display_data';\n",
              "        await google.colab.output.renderOutput(dataTable, element);\n",
              "        const docLink = document.createElement('div');\n",
              "        docLink.innerHTML = docLinkHtml;\n",
              "        element.appendChild(docLink);\n",
              "      }\n",
              "    </script>\n",
              "  </div>\n",
              "\n",
              "\n",
              "<div id=\"df-97dc5704-ebcf-4889-b656-156c616fe1ed\">\n",
              "  <button class=\"colab-df-quickchart\" onclick=\"quickchart('df-97dc5704-ebcf-4889-b656-156c616fe1ed')\"\n",
              "            title=\"Suggest charts.\"\n",
              "            style=\"display:none;\">\n",
              "\n",
              "<svg xmlns=\"http://www.w3.org/2000/svg\" height=\"24px\"viewBox=\"0 0 24 24\"\n",
              "     width=\"24px\">\n",
              "    <g>\n",
              "        <path d=\"M19 3H5c-1.1 0-2 .9-2 2v14c0 1.1.9 2 2 2h14c1.1 0 2-.9 2-2V5c0-1.1-.9-2-2-2zM9 17H7v-7h2v7zm4 0h-2V7h2v10zm4 0h-2v-4h2v4z\"/>\n",
              "    </g>\n",
              "</svg>\n",
              "  </button>\n",
              "\n",
              "<style>\n",
              "  .colab-df-quickchart {\n",
              "    background-color: #E8F0FE;\n",
              "    border: none;\n",
              "    border-radius: 50%;\n",
              "    cursor: pointer;\n",
              "    display: none;\n",
              "    fill: #1967D2;\n",
              "    height: 32px;\n",
              "    padding: 0 0 0 0;\n",
              "    width: 32px;\n",
              "  }\n",
              "\n",
              "  .colab-df-quickchart:hover {\n",
              "    background-color: #E2EBFA;\n",
              "    box-shadow: 0px 1px 2px rgba(60, 64, 67, 0.3), 0px 1px 3px 1px rgba(60, 64, 67, 0.15);\n",
              "    fill: #174EA6;\n",
              "  }\n",
              "\n",
              "  [theme=dark] .colab-df-quickchart {\n",
              "    background-color: #3B4455;\n",
              "    fill: #D2E3FC;\n",
              "  }\n",
              "\n",
              "  [theme=dark] .colab-df-quickchart:hover {\n",
              "    background-color: #434B5C;\n",
              "    box-shadow: 0px 1px 3px 1px rgba(0, 0, 0, 0.15);\n",
              "    filter: drop-shadow(0px 1px 2px rgba(0, 0, 0, 0.3));\n",
              "    fill: #FFFFFF;\n",
              "  }\n",
              "</style>\n",
              "\n",
              "  <script>\n",
              "    async function quickchart(key) {\n",
              "      const charts = await google.colab.kernel.invokeFunction(\n",
              "          'suggestCharts', [key], {});\n",
              "    }\n",
              "    (() => {\n",
              "      let quickchartButtonEl =\n",
              "        document.querySelector('#df-97dc5704-ebcf-4889-b656-156c616fe1ed button');\n",
              "      quickchartButtonEl.style.display =\n",
              "        google.colab.kernel.accessAllowed ? 'block' : 'none';\n",
              "    })();\n",
              "  </script>\n",
              "</div>\n",
              "    </div>\n",
              "  </div>\n"
            ]
          },
          "metadata": {},
          "execution_count": 8
        },
        {
          "output_type": "stream",
          "name": "stdout",
          "text": [
            "WARNING: Runtime no longer has a reference to this dataframe, please re-run this cell and try again.\n"
          ]
        }
      ]
    },
    {
      "cell_type": "code",
      "source": [
        "from google.colab import drive\n",
        "import pandas as pd\n",
        "import seaborn as sns\n",
        "import matplotlib.pyplot as plt\n",
        "\n",
        "drive.mount('/content/drive')\n",
        "\n",
        "df = pd.read_csv('/content/drive/My Drive/Colab Notebooks/AIML/Git-public-work/vehicles_imp6_jsen.csv')\n",
        "df.drop(['Unnamed: 0'], axis=1, inplace=True)\n",
        "df.reset_index(drop=True)\n",
        "correlation_matrix = df.corr()\n",
        "plt.figure(figsize=(12, 12))\n",
        "sns.heatmap(data=correlation_matrix, annot=True, cmap='coolwarm')\n",
        "plt.title('Correlation Heatmap')\n",
        "plt.show()"
      ],
      "metadata": {
        "colab": {
          "base_uri": "https://localhost:8080/",
          "height": 1000
        },
        "id": "-DyfTaMCOH6x",
        "outputId": "9ba428cd-01d3-412c-c6e2-125f82fa1c06"
      },
      "execution_count": 11,
      "outputs": [
        {
          "output_type": "stream",
          "name": "stdout",
          "text": [
            "Drive already mounted at /content/drive; to attempt to forcibly remount, call drive.mount(\"/content/drive\", force_remount=True).\n"
          ]
        },
        {
          "output_type": "display_data",
          "data": {
            "text/plain": [
              "<Figure size 1200x1200 with 2 Axes>"
            ],
            "image/png": "[encoded data removed]"
          },
          "metadata": {}
        }
      ]
    },
    {
      "cell_type": "markdown",
      "source": [
        "Features that may be too clsely co-related that could be removed.\n",
        "1. **cylinders_labenc** <> drive_labenc  ( top +ve co-relation)\n",
        "2. **year** <> transmission (top -ve co-relation)\n",
        "3. drive_labenc <> **year ** (-ve  co-rel)\n",
        "4. **cylinders_labenc** <> transmission (-ve co-rel)\n",
        "5. size_labenc <> **cylinders_labenc** (+ve co-rel)\n",
        "6. **cylinders_labenc** <> type\n",
        "\n",
        "All BOLD above to be removed to improve model performance."
      ],
      "metadata": {
        "id": "KMS4WuaBUOWJ"
      }
    },
    {
      "cell_type": "code",
      "source": [
        "import pandas as pd\n",
        "import seaborn as sns\n",
        "import matplotlib.pyplot as plt\n",
        "\n",
        "df = pd.read_csv('/content/drive/My Drive/Colab Notebooks/AIML/Git-public-work/vehicles_imp6_jsen.csv')\n",
        "df.drop(['Unnamed: 0'], axis=1, inplace=True)\n",
        "df.reset_index(drop=True)\n",
        "df_opt = df.drop(['cylinders_labenc', 'year'], axis=1)\n",
        "print(df_opt.columns)\n",
        "\n",
        "\n",
        "# Researching on co-linearity\n",
        "X =''\n",
        "y=''\n",
        "def sk_vif(exogs, data):\n",
        "  vif_dict = {}\n",
        "\n",
        "  for exog in exogs:\n",
        "    not_exog = [i for i in exogs if i !=exog]\n",
        "    # split the dataset, one independent variable against all others\n",
        "    X, y = data[not_exog], data[exog]\n",
        "\n",
        "    # fit the model and obtain R^2\n",
        "    r_squared = LinearRegression().fit(X,y).score(X,y)\n",
        "\n",
        "    # compute the VIF\n",
        "    vif = 1/(1-r_squared)\n",
        "    vif_dict[exog] = vif\n",
        "\n",
        "  return pd.DataFrame({\"VIF\": vif_dict})\n",
        "\n",
        "X = df_opt.drop(['price'], axis = 1)\n",
        "y = df_opt['price']\n",
        "\n",
        "print(\"Original dataset\")\n",
        "sk_vif(X.columns, X).sort_values(by='VIF', ascending = False)\n"
      ],
      "metadata": {
        "colab": {
          "base_uri": "https://localhost:8080/",
          "height": 453
        },
        "id": "KFg1_rwMX_sj",
        "outputId": "d91ed6be-0be6-4b7a-d546-5a93b327eb87"
      },
      "execution_count": 20,
      "outputs": [
        {
          "output_type": "stream",
          "name": "stdout",
          "text": [
            "Index(['price', 'manufacturer', 'fuel', 'odometer', 'transmission', 'type',\n",
            "       'size_labenc', 'condition_labenc', 'title_status_labenc',\n",
            "       'drive_labenc', 'region_state'],\n",
            "      dtype='object')\n",
            "Original dataset\n"
          ]
        },
        {
          "output_type": "execute_result",
          "data": {
            "text/plain": [
              "                          VIF\n",
              "type                 1.094398\n",
              "transmission         1.054705\n",
              "drive_labenc         1.052738\n",
              "manufacturer         1.042665\n",
              "fuel                 1.030059\n",
              "size_labenc          1.028348\n",
              "odometer             1.019033\n",
              "title_status_labenc  1.009084\n",
              "condition_labenc     1.007687\n",
              "region_state         1.000728"
            ],
            "text/html": [
              "\n",
              "  <div id=\"df-980c0f4a-4e75-43b0-af8d-c5f41d78a570\" class=\"colab-df-container\">\n",
              "    <div>\n",
              "<style scoped>\n",
              "    .dataframe tbody tr th:only-of-type {\n",
              "        vertical-align: middle;\n",
              "    }\n",
              "\n",
              "    .dataframe tbody tr th {\n",
              "        vertical-align: top;\n",
              "    }\n",
              "\n",
              "    .dataframe thead th {\n",
              "        text-align: right;\n",
              "    }\n",
              "</style>\n",
              "<table border=\"1\" class=\"dataframe\">\n",
              "  <thead>\n",
              "    <tr style=\"text-align: right;\">\n",
              "      <th></th>\n",
              "      <th>VIF</th>\n",
              "    </tr>\n",
              "  </thead>\n",
              "  <tbody>\n",
              "    <tr>\n",
              "      <th>type</th>\n",
              "      <td>1.094398</td>\n",
              "    </tr>\n",
              "    <tr>\n",
              "      <th>transmission</th>\n",
              "      <td>1.054705</td>\n",
              "    </tr>\n",
              "    <tr>\n",
              "      <th>drive_labenc</th>\n",
              "      <td>1.052738</td>\n",
              "    </tr>\n",
              "    <tr>\n",
              "      <th>manufacturer</th>\n",
              "      <td>1.042665</td>\n",
              "    </tr>\n",
              "    <tr>\n",
              "      <th>fuel</th>\n",
              "      <td>1.030059</td>\n",
              "    </tr>\n",
              "    <tr>\n",
              "      <th>size_labenc</th>\n",
              "      <td>1.028348</td>\n",
              "    </tr>\n",
              "    <tr>\n",
              "      <th>odometer</th>\n",
              "      <td>1.019033</td>\n",
              "    </tr>\n",
              "    <tr>\n",
              "      <th>title_status_labenc</th>\n",
              "      <td>1.009084</td>\n",
              "    </tr>\n",
              "    <tr>\n",
              "      <th>condition_labenc</th>\n",
              "      <td>1.007687</td>\n",
              "    </tr>\n",
              "    <tr>\n",
              "      <th>region_state</th>\n",
              "      <td>1.000728</td>\n",
              "    </tr>\n",
              "  </tbody>\n",
              "</table>\n",
              "</div>\n",
              "    <div class=\"colab-df-buttons\">\n",
              "\n",
              "  <div class=\"colab-df-container\">\n",
              "    <button class=\"colab-df-convert\" onclick=\"convertToInteractive('df-980c0f4a-4e75-43b0-af8d-c5f41d78a570')\"\n",
              "            title=\"Convert this dataframe to an interactive table.\"\n",
              "            style=\"display:none;\">\n",
              "\n",
              "  <svg xmlns=\"http://www.w3.org/2000/svg\" height=\"24px\" viewBox=\"0 -960 960 960\">\n",
              "    <path d=\"M120-120v-720h720v720H120Zm60-500h600v-160H180v160Zm220 220h160v-160H400v160Zm0 220h160v-160H400v160ZM180-400h160v-160H180v160Zm440 0h160v-160H620v160ZM180-180h160v-160H180v160Zm440 0h160v-160H620v160Z\"/>\n",
              "  </svg>\n",
              "    </button>\n",
              "\n",
              "  <style>\n",
              "    .colab-df-container {\n",
              "      display:flex;\n",
              "      gap: 12px;\n",
              "    }\n",
              "\n",
              "    .colab-df-convert {\n",
              "      background-color: #E8F0FE;\n",
              "      border: none;\n",
              "      border-radius: 50%;\n",
              "      cursor: pointer;\n",
              "      display: none;\n",
              "      fill: #1967D2;\n",
              "      height: 32px;\n",
              "      padding: 0 0 0 0;\n",
              "      width: 32px;\n",
              "    }\n",
              "\n",
              "    .colab-df-convert:hover {\n",
              "      background-color: #E2EBFA;\n",
              "      box-shadow: 0px 1px 2px rgba(60, 64, 67, 0.3), 0px 1px 3px 1px rgba(60, 64, 67, 0.15);\n",
              "      fill: #174EA6;\n",
              "    }\n",
              "\n",
              "    .colab-df-buttons div {\n",
              "      margin-bottom: 4px;\n",
              "    }\n",
              "\n",
              "    [theme=dark] .colab-df-convert {\n",
              "      background-color: #3B4455;\n",
              "      fill: #D2E3FC;\n",
              "    }\n",
              "\n",
              "    [theme=dark] .colab-df-convert:hover {\n",
              "      background-color: #434B5C;\n",
              "      box-shadow: 0px 1px 3px 1px rgba(0, 0, 0, 0.15);\n",
              "      filter: drop-shadow(0px 1px 2px rgba(0, 0, 0, 0.3));\n",
              "      fill: #FFFFFF;\n",
              "    }\n",
              "  </style>\n",
              "\n",
              "    <script>\n",
              "      const buttonEl =\n",
              "        document.querySelector('#df-980c0f4a-4e75-43b0-af8d-c5f41d78a570 button.colab-df-convert');\n",
              "      buttonEl.style.display =\n",
              "        google.colab.kernel.accessAllowed ? 'block' : 'none';\n",
              "\n",
              "      async function convertToInteractive(key) {\n",
              "        const element = document.querySelector('#df-980c0f4a-4e75-43b0-af8d-c5f41d78a570');\n",
              "        const dataTable =\n",
              "          await google.colab.kernel.invokeFunction('convertToInteractive',\n",
              "                                                    [key], {});\n",
              "        if (!dataTable) return;\n",
              "\n",
              "        const docLinkHtml = 'Like what you see? Visit the ' +\n",
              "          '<a target=\"_blank\" href=https://colab.research.google.com/notebooks/data_table.ipynb>data table notebook</a>'\n",
              "          + ' to learn more about interactive tables.';\n",
              "        element.innerHTML = '';\n",
              "        dataTable['output_type'] = 'display_data';\n",
              "        await google.colab.output.renderOutput(dataTable, element);\n",
              "        const docLink = document.createElement('div');\n",
              "        docLink.innerHTML = docLinkHtml;\n",
              "        element.appendChild(docLink);\n",
              "      }\n",
              "    </script>\n",
              "  </div>\n",
              "\n",
              "\n",
              "<div id=\"df-16d6c43d-2a3c-4edf-ba4b-fc1c10ae2829\">\n",
              "  <button class=\"colab-df-quickchart\" onclick=\"quickchart('df-16d6c43d-2a3c-4edf-ba4b-fc1c10ae2829')\"\n",
              "            title=\"Suggest charts.\"\n",
              "            style=\"display:none;\">\n",
              "\n",
              "<svg xmlns=\"http://www.w3.org/2000/svg\" height=\"24px\"viewBox=\"0 0 24 24\"\n",
              "     width=\"24px\">\n",
              "    <g>\n",
              "        <path d=\"M19 3H5c-1.1 0-2 .9-2 2v14c0 1.1.9 2 2 2h14c1.1 0 2-.9 2-2V5c0-1.1-.9-2-2-2zM9 17H7v-7h2v7zm4 0h-2V7h2v10zm4 0h-2v-4h2v4z\"/>\n",
              "    </g>\n",
              "</svg>\n",
              "  </button>\n",
              "\n",
              "<style>\n",
              "  .colab-df-quickchart {\n",
              "    background-color: #E8F0FE;\n",
              "    border: none;\n",
              "    border-radius: 50%;\n",
              "    cursor: pointer;\n",
              "    display: none;\n",
              "    fill: #1967D2;\n",
              "    height: 32px;\n",
              "    padding: 0 0 0 0;\n",
              "    width: 32px;\n",
              "  }\n",
              "\n",
              "  .colab-df-quickchart:hover {\n",
              "    background-color: #E2EBFA;\n",
              "    box-shadow: 0px 1px 2px rgba(60, 64, 67, 0.3), 0px 1px 3px 1px rgba(60, 64, 67, 0.15);\n",
              "    fill: #174EA6;\n",
              "  }\n",
              "\n",
              "  [theme=dark] .colab-df-quickchart {\n",
              "    background-color: #3B4455;\n",
              "    fill: #D2E3FC;\n",
              "  }\n",
              "\n",
              "  [theme=dark] .colab-df-quickchart:hover {\n",
              "    background-color: #434B5C;\n",
              "    box-shadow: 0px 1px 3px 1px rgba(0, 0, 0, 0.15);\n",
              "    filter: drop-shadow(0px 1px 2px rgba(0, 0, 0, 0.3));\n",
              "    fill: #FFFFFF;\n",
              "  }\n",
              "</style>\n",
              "\n",
              "  <script>\n",
              "    async function quickchart(key) {\n",
              "      const charts = await google.colab.kernel.invokeFunction(\n",
              "          'suggestCharts', [key], {});\n",
              "    }\n",
              "    (() => {\n",
              "      let quickchartButtonEl =\n",
              "        document.querySelector('#df-16d6c43d-2a3c-4edf-ba4b-fc1c10ae2829 button');\n",
              "      quickchartButtonEl.style.display =\n",
              "        google.colab.kernel.accessAllowed ? 'block' : 'none';\n",
              "    })();\n",
              "  </script>\n",
              "</div>\n",
              "    </div>\n",
              "  </div>\n"
            ]
          },
          "metadata": {},
          "execution_count": 20
        }
      ]
    },
    {
      "cell_type": "code",
      "source": [
        "from sklearn.metrics import mean_squared_error\n",
        "from sklearn.model_selection import train_test_split\n",
        "import pandas as pd\n",
        "from sklearn.pipeline import Pipeline\n",
        "from sklearn.linear_model import LinearRegression, Lasso\n",
        "from sklearn.preprocessing import StandardScaler, PolynomialFeatures\n",
        "\n",
        "lasso_train_mse = ''\n",
        "lasso_test_mse = ''\n",
        "\n",
        "from google.colab import drive\n",
        "drive.mount('/content/drive')\n",
        "vehicles_imp6_jsen = pd.read_csv('/content/drive/My Drive/Colab Notebooks/AIML/Git-public-work/vehicles_imp6_jsen.csv')\n",
        "vehicles_imp6_jsen.drop(['Unnamed: 0'], axis=1, inplace=True)\n",
        "vehicles_imp6_jsen.reset_index(drop=True)\n",
        "auto_X = vehicles_imp6_jsen.drop(['price', 'cylinders_labenc', 'year'], axis = 1)\n",
        "auto_y = vehicles_imp6_jsen['price']\n",
        "print(auto_X.shape, auto_y.shape)\n",
        "auto_pipe = ''\n",
        "lasso_coefs = ''\n",
        "\n",
        "auto_X_train, auto_X_test, auto_y_train, auto_y_test = train_test_split(auto_X, auto_y,\n",
        "                                                                       test_size = 0.3,\n",
        "                                                                       random_state = 42)\n",
        "\n",
        "auto_pipe = Pipeline([('polyfeatures', PolynomialFeatures(degree = 3, include_bias = False)),\n",
        "                      ('scaler', StandardScaler()),\n",
        "                     ('lasso', Lasso(random_state = 42))])\n",
        "auto_pipe.fit(auto_X_train, auto_y_train)\n",
        "lasso_coefs = auto_pipe.named_steps['lasso'].coef_\n",
        "\n",
        "\n",
        "\n",
        "lasso_train_mse = mean_squared_error(auto_y_train, auto_pipe.predict(auto_X_train))\n",
        "lasso_test_mse = mean_squared_error(auto_y_test, auto_pipe.predict(auto_X_test))\n",
        "\n",
        "# Answer check\n",
        "print(lasso_train_mse)\n",
        "print(lasso_test_mse)"
      ],
      "metadata": {
        "colab": {
          "base_uri": "https://localhost:8080/"
        },
        "id": "BrrzMPuibjmr",
        "outputId": "ada575c5-bdde-4d24-d4e9-34e0100e62ea"
      },
      "execution_count": 32,
      "outputs": [
        {
          "output_type": "stream",
          "name": "stdout",
          "text": [
            "Drive already mounted at /content/drive; to attempt to forcibly remount, call drive.mount(\"/content/drive\", force_remount=True).\n",
            "(425675, 10) (425675,)\n"
          ]
        },
        {
          "output_type": "stream",
          "name": "stderr",
          "text": [
            "/usr/local/lib/python3.10/dist-packages/sklearn/linear_model/_coordinate_descent.py:631: ConvergenceWarning: Objective did not converge. You might want to increase the number of iterations, check the scale of the features or consider increasing regularisation. Duality gap: 1.979e+19, tolerance: 3.994e+15\n",
            "  model = cd_fast.enet_coordinate_descent(\n"
          ]
        },
        {
          "output_type": "stream",
          "name": "stdout",
          "text": [
            "132983124868972.1\n",
            "326318813424827.44\n"
          ]
        }
      ]
    },
    {
      "cell_type": "code",
      "source": [
        "from sklearn.metrics import mean_squared_error\n",
        "from sklearn.model_selection import train_test_split\n",
        "import pandas as pd\n",
        "from sklearn.pipeline import Pipeline\n",
        "from sklearn.linear_model import LinearRegression, Ridge\n",
        "from sklearn.preprocessing import StandardScaler, PolynomialFeatures\n",
        "\n",
        "ridge_train_mse = ''\n",
        "ridge_test_mse = ''\n",
        "\n",
        "from google.colab import drive\n",
        "drive.mount('/content/drive')\n",
        "vehicles_imp6_jsen = pd.read_csv('/content/drive/My Drive/Colab Notebooks/AIML/Git-public-work/vehicles_imp6_jsen.csv')\n",
        "vehicles_imp6_jsen.drop(['Unnamed: 0'], axis=1, inplace=True)\n",
        "vehicles_imp6_jsen.reset_index(drop=True)\n",
        "auto_X = vehicles_imp6_jsen.drop(['price', 'cylinders_labenc', 'year'], axis = 1)\n",
        "auto_y = vehicles_imp6_jsen['price']\n",
        "print(auto_X.shape, auto_y.shape)\n",
        "auto_pipe_ridge = ''\n",
        "lasso_coefs_ridge = ''\n",
        "\n",
        "auto_X_train, auto_X_test, auto_y_train, auto_y_test = train_test_split(auto_X, auto_y,\n",
        "                                                                       test_size = 0.3,\n",
        "                                                                       random_state = 42)\n",
        "\n",
        "auto_pipe_ridge = Pipeline([('polyfeatures', PolynomialFeatures(degree = 3, include_bias = False)),\n",
        "                      ('scaler', StandardScaler()),\n",
        "                     ('ridge', Ridge(random_state=42))])\n",
        "auto_pipe_ridge.fit(auto_X_train, auto_y_train)\n",
        "ridge_coefs = auto_pipe_ridge.named_steps['ridge'].coef_\n",
        "\n",
        "ridge_train_mse = mean_squared_error(auto_y_train, auto_pipe_ridge.predict(auto_X_train))\n",
        "ridge_test_mse = mean_squared_error(auto_y_test, auto_pipe_ridge.predict(auto_X_test))\n",
        "\n",
        "# Answer check\n",
        "print(ridge_train_mse)\n",
        "print(ridge_test_mse)"
      ],
      "metadata": {
        "colab": {
          "base_uri": "https://localhost:8080/"
        },
        "id": "F03D77tUrCyf",
        "outputId": "e84bb87d-36a0-4212-dc5a-ba90206dd7f6"
      },
      "execution_count": 34,
      "outputs": [
        {
          "output_type": "stream",
          "name": "stdout",
          "text": [
            "Drive already mounted at /content/drive; to attempt to forcibly remount, call drive.mount(\"/content/drive\", force_remount=True).\n",
            "(425675, 10) (425675,)\n",
            "132943635832715.23\n",
            "326180953743703.2\n"
          ]
        }
      ]
    },
    {
      "cell_type": "code",
      "source": [
        "from google.colab import drive\n",
        "drive.mount('/content/drive')\n",
        "vehicles_imp6_jsen = pd.read_csv('/content/drive/My Drive/Colab Notebooks/AIML/Git-public-work/vehicles_imp6_jsen.csv')\n",
        "vehicles_imp6_jsen.drop(['Unnamed: 0'], axis=1, inplace=True)\n",
        "vehicles_imp6_jsen.reset_index(drop=True)\n",
        "X = vehicles_imp6_jsen.drop(['price', 'cylinders_labenc', 'year'], axis = 1)\n",
        "y = vehicles_imp6_jsen['price']\n",
        "ss = StandardScaler()\n",
        "lr = LinearRegression()\n",
        "pipe = Pipeline([('scaline', ss), ('linear', lr)])\n",
        "X_train, X_test, y_train, y_test = train_test_split(X, y, test_size=0.2, random_state=42)\n",
        "pipe.fit(X_train, y_train)\n",
        "pipe.score(X_test,y_test)"
      ],
      "metadata": {
        "colab": {
          "base_uri": "https://localhost:8080/"
        },
        "id": "P1dyAD1XuZ2K",
        "outputId": "80ab7353-2b28-486b-99e1-3566e7bd98fd"
      },
      "execution_count": 35,
      "outputs": [
        {
          "output_type": "stream",
          "name": "stdout",
          "text": [
            "Drive already mounted at /content/drive; to attempt to forcibly remount, call drive.mount(\"/content/drive\", force_remount=True).\n"
          ]
        },
        {
          "output_type": "execute_result",
          "data": {
            "text/plain": [
              "0.0005676513626871049"
            ]
          },
          "metadata": {},
          "execution_count": 35
        }
      ]
    },
    {
      "cell_type": "markdown",
      "source": [
        "**LR Model score (567651 * 10 exp -9) seems to be better** than\n",
        "Lasso Model alpha=10 score(567608 * 10 exp -9)\n",
        "&\n",
        "Lasso model with all features(5474366 * 10 exp -9)\n",
        "\n",
        "Next step is to move into further reducng the features using permutation importance."
      ],
      "metadata": {
        "id": "DWmoQxCj4JQZ"
      }
    },
    {
      "cell_type": "markdown",
      "source": [
        "\n",
        "\n",
        "---\n",
        "\n"
      ],
      "metadata": {
        "id": "hpZcEtbKyJRi"
      }
    },
    {
      "cell_type": "code",
      "source": [
        "from google.colab import drive\n",
        "drive.mount('/content/drive')\n",
        "vehicles_imp6_jsen = pd.read_csv('/content/drive/My Drive/Colab Notebooks/AIML/Git-public-work/vehicles_imp6_jsen.csv')\n",
        "vehicles_imp6_jsen.drop(['Unnamed: 0'], axis=1, inplace=True)\n",
        "vehicles_imp6_jsen.reset_index(drop=True)\n",
        "X = vehicles_imp6_jsen.drop(['price', 'cylinders_labenc', 'year'], axis=1)\n",
        "y = vehicles_imp6_jsen['price']\n",
        "\n",
        "ss = StandardScaler()\n",
        "lasso = Lasso(alpha=10, random_state=42)\n",
        "pipe = Pipeline([('scaling', ss), ('lasso', lasso)])\n",
        "X_train, X_test, y_train, y_test = train_test_split(X, y, test_size=0.2, random_state=42)\n",
        "pipe.fit(X_train, y_train)\n",
        "r2_score = pipe.score(X_test, y_test)\n",
        "print(\"R-squared score:\", r2_score)\n"
      ],
      "metadata": {
        "colab": {
          "base_uri": "https://localhost:8080/"
        },
        "id": "ZIR56dhow-ha",
        "outputId": "9043caa7-ab84-4c39-ac21-58fcee5b4b88"
      },
      "execution_count": 36,
      "outputs": [
        {
          "output_type": "stream",
          "name": "stdout",
          "text": [
            "Drive already mounted at /content/drive; to attempt to forcibly remount, call drive.mount(\"/content/drive\", force_remount=True).\n",
            "R-squared score: 0.0005676084764952849\n"
          ]
        }
      ]
    },
    {
      "cell_type": "code",
      "source": [
        "from google.colab import drive\n",
        "from sklearn.inspection import permutation_importance\n",
        "\n",
        "drive.mount('/content/drive')\n",
        "vehicles_imp6_jsen = pd.read_csv('/content/drive/My Drive/Colab Notebooks/AIML/Git-public-work/vehicles_imp6_jsen.csv')\n",
        "vehicles_imp6_jsen.drop(['Unnamed: 0'], axis=1, inplace=True)\n",
        "vehicles_imp6_jsen.reset_index(drop=True)\n",
        "X = vehicles_imp6_jsen.drop(['price', 'cylinders_labenc', 'year'], axis = 1)\n",
        "y = vehicles_imp6_jsen['price']\n",
        "ss = StandardScaler()\n",
        "lr = LinearRegression()\n",
        "pipe = Pipeline([('scaline', ss), ('linear', lr)])\n",
        "X_train, X_test, y_train, y_test = train_test_split(X, y, test_size=0.2, random_state=42)\n",
        "model = LinearRegression().fit(X_train, y_train)\n",
        "print('Model:', model)\n",
        "\n",
        "M = vehicles_imp6_jsen.drop(['price', 'cylinders_labenc', 'year'], axis = 1)\n",
        "n = vehicles_imp6_jsen['price']\n",
        "M_train, M_test, n_train, n_test = train_test_split(M, n, test_size=0.2, random_state=42)\n",
        "\n",
        "r = permutation_importance(model, M_test, n_test,\n",
        "                            n_repeats=30,\n",
        "                            random_state=0)\n",
        "for i in r.importances_mean.argsort()[::-1]:\n",
        "     if r.importances_mean[i] - 2 * r.importances_std[i] > 0:\n",
        "         print(f\"{M_test.columns[i]:<8}\\t\"\n",
        "               f\"{r.importances_mean[i]:.5f}\"\n",
        "               f\" +/- {r.importances_std[i]:.5f}\")"
      ],
      "metadata": {
        "colab": {
          "base_uri": "https://localhost:8080/"
        },
        "id": "nAmOmC2D4brM",
        "outputId": "2513513e-964d-4365-f054-4ccac7f546cf"
      },
      "execution_count": 39,
      "outputs": [
        {
          "output_type": "stream",
          "name": "stdout",
          "text": [
            "Drive already mounted at /content/drive; to attempt to forcibly remount, call drive.mount(\"/content/drive\", force_remount=True).\n",
            "Model: LinearRegression()\n",
            "region_state\t0.00068 +/- 0.00007\n",
            "odometer\t0.00005 +/- 0.00000\n"
          ]
        }
      ]
    },
    {
      "cell_type": "code",
      "source": [
        "from sklearn.linear_model import LinearRegression\n",
        "from sklearn.pipeline import Pipeline\n",
        "from sklearn.preprocessing import PolynomialFeatures, OneHotEncoder, OrdinalEncoder\n",
        "from sklearn.metrics import mean_squared_error\n",
        "from sklearn.model_selection import train_test_split\n",
        "from sklearn.compose import make_column_transformer, make_column_selector\n",
        "from google.colab import drive\n",
        "import pandas as pd\n",
        "\n",
        "drive.mount('/content/drive')\n",
        "vehicles_imp6_jsen = pd.read_csv('/content/drive/My Drive/Colab Notebooks/AIML/Git-public-work/vehicles_imp6_jsen.csv')\n",
        "vehicles_imp6_jsen.drop(['Unnamed: 0'], axis=1, inplace=True)\n",
        "vehicles_imp6_jsen.reset_index(drop=True)\n",
        "X1 = vehicles_imp6_jsen.drop(['price', 'cylinders_labenc', 'year'], axis = 1)\n",
        "y = vehicles_imp6_jsen['price']\n",
        "\n",
        "X_train, X_test, y_train, y_test = train_test_split(X1, y, test_size=0.3, random_state=22)\n",
        "\n",
        "\n",
        "train_mses = []\n",
        "test_mses = []\n",
        "#for degree in 1 - 3\n",
        "for i in range(1, 4):\n",
        "    poly_model = Pipeline([\n",
        "        ('Poly', PolynomialFeatures(degree=i)),\n",
        "        ('model', LinearRegression(fit_intercept=False))\n",
        "    ])\n",
        "    poly_model.fit(X_train,y_train)\n",
        "    p2 = poly_model.predict(X_test)\n",
        "\n",
        "    test_mses.append(mean_squared_error(y_test, p2))\n",
        "\n",
        "best_complexity = test_mses.index(min(test_mses)) + 1\n",
        "best_mse = min(test_mses)\n",
        "print('best_complexity', best_complexity)\n",
        "print('test_mses', test_mses)\n"
      ],
      "metadata": {
        "colab": {
          "base_uri": "https://localhost:8080/"
        },
        "id": "8LhO97g56IRy",
        "outputId": "4fb4b1b3-6bc7-4dfc-e223-e865b8ab4755"
      },
      "execution_count": 4,
      "outputs": [
        {
          "output_type": "stream",
          "name": "stdout",
          "text": [
            "Drive already mounted at /content/drive; to attempt to forcibly remount, call drive.mount(\"/content/drive\", force_remount=True).\n",
            "best_complexity 1\n",
            "test_mses [110657845740243.31, 110866731930317.33, 127293787324541.22]\n"
          ]
        }
      ]
    },
    {
      "cell_type": "code",
      "source": [
        "from sklearn.linear_model import LinearRegression\n",
        "from sklearn.pipeline import Pipeline\n",
        "from sklearn.preprocessing import PolynomialFeatures, OneHotEncoder, OrdinalEncoder\n",
        "from sklearn.metrics import mean_squared_error\n",
        "from sklearn.model_selection import train_test_split, GridSearchCV\n",
        "from sklearn.compose import make_column_transformer, make_column_selector\n",
        "from google.colab import drive\n",
        "import pandas as pd\n",
        "\n",
        "drive.mount('/content/drive')\n",
        "vehicles_imp6_jsen = pd.read_csv('/content/drive/My Drive/Colab Notebooks/AIML/Git-public-work/vehicles_imp6_jsen.csv')\n",
        "vehicles_imp6_jsen.drop(['Unnamed: 0'], axis=1, inplace=True)\n",
        "vehicles_imp6_jsen.reset_index(drop=True)\n",
        "X1 = vehicles_imp6_jsen[['region_state', 'odometer']]\n",
        "y = vehicles_imp6_jsen['price']\n",
        "\n",
        "X_train, X_test, y_train, y_test = train_test_split(X1, y, test_size=0.3, random_state=22)\n",
        "\n",
        "\n",
        "train_mses = []\n",
        "test_mses = []\n",
        "poly_model = Pipeline([\n",
        "      ('Poly', PolynomialFeatures(degree=1)),\n",
        "      ('model', LinearRegression(fit_intercept=False))\n",
        "  ])\n",
        "poly_model.fit(X_train,y_train)\n",
        "p2 = poly_model.predict(X_test)\n",
        "p1 = poly_model.predict(X_train)\n",
        "\n",
        "test_mse = mean_squared_error(y_test, p2)\n",
        "train_mse = mean_squared_error(y_train, p1)\n",
        "print('test_mse', test_mse)\n",
        "print('train_mse', train_mse)\n",
        "\n",
        "poly_model.get_params()\n",
        "\n",
        "param_grid = {'model__fit_intercept': [True, False], 'model__positive': [False, True]}\n",
        "for i in range(2, 11):\n",
        "    grid = GridSearchCV(poly_model, param_grid, cv=i)\n",
        "    grid.fit(X_train, y_train)\n",
        "    print(f\"Best score for cv={i}: {grid.best_score_}\")\n",
        "\n",
        "\n",
        ""
      ],
      "metadata": {
        "colab": {
          "base_uri": "https://localhost:8080/"
        },
        "id": "yJM4Myar_tpH",
        "outputId": "9e55ce20-c26f-485c-f5cc-bf973b1bb818"
      },
      "execution_count": 13,
      "outputs": [
        {
          "output_type": "stream",
          "name": "stdout",
          "text": [
            "Drive already mounted at /content/drive; to attempt to forcibly remount, call drive.mount(\"/content/drive\", force_remount=True).\n",
            "test_mse 110660202658226.55\n",
            "train_mse 225868724803337.34\n",
            "Best score for cv=2: -0.00037480509741483203\n",
            "Best score for cv=3: -0.0077546711135347834\n",
            "Best score for cv=4: -0.01049491333423333\n",
            "Best score for cv=5: -0.0056480785235154315\n",
            "Best score for cv=6: -1.7260406986328494\n",
            "Best score for cv=7: -1.48149373682018\n",
            "Best score for cv=8: -1.1033301327679168\n",
            "Best score for cv=9: -37.14214486118321\n",
            "Best score for cv=10: -45.8009733900844\n"
          ]
        }
      ]
    },
    {
      "cell_type": "markdown",
      "source": [
        "-ve model score suggest there may be a probem with the scoring metric for this data. With that said. Score closest to zero is a better score. In this case\n",
        "cv = 2 is better."
      ],
      "metadata": {
        "id": "vOs24wsZLMR6"
      }
    },
    {
      "cell_type": "code",
      "source": [
        "grid = GridSearchCV(poly_model, param_grid, cv=2)\n",
        "grid.fit(X_train, y_train)\n",
        "grid.best_params_"
      ],
      "metadata": {
        "colab": {
          "base_uri": "https://localhost:8080/"
        },
        "id": "s8B3LsulKqo-",
        "outputId": "1d35aa80-a860-4625-c243-db5e2bb56ad4"
      },
      "execution_count": 14,
      "outputs": [
        {
          "output_type": "execute_result",
          "data": {
            "text/plain": [
              "{'model__fit_intercept': False, 'model__positive': True}"
            ]
          },
          "metadata": {},
          "execution_count": 14
        }
      ]
    },
    {
      "cell_type": "markdown",
      "source": [
        "Hyper Parameters: 'model__fit_intercept': False & 'model__positive': True\n",
        "are False and True respectively are better values to get better prediction values with least error."
      ],
      "metadata": {
        "id": "e608r_3iLrCC"
      }
    },
    {
      "cell_type": "code",
      "source": [
        "from sklearn.linear_model import LinearRegression\n",
        "from sklearn.pipeline import Pipeline\n",
        "from sklearn.preprocessing import PolynomialFeatures, OneHotEncoder, OrdinalEncoder\n",
        "from sklearn.metrics import mean_squared_error\n",
        "from sklearn.model_selection import train_test_split, GridSearchCV\n",
        "from sklearn.compose import make_column_transformer, make_column_selector\n",
        "from google.colab import drive\n",
        "import pandas as pd\n",
        "\n",
        "drive.mount('/content/drive')\n",
        "vehicles_imp6_jsen = pd.read_csv('/content/drive/My Drive/Colab Notebooks/AIML/Git-public-work/vehicles_imp6_jsen.csv')\n",
        "vehicles_imp6_jsen.drop(['Unnamed: 0'], axis=1, inplace=True)\n",
        "vehicles_imp6_jsen.reset_index(drop=True)\n",
        "X1 = vehicles_imp6_jsen[['region_state', 'odometer']]\n",
        "y = vehicles_imp6_jsen['price']\n",
        "\n",
        "X_train, X_test, y_train, y_test = train_test_split(X1, y, test_size=0.3, random_state=22)\n",
        "\n",
        "\n",
        "train_mses = []\n",
        "test_mses = []\n",
        "poly_model = Pipeline([\n",
        "      ('Poly', PolynomialFeatures(degree=1)),\n",
        "      ('model', LinearRegression(fit_intercept=False, positive=True))\n",
        "\n",
        "  ])\n",
        "poly_model.fit(X_train,y_train)\n",
        "p2 = poly_model.predict(X_test)\n",
        "p1 = poly_model.predict(X_train)\n",
        "\n",
        "test_mse = mean_squared_error(y_test, p2)\n",
        "train_mse = mean_squared_error(y_train, p1)\n",
        "print('test_mse', test_mse)\n",
        "print('train_mse', train_mse)\n",
        "\n",
        "poly_model.get_params()"
      ],
      "metadata": {
        "colab": {
          "base_uri": "https://localhost:8080/"
        },
        "id": "etYyT7iJOJCV",
        "outputId": "a1ef8736-fd41-41b3-eea4-f7703fdeb33e"
      },
      "execution_count": 15,
      "outputs": [
        {
          "output_type": "stream",
          "name": "stdout",
          "text": [
            "Drive already mounted at /content/drive; to attempt to forcibly remount, call drive.mount(\"/content/drive\", force_remount=True).\n",
            "test_mse 110665904052923.72\n",
            "train_mse 225883281559372.72\n"
          ]
        },
        {
          "output_type": "execute_result",
          "data": {
            "text/plain": [
              "{'memory': None,\n",
              " 'steps': [('Poly', PolynomialFeatures(degree=1)),\n",
              "  ('model', LinearRegression(fit_intercept=False, positive=True))],\n",
              " 'verbose': False,\n",
              " 'Poly': PolynomialFeatures(degree=1),\n",
              " 'model': LinearRegression(fit_intercept=False, positive=True),\n",
              " 'Poly__degree': 1,\n",
              " 'Poly__include_bias': True,\n",
              " 'Poly__interaction_only': False,\n",
              " 'Poly__order': 'C',\n",
              " 'model__copy_X': True,\n",
              " 'model__fit_intercept': False,\n",
              " 'model__n_jobs': None,\n",
              " 'model__positive': True}"
            ]
          },
          "metadata": {},
          "execution_count": 15
        }
      ]
    },
    {
      "cell_type": "markdown",
      "source": [
        "**Best Model:** 'model', LinearRegression(fit_intercept=False, positive=True)\n",
        "**Best MSE test set score**: 110665904052923.72\n",
        "**Best Features** to select for better prediction: 'region_state', 'odometer'\n",
        "**Best Degree for the polunomial**: 1"
      ],
      "metadata": {
        "id": "Dt1THN_8O0lM"
      }
    },
    {
      "cell_type": "markdown",
      "metadata": {
        "id": "NV0NY3Syho9T"
      },
      "source": [
        "### Evaluation\n",
        "\n",
        "With some modeling accomplished, we aim to reflect on what we identify as a high quality model and what we are able to learn from this.  We should review our business objective and explore how well we can provide meaningful insight on drivers of used car prices.  Your goal now is to distill your findings and determine whether the earlier phases need revisitation and adjustment or if you have information of value to bring back to your client."
      ]
    },
    {
      "cell_type": "code",
      "execution_count": 102,
      "metadata": {
        "id": "cwfsHwtXho9T"
      },
      "outputs": [],
      "source": [
        ""
      ]
    },
    {
      "cell_type": "markdown",
      "source": [
        "**Understanding the Dataset for analysis and treating/cleaning**  \n",
        "1.Data Cleaning, dropping all rows with Nan/Zero values the size reduced from [426880 rows to 80170 rows] Dropping 82% of the data set would yield bad results. Hence Imputing values (with KNNImputer) that are missign/zero are essential. This was done to treat all zero and missing values in price and odometer.\n",
        "\n",
        "2.KNNImputer was also choosen to impute cylinders, size, condition, title_status & drive. KNNImputer also fixes missing values with feature mean.\n",
        "All these columns were also encoded with JamesSteinEncoder for Categorical encoding.\n",
        "\n",
        "3.Dropped color, model, id and VIN from the dataset that does not add value to the price of the car.\n",
        "\n",
        "4.Combined region and state to region_state, dropped individual region and state fields.\n",
        "\n",
        "**Choosing the Features and the right Model**\n",
        "1.Started with Ridge model, tried scalled and unscalled data. Scalled yielded better results. Permutation importance suggested reion_state and odometer to have the best impact on price and would be ideal to chooe to reduce model features. MSE for test data set was high\n",
        "\n",
        "2.Tried LASSO model with polynomial (degree=3) MSE for test data set was not any better.\n",
        "\n",
        "3.Tried simple linear regression, estimated VIF(variance Inflaction Factor)\n",
        " Features were reasonably corelated to each other. Performing correlation heat map I reduced the feature set by two (dropped cylinders and year) Post dropping VIF now was looking bettter than before.\n",
        "\n",
        " **Scoring model with reduced features**\n",
        " 1. Tried scoring on Ridge, LASSO, and Linear regression.\n",
        " 2. LinearRegression performend better (poly degree=1), MSE on test dataset improved slightly as well.\n",
        " 3. Performed GridSearch on hyperparameters on this LinearRegression model and decided on model__fit_intercept: False & model__positive: True this improved the model performance a ittle better with improved MSE on test dataset as well.\n",
        "\n",
        " **Summary**\n",
        " Input dataset for Analysis is missing critical large 80+% which contributes to a large extent negative model stability. Given the data set we can say region_state where used cars are sold and odomer reading are the most critical to get the best price for the car.\n",
        "\n",
        " Best model to use to predict would be LinearRegression, polunomial degree=1, hyper parameters model__fit_intercept: False & model__positive: True. Which means there has to be a compensating factor in addition to the data provided to get the best price of the used car.\n",
        "\n",
        " **Next Steps**\n",
        " Iterate throguh the model LinearRegression, go throguh grid search to identify better features combination. Then rerun the model to see if it would effectively improve the model score and MSE values.\n",
        "\n",
        " Next steps as seen below to iterate over Sequential Feature Selector with 3 features is making the test MSE worst. We are getting better results with two features and simple Linear Regression.\n"
      ],
      "metadata": {
        "id": "reJBb4oVPtCa"
      }
    },
    {
      "cell_type": "code",
      "execution_count": 23,
      "metadata": {
        "id": "2XOWODeTho9T",
        "colab": {
          "base_uri": "https://localhost:8080/",
          "height": 261
        },
        "outputId": "899f9f83-01e9-46d5-839e-d6d51260d6fc"
      },
      "outputs": [
        {
          "output_type": "stream",
          "name": "stdout",
          "text": [
            "Drive already mounted at /content/drive; to attempt to forcibly remount, call drive.mount(\"/content/drive\", force_remount=True).\n",
            "selector_train_mse 225976476575947.16\n",
            "selector_test_mse 110708549952295.33\n",
            "Pipeline(steps=[('selector',\n",
            "                 SequentialFeatureSelector(estimator=LinearRegression(),\n",
            "                                           n_features_to_select=3)),\n",
            "                ('model', LinearRegression())])\n",
            "Features from best selector: Index(['cylinders_labenc', 'size_labenc', 'condition_labenc'], dtype='object').\n",
            "Coefficient values: \n",
            "===================\n"
          ]
        },
        {
          "output_type": "execute_result",
          "data": {
            "text/plain": [
              "       cylinders_labenc  size_labenc  condition_labenc\n",
              "model      38289.464026  4210.623781     -22153.625028"
            ],
            "text/html": [
              "\n",
              "  <div id=\"df-e0d458a2-df0c-4ae9-938b-1354bc2a384b\" class=\"colab-df-container\">\n",
              "    <div>\n",
              "<style scoped>\n",
              "    .dataframe tbody tr th:only-of-type {\n",
              "        vertical-align: middle;\n",
              "    }\n",
              "\n",
              "    .dataframe tbody tr th {\n",
              "        vertical-align: top;\n",
              "    }\n",
              "\n",
              "    .dataframe thead th {\n",
              "        text-align: right;\n",
              "    }\n",
              "</style>\n",
              "<table border=\"1\" class=\"dataframe\">\n",
              "  <thead>\n",
              "    <tr style=\"text-align: right;\">\n",
              "      <th></th>\n",
              "      <th>cylinders_labenc</th>\n",
              "      <th>size_labenc</th>\n",
              "      <th>condition_labenc</th>\n",
              "    </tr>\n",
              "  </thead>\n",
              "  <tbody>\n",
              "    <tr>\n",
              "      <th>model</th>\n",
              "      <td>38289.464026</td>\n",
              "      <td>4210.623781</td>\n",
              "      <td>-22153.625028</td>\n",
              "    </tr>\n",
              "  </tbody>\n",
              "</table>\n",
              "</div>\n",
              "    <div class=\"colab-df-buttons\">\n",
              "\n",
              "  <div class=\"colab-df-container\">\n",
              "    <button class=\"colab-df-convert\" onclick=\"convertToInteractive('df-e0d458a2-df0c-4ae9-938b-1354bc2a384b')\"\n",
              "            title=\"Convert this dataframe to an interactive table.\"\n",
              "            style=\"display:none;\">\n",
              "\n",
              "  <svg xmlns=\"http://www.w3.org/2000/svg\" height=\"24px\" viewBox=\"0 -960 960 960\">\n",
              "    <path d=\"M120-120v-720h720v720H120Zm60-500h600v-160H180v160Zm220 220h160v-160H400v160Zm0 220h160v-160H400v160ZM180-400h160v-160H180v160Zm440 0h160v-160H620v160ZM180-180h160v-160H180v160Zm440 0h160v-160H620v160Z\"/>\n",
              "  </svg>\n",
              "    </button>\n",
              "\n",
              "  <style>\n",
              "    .colab-df-container {\n",
              "      display:flex;\n",
              "      gap: 12px;\n",
              "    }\n",
              "\n",
              "    .colab-df-convert {\n",
              "      background-color: #E8F0FE;\n",
              "      border: none;\n",
              "      border-radius: 50%;\n",
              "      cursor: pointer;\n",
              "      display: none;\n",
              "      fill: #1967D2;\n",
              "      height: 32px;\n",
              "      padding: 0 0 0 0;\n",
              "      width: 32px;\n",
              "    }\n",
              "\n",
              "    .colab-df-convert:hover {\n",
              "      background-color: #E2EBFA;\n",
              "      box-shadow: 0px 1px 2px rgba(60, 64, 67, 0.3), 0px 1px 3px 1px rgba(60, 64, 67, 0.15);\n",
              "      fill: #174EA6;\n",
              "    }\n",
              "\n",
              "    .colab-df-buttons div {\n",
              "      margin-bottom: 4px;\n",
              "    }\n",
              "\n",
              "    [theme=dark] .colab-df-convert {\n",
              "      background-color: #3B4455;\n",
              "      fill: #D2E3FC;\n",
              "    }\n",
              "\n",
              "    [theme=dark] .colab-df-convert:hover {\n",
              "      background-color: #434B5C;\n",
              "      box-shadow: 0px 1px 3px 1px rgba(0, 0, 0, 0.15);\n",
              "      filter: drop-shadow(0px 1px 2px rgba(0, 0, 0, 0.3));\n",
              "      fill: #FFFFFF;\n",
              "    }\n",
              "  </style>\n",
              "\n",
              "    <script>\n",
              "      const buttonEl =\n",
              "        document.querySelector('#df-e0d458a2-df0c-4ae9-938b-1354bc2a384b button.colab-df-convert');\n",
              "      buttonEl.style.display =\n",
              "        google.colab.kernel.accessAllowed ? 'block' : 'none';\n",
              "\n",
              "      async function convertToInteractive(key) {\n",
              "        const element = document.querySelector('#df-e0d458a2-df0c-4ae9-938b-1354bc2a384b');\n",
              "        const dataTable =\n",
              "          await google.colab.kernel.invokeFunction('convertToInteractive',\n",
              "                                                    [key], {});\n",
              "        if (!dataTable) return;\n",
              "\n",
              "        const docLinkHtml = 'Like what you see? Visit the ' +\n",
              "          '<a target=\"_blank\" href=https://colab.research.google.com/notebooks/data_table.ipynb>data table notebook</a>'\n",
              "          + ' to learn more about interactive tables.';\n",
              "        element.innerHTML = '';\n",
              "        dataTable['output_type'] = 'display_data';\n",
              "        await google.colab.output.renderOutput(dataTable, element);\n",
              "        const docLink = document.createElement('div');\n",
              "        docLink.innerHTML = docLinkHtml;\n",
              "        element.appendChild(docLink);\n",
              "      }\n",
              "    </script>\n",
              "  </div>\n",
              "\n",
              "    </div>\n",
              "  </div>\n"
            ]
          },
          "metadata": {},
          "execution_count": 23
        }
      ],
      "source": [
        "from sklearn.feature_selection import SequentialFeatureSelector\n",
        "from sklearn.preprocessing import StandardScaler\n",
        "from sklearn.model_selection import train_test_split, GridSearchCV\n",
        "from sklearn.linear_model import LinearRegression, Ridge\n",
        "from sklearn.metrics import mean_squared_error\n",
        "from sklearn.pipeline import Pipeline\n",
        "from sklearn import set_config\n",
        "set_config(display=\"diagram\")\n",
        "\n",
        "import matplotlib.pyplot as plt\n",
        "import pandas as pd\n",
        "import numpy as np\n",
        "\n",
        "\n",
        "drive.mount('/content/drive')\n",
        "vehicles_imp6_jsen = pd.read_csv('/content/drive/My Drive/Colab Notebooks/AIML/Git-public-work/vehicles_imp6_jsen.csv')\n",
        "vehicles_imp6_jsen.drop(['Unnamed: 0'], axis=1, inplace=True)\n",
        "vehicles_imp6_jsen.reset_index(drop=True)\n",
        "X1 = vehicles_imp6_jsen.drop(['price'], axis = 1) # Initial df\n",
        "y = vehicles_imp6_jsen['price']\n",
        "\n",
        "X_train, X_test, y_train, y_test = train_test_split(X1, y, test_size=0.3, random_state=22)\n",
        "\n",
        "best_estimator = ''\n",
        "best_selector = ''\n",
        "best_model = ''\n",
        "feature_names = ''\n",
        "coefs = ''\n",
        "\n",
        "selector_pipe = Pipeline([('selector', SequentialFeatureSelector(LinearRegression())),\n",
        "                         ('model', LinearRegression())])\n",
        "selector_pipe\n",
        "\n",
        "param_dict = {'selector__n_features_to_select': [2, 3, 4, 5]}\n",
        "selector_grid = GridSearchCV(selector_pipe, param_grid=param_dict)\n",
        "selector_grid.fit(X_train, y_train)\n",
        "train_preds = selector_grid.predict(X_train)\n",
        "test_preds = selector_grid.predict(X_test)\n",
        "selector_train_mse = mean_squared_error(y_train, train_preds)\n",
        "selector_test_mse = mean_squared_error(y_test, test_preds)\n",
        "print('selector_train_mse', selector_train_mse)\n",
        "print('selector_test_mse', selector_test_mse)\n",
        "\n",
        "### BEGIN SOLUTION\n",
        "best_estimator = selector_grid.best_estimator_\n",
        "best_selector = best_estimator.named_steps['selector']\n",
        "best_model = selector_grid.best_estimator_.named_steps['model']\n",
        "feature_names = X_train.columns[best_selector.get_support()]\n",
        "coefs = best_model.coef_\n",
        "### END SOLUTION\n",
        "\n",
        "# Answer check\n",
        "print(best_estimator)\n",
        "print(f'Features from best selector: {feature_names}.')\n",
        "print('Coefficient values: ')\n",
        "print('===================')\n",
        "pd.DataFrame([coefs.T], columns = feature_names, index = ['model'])\n"
      ]
    },
    {
      "cell_type": "code",
      "source": [
        "from sklearn.linear_model import LinearRegression\n",
        "from sklearn.pipeline import Pipeline\n",
        "from sklearn.preprocessing import PolynomialFeatures, OneHotEncoder, OrdinalEncoder\n",
        "from sklearn.metrics import mean_squared_error\n",
        "from sklearn.model_selection import train_test_split, GridSearchCV\n",
        "from sklearn.compose import make_column_transformer, make_column_selector\n",
        "from google.colab import drive\n",
        "import pandas as pd\n",
        "\n",
        "drive.mount('/content/drive')\n",
        "vehicles_imp6_jsen = pd.read_csv('/content/drive/My Drive/Colab Notebooks/AIML/Git-public-work/vehicles_imp6_jsen.csv')\n",
        "vehicles_imp6_jsen.drop(['Unnamed: 0'], axis=1, inplace=True)\n",
        "vehicles_imp6_jsen.reset_index(drop=True)\n",
        "X1 = vehicles_imp6_jsen[['cylinders_labenc', 'size_labenc', 'condition_labenc']]\n",
        "y = vehicles_imp6_jsen['price']\n",
        "\n",
        "X_train, X_test, y_train, y_test = train_test_split(X1, y, test_size=0.3, random_state=22)\n",
        "\n",
        "\n",
        "train_mses = []\n",
        "test_mses = []\n",
        "poly_model = Pipeline([\n",
        "      ('Poly', PolynomialFeatures(degree=1)),\n",
        "      ('model', LinearRegression(fit_intercept=False, positive=True))\n",
        "\n",
        "  ])\n",
        "poly_model.fit(X_train,y_train)\n",
        "p2 = poly_model.predict(X_test)\n",
        "p1 = poly_model.predict(X_train)\n",
        "\n",
        "test_mse = mean_squared_error(y_test, p2)\n",
        "train_mse = mean_squared_error(y_train, p1)\n",
        "print('test_mse', test_mse)\n",
        "print('train_mse', train_mse)\n",
        "\n",
        "poly_model.get_params()"
      ],
      "metadata": {
        "colab": {
          "base_uri": "https://localhost:8080/"
        },
        "id": "HwuicBiy2bfV",
        "outputId": "9c14ff7c-98f0-4a49-9b30-794a32fdb244"
      },
      "execution_count": 24,
      "outputs": [
        {
          "output_type": "stream",
          "name": "stdout",
          "text": [
            "Drive already mounted at /content/drive; to attempt to forcibly remount, call drive.mount(\"/content/drive\", force_remount=True).\n",
            "test_mse 110709248246897.78\n",
            "train_mse 225976928803183.84\n"
          ]
        },
        {
          "output_type": "execute_result",
          "data": {
            "text/plain": [
              "{'memory': None,\n",
              " 'steps': [('Poly', PolynomialFeatures(degree=1)),\n",
              "  ('model', LinearRegression(fit_intercept=False, positive=True))],\n",
              " 'verbose': False,\n",
              " 'Poly': PolynomialFeatures(degree=1),\n",
              " 'model': LinearRegression(fit_intercept=False, positive=True),\n",
              " 'Poly__degree': 1,\n",
              " 'Poly__include_bias': True,\n",
              " 'Poly__interaction_only': False,\n",
              " 'Poly__order': 'C',\n",
              " 'model__copy_X': True,\n",
              " 'model__fit_intercept': False,\n",
              " 'model__n_jobs': None,\n",
              " 'model__positive': True}"
            ]
          },
          "metadata": {},
          "execution_count": 24
        }
      ]
    },
    {
      "cell_type": "markdown",
      "source": [
        "**Starting MSE's**\n",
        "selector_train_mse 225976476575947.16\n",
        "selector_test_mse 110708549952295.33\n",
        "\n",
        "**Iteration 1 LinearRegression**\n",
        "**Recommendation:**\n",
        "First Run:** n_features_to_select=3\n",
        "Features from best selector: Index(['cylinders_labenc', 'size_labenc', 'condition_labenc'], dtype='object')\n",
        "\n",
        "**Iteration 2 LinearRegression**\n",
        "**Following Recomendation**\n",
        "Features from best selector: Index(['cylinders_labenc', 'size_labenc', 'condition_labenc'], dtype='object')\n",
        "test_mse 110709248246897.78  **test MSE is getting worst**\n",
        "train_mse 225976928803183.84\n",
        "\n",
        "\n",
        "\n",
        "\n"
      ],
      "metadata": {
        "id": "51iWoVh-zEof"
      }
    },
    {
      "cell_type": "code",
      "execution_count": null,
      "metadata": {
        "id": "BnQmOleMho9T"
      },
      "outputs": [],
      "source": []
    },
    {
      "cell_type": "code",
      "execution_count": null,
      "metadata": {
        "id": "v9QLxGgrho9T"
      },
      "outputs": [],
      "source": []
    },
    {
      "cell_type": "code",
      "execution_count": null,
      "metadata": {
        "id": "dsEyH3fhho9U"
      },
      "outputs": [],
      "source": []
    },
    {
      "cell_type": "code",
      "execution_count": null,
      "metadata": {
        "id": "l2rbZYaOho9U"
      },
      "outputs": [],
      "source": []
    },
    {
      "cell_type": "markdown",
      "metadata": {
        "id": "PB8DwuViho9U"
      },
      "source": [
        "### Deployment\n",
        "\n",
        "Now that we've settled on our models and findings, it is time to deliver the information to the client.  You should organize your work as a basic report that details your primary findings.  Keep in mind that your audience is a group of used car dealers interested in fine tuning their inventory."
      ]
    },
    {
      "cell_type": "markdown",
      "source": [
        "**Data Science and Input data**\n",
        "Input data is critical to data science, prediction models and stability of the prediction models. Other way of looking at it is garbege in garbege out.\n",
        "Quality data in will produce Quality prediction results and study.\n",
        "\n",
        "Input data has a total of 426880 records. Some of the critical data such as price and odometer has zero values, (7.7% and 0.46%) respectively. This can be effectively treated and we did that to derive meaningful results.\n",
        "\n",
        "Other critical fields have large number of null values such as size(71.76%), cylinders(41.62%), condition(40.78%), manufacturer(4.13%) and Drive(30.58%) With this many number of null values reasonable prediction becomes just below average and unstable. With that said we have tried our best to resonably predict and highlight what is important for the customers when they buy used cars.\n",
        "\n",
        "**Findings**\n",
        "Region and state where the used cars are seems to dictate the price. Great insights if you are planing to build inventory and or deciding to sell to that specific region. Odometer reading seems to be one of the highest indicator of the price and what customers will look for to aquire a car. The model also predicts just these two alone are not enough we do need to read other constraints or variables. Deduction from the top model.\n",
        "\n",
        "Other models that we researched considers cylinters, size and condition to be the top features that will decide the price of the used car.\n"
      ],
      "metadata": {
        "id": "9-bNfA74GPWS"
      }
    },
    {
      "cell_type": "code",
      "execution_count": null,
      "metadata": {
        "id": "CVd9nWE7ho9U"
      },
      "outputs": [],
      "source": []
    },
    {
      "cell_type": "code",
      "execution_count": null,
      "metadata": {
        "id": "CVbt6Fvzho9U"
      },
      "outputs": [],
      "source": []
    },
    {
      "cell_type": "code",
      "execution_count": null,
      "metadata": {
        "id": "XvhmGCexho9V"
      },
      "outputs": [],
      "source": []
    },
    {
      "cell_type": "code",
      "execution_count": null,
      "metadata": {
        "id": "ezqyyaxfho9V"
      },
      "outputs": [],
      "source": []
    },
    {
      "cell_type": "code",
      "execution_count": null,
      "metadata": {
        "id": "I2iAouj4ho9V"
      },
      "outputs": [],
      "source": []
    },
    {
      "cell_type": "code",
      "execution_count": null,
      "metadata": {
        "id": "lWjnrekgho9V"
      },
      "outputs": [],
      "source": []
    },
    {
      "cell_type": "code",
      "execution_count": null,
      "metadata": {
        "id": "3hDlFaegho9V"
      },
      "outputs": [],
      "source": []
    }
  ],
  "metadata": {
    "colab": {
      "provenance": [],
      "include_colab_link": true
    },
    "kernelspec": {
      "display_name": "Python 3 (ipykernel)",
      "language": "python",
      "name": "python3"
    },
    "language_info": {
      "codemirror_mode": {
        "name": "ipython",
        "version": 3
      },
      "file_extension": ".py",
      "mimetype": "text/x-python",
      "name": "python",
      "nbconvert_exporter": "python",
      "pygments_lexer": "ipython3",
      "version": "3.10.9"
    }
  },
  "nbformat": 4,
  "nbformat_minor": 0
}